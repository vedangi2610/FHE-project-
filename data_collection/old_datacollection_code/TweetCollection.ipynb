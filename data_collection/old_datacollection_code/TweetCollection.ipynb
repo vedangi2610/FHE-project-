{
 "cells": [
  {
   "cell_type": "markdown",
   "metadata": {
    "colab_type": "text",
    "id": "view-in-github"
   },
   "source": [
    "<a href=\"https://colab.research.google.com/github/vedangi2610/FHE-project-/blob/master/TweetCollection.ipynb\" target=\"_parent\"><img src=\"https://colab.research.google.com/assets/colab-badge.svg\" alt=\"Open In Colab\"/></a>"
   ]
  },
  {
   "cell_type": "markdown",
   "metadata": {
    "id": "rjyx3MDutJEM"
   },
   "source": [
    "TWEET COLLECTION (lets do this!)\n"
   ]
  },
  {
   "cell_type": "code",
   "execution_count": 1,
   "metadata": {
    "id": "iLmoAlW8skTx"
   },
   "outputs": [],
   "source": [
    "import tweepy\n",
    "import csv\n",
    "import pandas as pd"
   ]
  },
  {
   "cell_type": "code",
   "execution_count": 2,
   "metadata": {
    "id": "l7ZMXy4bxDJ_"
   },
   "outputs": [],
   "source": [
    "# Twitter API credentials\n",
    "consumer_key = \"gb0D5CHSg8ibPAQNS41Fv30aP\" #API key\n",
    "consumer_secret = \"yYxiRWAxUGr0n0pluX2lRmZkfPzJgh3gYY92iK15bBvId3qX34\" \n",
    "access_token = \"1265914852058337280-T4Qa48zoiKOGLvN774LUDo9WQLIxS8\" \n",
    "access_token_secret = \"sJJW1I4cGEq6Ru6yQju1f9NEXYHSmqdL6wRuPrwX9pAVm\""
   ]
  },
  {
   "cell_type": "code",
   "execution_count": 6,
   "metadata": {
    "id": "PHEZlNjbx81c"
   },
   "outputs": [],
   "source": [
    "# Function to extract tweets \n",
    "def get_tweets(username , filename): \n",
    "    \n",
    "        # Authorize twitter, initilaize tweepy \n",
    "        auth = tweepy.OAuthHandler(consumer_key, consumer_secret) \n",
    "        auth.set_access_token(access_token, access_token_secret) \n",
    "  \n",
    "        # Calling api \n",
    "        api = tweepy.API(auth) \n",
    "  \n",
    "        # 200 tweets to be extracted \n",
    "        number_of_tweets=200\n",
    "        tweets = api.user_timeline(screen_name=username, count=number_of_tweets) \n",
    "\n",
    "\n",
    "        '''Code for csv file addition'''\n",
    "        # Open/create a file to append data\n",
    "        # This will add data to the file Not create a new file each run\n",
    "        filename = filename+'.csv'        \n",
    "        csvFile = open(filename, 'a', encoding=\"utf-8\")\n",
    "        csvWriter = csv.writer(csvFile)\n",
    "        '''To check if file exists'''\n",
    "        try: \n",
    "            pd.read_csv(filename)\n",
    "        except pd.errors.EmptyDataError:\n",
    "            csvWriter.writerow([\"id\",\"username\",\"created_at\",\"text\",\"likes\",\"retweeted\"])\n",
    "            \n",
    "        for tweet in tweets:\n",
    "            csvWriter.writerow([tweet.id, tweet.user.screen_name, tweet.created_at, tweet.text, tweet.favorite_count, tweet.retweet_count])\n",
    "        csvFile.close()\n",
    "\n",
    "\n"
   ]
  },
  {
   "cell_type": "code",
   "execution_count": 4,
   "metadata": {
    "id": "gbDYtypt7MEF"
   },
   "outputs": [],
   "source": [
    "#Function to get tweets in its respective csv file for each topic using usernames array\n",
    "def get_topicwise_tweets(topic_array, topic):\n",
    "    for username in topic_array:\n",
    "        get_tweets(username, topic)\n",
    "    "
   ]
  },
  {
   "cell_type": "code",
   "execution_count": 5,
   "metadata": {
    "id": "ZwvHAyQBx_r1"
   },
   "outputs": [],
   "source": [
    "#@title Enter a username\n",
    "username = 'weedbiryani' #@param {type:\"string\"}\n",
    "get_tweets(username, 'result')\n",
    "topic_array = ['narendramodi', 'ShashiTharoor', 'JoeBiden', 'AtishiAAP']\n",
    "topic = 'politics'\n",
    "get_topicwise_tweets(topic_array, topic)"
   ]
  },
  {
   "cell_type": "code",
   "execution_count": null,
   "metadata": {},
   "outputs": [],
   "source": []
  }
 ],
 "metadata": {
  "colab": {
   "include_colab_link": true,
   "name": "TweetCollection.ipynb",
   "provenance": []
  },
  "kernelspec": {
   "display_name": "Python 3",
   "language": "python",
   "name": "python3"
  },
  "language_info": {
   "codemirror_mode": {
    "name": "ipython",
    "version": 3
   },
   "file_extension": ".py",
   "mimetype": "text/x-python",
   "name": "python",
   "nbconvert_exporter": "python",
   "pygments_lexer": "ipython3",
   "version": "3.7.3"
  }
 },
 "nbformat": 4,
 "nbformat_minor": 1
}
