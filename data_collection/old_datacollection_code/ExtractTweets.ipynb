{
 "cells": [
  {
   "cell_type": "code",
   "execution_count": 2,
   "metadata": {},
   "outputs": [],
   "source": [
    "import tweepy\n",
    "import csv"
   ]
  },
  {
   "cell_type": "code",
   "execution_count": 3,
   "metadata": {},
   "outputs": [],
   "source": [
    "consumer_key = \"FQrLvT4yDzE5Twx8d03Rdpa1l\" \n",
    "#API key:FQrLvT4yDzE5Twx8d03Rdpa1l\n",
    "consumer_secret = \"3vA9zzgN9uWL451kZavLuIyibaZMJmRsLLKoJi2v8jPlchLY6Q\"\n",
    "#API secret key:3vA9zzgN9uWL451kZavLuIyibaZMJmRsLLKoJi2v8jPlchLY6Q\n",
    "access_key = \"1265914852058337280-60VissfwPugxu2n7rKyn7psHVgtj4i\"\n",
    "#access token: 1265914852058337280-60VissfwPugxu2n7rKyn7psHVgtj4i\n",
    "access_secret = \"t4UEpVd0m6YgZuDEn4xNuhw2uOLA6PZlrvw9XMury1rUB\"\n",
    "#access token secret: t4UEpVd0m6YgZuDEn4xNuhw2uOLA6PZlrvw9XMury1rUB"
   ]
  },
  {
   "cell_type": "code",
   "execution_count": 16,
   "metadata": {},
   "outputs": [
    {
     "name": "stdout",
     "output_type": "stream",
     "text": [
      "<class 'tweepy.models.ResultSet'>\n"
     ]
    }
   ],
   "source": [
    "# Function to extract tweets \n",
    "def get_tweets(username): \n",
    "    # Authorization to consumer key and consumer secret \n",
    "        auth = tweepy.OAuthHandler(consumer_key, consumer_secret) \n",
    "  \n",
    "        # Access to user's access key and access secret \n",
    "        auth.set_access_token(access_key, access_secret) \n",
    "  \n",
    "        # Calling api \n",
    "        api = tweepy.API(auth) \n",
    "  \n",
    "        # 200 tweets to be extracted \n",
    "        number_of_tweets=200\n",
    "        tweets = api.user_timeline(screen_name=username) \n",
    "  \n",
    "        # Empty Array \n",
    "        tmp=[]  \n",
    "  \n",
    "        # create array of tweet information: username,  \n",
    "        # tweet id, date/time, text \n",
    "        tweets_for_csv = [tweet.text for tweet in tweets] # CSV file created  \n",
    "        for j in tweets_for_csv: \n",
    "  \n",
    "            # Appending tweets to the empty array tmp \n",
    "            tmp.append(j)  \n",
    "  \n",
    "        # Printing the tweets \n",
    "        # print(tmp)\n",
    "        # print(tweets)\n",
    "        print(type(tweets))\n",
    "        # print(tweets_for_csv)\n",
    "        \n",
    "        '''Code for csv file addition'''\n",
    "        # Open/create a file to append data to\n",
    "        csvFile = open('result.csv', 'a', encoding=\"utf-8\")\n",
    "        csvWriter = csv.writer(csvFile)\n",
    "        csvWriter.writerow([\"id\",\"created_at\",\"text\",\"likes\",\"retweeted\"])\n",
    "        for tweet in tweets:\n",
    "            csvWriter.writerow([tweet.id, tweet.created_at, tweet.text, tweet.favorite_count, tweet.retweet_count])\n",
    "        csvFile.close()\n",
    "\n",
    "\n",
    "if __name__ == '__main__': \n",
    "    get_tweets(\"weedbiryani\")"
   ]
  },
  {
   "cell_type": "code",
   "execution_count": null,
   "metadata": {},
   "outputs": [],
   "source": []
  },
  {
   "cell_type": "code",
   "execution_count": null,
   "metadata": {},
   "outputs": [],
   "source": []
  }
 ],
 "metadata": {
  "kernelspec": {
   "display_name": "Python 3",
   "language": "python",
   "name": "python3"
  },
  "language_info": {
   "codemirror_mode": {
    "name": "ipython",
    "version": 3
   },
   "file_extension": ".py",
   "mimetype": "text/x-python",
   "name": "python",
   "nbconvert_exporter": "python",
   "pygments_lexer": "ipython3",
   "version": "3.7.3"
  }
 },
 "nbformat": 4,
 "nbformat_minor": 2
}
