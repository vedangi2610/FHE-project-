{
 "cells": [
  {
   "cell_type": "code",
   "execution_count": 6,
   "metadata": {},
   "outputs": [],
   "source": [
    "import tweepy"
   ]
  },
  {
   "cell_type": "code",
   "execution_count": 7,
   "metadata": {},
   "outputs": [],
   "source": [
    "consumer_key = \"FQrLvT4yDzE5Twx8d03Rdpa1l\" \n",
    "consumer_secret = \"3vA9zzgN9uWL451kZavLuIyibaZMJmRsLLKoJi2v8jPlchLY6Q\" \n",
    "access_token = \"1265914852058337280-60VissfwPugxu2n7rKyn7psHVgtj4i\" \n",
    "access_token_secret = \"t4UEpVd0m6YgZuDEn4xNuhw2uOLA6PZlrvw9XMury1rUB\""
   ]
  },
  {
   "cell_type": "code",
   "execution_count": 8,
   "metadata": {},
   "outputs": [
    {
     "name": "stdout",
     "output_type": "stream",
     "text": [
      "['YashJan62963534', 'Aakanksha_28', 'ParthPendse', 'KinjalP09401647', 'bionicbeaver5', 'Abhishekshake', 'lokesssssshhh', 'shantenu3188', 'Vishprabh', 'RodriVicerla', 'certifiedqtiya', 'madhekaradvait', 'sinskaaarii', 'sthaaaaa_aaa', 'rcvibrants_', 'posapon_larry', 'runjanrai', 'thebossssbitch', 'dad_of_demons19', 'hyperlad']\n"
     ]
    }
   ],
   "source": [
    "auth = tweepy.OAuthHandler(consumer_key, consumer_secret) \n",
    "auth.set_access_token(access_token, access_token_secret) \n",
    "  \n",
    "api = tweepy.API(auth) \n",
    "\n",
    "screen_name = \"weedbiryani\"\n",
    "\n",
    "users=[]\n",
    "\n",
    "# printing the latest 20 followers of the user \n",
    "for follower in api.followers(screen_name): \n",
    "    users.append(follower.screen_name)\n",
    "    #print(follower.screen_name)\n",
    "    \n",
    "print(users)"
   ]
  },
  {
   "cell_type": "code",
   "execution_count": null,
   "metadata": {},
   "outputs": [],
   "source": []
  }
 ],
 "metadata": {
  "kernelspec": {
   "display_name": "Python 3",
   "language": "python",
   "name": "python3"
  },
  "language_info": {
   "codemirror_mode": {
    "name": "ipython",
    "version": 3
   },
   "file_extension": ".py",
   "mimetype": "text/x-python",
   "name": "python",
   "nbconvert_exporter": "python",
   "pygments_lexer": "ipython3",
   "version": "3.6.5"
  }
 },
 "nbformat": 4,
 "nbformat_minor": 2
}
