{
  "nbformat": 4,
  "nbformat_minor": 0,
  "metadata": {
    "colab": {
      "name": "ClusteringIV.ipynb",
      "provenance": [],
      "collapsed_sections": [],
      "include_colab_link": true
    },
    "kernelspec": {
      "name": "python3",
      "display_name": "Python 3"
    },
    "language_info": {
      "name": "python"
    }
  },
  "cells": [
    {
      "cell_type": "markdown",
      "metadata": {
        "id": "view-in-github",
        "colab_type": "text"
      },
      "source": [
        "<a href=\"https://colab.research.google.com/github/vedangi2610/FHE-project-/blob/master/ClusteringIV.ipynb\" target=\"_parent\"><img src=\"https://colab.research.google.com/assets/colab-badge.svg\" alt=\"Open In Colab\"/></a>"
      ]
    },
    {
      "cell_type": "code",
      "metadata": {
        "id": "-Apor_jw1VZR"
      },
      "source": [
        "import numpy as np\n",
        "import pandas as pd\n",
        "import numpy.matlib\n",
        "import matplotlib.pyplot as plt\n",
        "import seaborn as sns\n",
        "interest_vector = pd.read_csv('https://raw.githubusercontent.com/vedangi2610/FHE-project-/master/interest_vector/interest_vector.csv')"
      ],
      "execution_count": 1,
      "outputs": []
    },
    {
      "cell_type": "code",
      "metadata": {
        "colab": {
          "base_uri": "https://localhost:8080/",
          "height": 204
        },
        "id": "OPTgYq6Udj4b",
        "outputId": "289def36-131d-4184-a017-598e3d5828b9"
      },
      "source": [
        "interest_vector.reset_index(level=0, inplace=True) #adding index as column\n",
        "interest_vector.head()\n"
      ],
      "execution_count": 2,
      "outputs": [
        {
          "output_type": "execute_result",
          "data": {
            "text/html": [
              "<div>\n",
              "<style scoped>\n",
              "    .dataframe tbody tr th:only-of-type {\n",
              "        vertical-align: middle;\n",
              "    }\n",
              "\n",
              "    .dataframe tbody tr th {\n",
              "        vertical-align: top;\n",
              "    }\n",
              "\n",
              "    .dataframe thead th {\n",
              "        text-align: right;\n",
              "    }\n",
              "</style>\n",
              "<table border=\"1\" class=\"dataframe\">\n",
              "  <thead>\n",
              "    <tr style=\"text-align: right;\">\n",
              "      <th></th>\n",
              "      <th>index</th>\n",
              "      <th>username</th>\n",
              "      <th>interest_vector</th>\n",
              "      <th>Politics</th>\n",
              "      <th>Entertainment</th>\n",
              "      <th>Healthcare</th>\n",
              "      <th>Sports</th>\n",
              "      <th>Entrepreneurship</th>\n",
              "      <th>ScienceandTech</th>\n",
              "    </tr>\n",
              "  </thead>\n",
              "  <tbody>\n",
              "    <tr>\n",
              "      <th>0</th>\n",
              "      <td>0</td>\n",
              "      <td>viewfinderfc</td>\n",
              "      <td>[0.24, 0.54, 0.17, 0.26, 0.31, 0.25]</td>\n",
              "      <td>0.24</td>\n",
              "      <td>0.54</td>\n",
              "      <td>0.17</td>\n",
              "      <td>0.26</td>\n",
              "      <td>0.31</td>\n",
              "      <td>0.25</td>\n",
              "    </tr>\n",
              "    <tr>\n",
              "      <th>1</th>\n",
              "      <td>1</td>\n",
              "      <td>FHF_Official</td>\n",
              "      <td>[0.18, 0.48, 0.13, 0.18, 0.2, 0.19]</td>\n",
              "      <td>0.18</td>\n",
              "      <td>0.48</td>\n",
              "      <td>0.13</td>\n",
              "      <td>0.18</td>\n",
              "      <td>0.20</td>\n",
              "      <td>0.19</td>\n",
              "    </tr>\n",
              "    <tr>\n",
              "      <th>2</th>\n",
              "      <td>2</td>\n",
              "      <td>lisaschwarzbaum</td>\n",
              "      <td>[0.48, 0.62, 0.34, 0.43, 0.57, 0.48]</td>\n",
              "      <td>0.48</td>\n",
              "      <td>0.62</td>\n",
              "      <td>0.34</td>\n",
              "      <td>0.43</td>\n",
              "      <td>0.57</td>\n",
              "      <td>0.48</td>\n",
              "    </tr>\n",
              "    <tr>\n",
              "      <th>3</th>\n",
              "      <td>3</td>\n",
              "      <td>zlatko_minev</td>\n",
              "      <td>[0.26, 0.33, 0.22, 0.24, 0.38, 0.34]</td>\n",
              "      <td>0.26</td>\n",
              "      <td>0.33</td>\n",
              "      <td>0.22</td>\n",
              "      <td>0.24</td>\n",
              "      <td>0.38</td>\n",
              "      <td>0.34</td>\n",
              "    </tr>\n",
              "    <tr>\n",
              "      <th>4</th>\n",
              "      <td>4</td>\n",
              "      <td>tanyabasu</td>\n",
              "      <td>[0.49, 0.58, 0.44, 0.44, 0.64, 0.63]</td>\n",
              "      <td>0.49</td>\n",
              "      <td>0.58</td>\n",
              "      <td>0.44</td>\n",
              "      <td>0.44</td>\n",
              "      <td>0.64</td>\n",
              "      <td>0.63</td>\n",
              "    </tr>\n",
              "  </tbody>\n",
              "</table>\n",
              "</div>"
            ],
            "text/plain": [
              "   index         username  ... Entrepreneurship  ScienceandTech\n",
              "0      0     viewfinderfc  ...             0.31            0.25\n",
              "1      1     FHF_Official  ...             0.20            0.19\n",
              "2      2  lisaschwarzbaum  ...             0.57            0.48\n",
              "3      3     zlatko_minev  ...             0.38            0.34\n",
              "4      4        tanyabasu  ...             0.64            0.63\n",
              "\n",
              "[5 rows x 9 columns]"
            ]
          },
          "metadata": {
            "tags": []
          },
          "execution_count": 2
        }
      ]
    },
    {
      "cell_type": "code",
      "metadata": {
        "id": "skUpJhZ31XvA",
        "colab": {
          "base_uri": "https://localhost:8080/"
        },
        "outputId": "93268bf4-818d-4718-9584-0680bf5c953a"
      },
      "source": [
        "cluster_data = interest_vector[['Politics','Entertainment','Healthcare','Sports','Entrepreneurship','ScienceandTech']].copy(deep=True)\n",
        "#cluster_data.dropna(axis=0, inplace=True)\n",
        "#cluster_data.sort_values(by=['Politics','Entertainment','Healthcare','Sports','Entrepreneurship','ScienceandTech'], inplace=True)\n",
        "cluster_array = np.array(cluster_data)\n",
        "print(cluster_array)"
      ],
      "execution_count": 3,
      "outputs": [
        {
          "output_type": "stream",
          "text": [
            "[[0.24 0.54 0.17 0.26 0.31 0.25]\n",
            " [0.18 0.48 0.13 0.18 0.2  0.19]\n",
            " [0.48 0.62 0.34 0.43 0.57 0.48]\n",
            " [0.26 0.33 0.22 0.24 0.38 0.34]\n",
            " [0.49 0.58 0.44 0.44 0.64 0.63]\n",
            " [0.44 0.48 0.42 0.4  0.58 0.56]\n",
            " [0.29 0.37 0.22 0.27 0.45 0.31]\n",
            " [0.45 0.45 0.36 0.41 0.6  0.47]\n",
            " [0.33 0.39 0.26 0.27 0.58 0.37]\n",
            " [0.32 0.29 0.47 0.29 0.39 0.41]\n",
            " [0.45 0.36 0.72 0.35 0.51 0.55]\n",
            " [0.49 0.38 0.71 0.37 0.49 0.54]\n",
            " [0.33 0.42 0.25 0.56 0.42 0.35]\n",
            " [0.36 0.45 0.26 0.52 0.47 0.36]\n",
            " [0.25 0.32 0.19 0.35 0.33 0.25]\n",
            " [0.61 0.45 0.44 0.39 0.54 0.48]\n",
            " [0.34 0.25 0.34 0.25 0.26 0.29]\n",
            " [0.29 0.21 0.33 0.22 0.22 0.26]\n",
            " [0.43 0.38 0.33 0.31 0.46 0.46]\n",
            " [0.31 0.25 0.4  0.25 0.28 0.31]\n",
            " [0.27 0.26 0.22 0.29 0.33 0.34]\n",
            " [0.16 0.24 0.14 0.19 0.22 0.28]\n",
            " [0.42 0.41 0.58 0.35 0.51 0.57]\n",
            " [0.49 0.55 0.45 0.42 0.65 0.56]\n",
            " [0.35 0.42 0.32 0.33 0.49 0.5 ]\n",
            " [0.45 0.46 0.49 0.38 0.59 0.62]\n",
            " [0.36 0.38 0.35 0.32 0.47 0.44]\n",
            " [0.24 0.3  0.24 0.22 0.37 0.33]\n",
            " [0.41 0.48 0.36 0.36 0.58 0.52]\n",
            " [0.5  0.49 0.53 0.41 0.63 0.59]\n",
            " [0.54 0.4  0.83 0.38 0.53 0.62]\n",
            " [0.42 0.49 0.36 0.38 0.61 0.52]\n",
            " [0.41 0.49 0.44 0.4  0.59 0.59]\n",
            " [0.32 0.37 0.35 0.28 0.46 0.51]\n",
            " [0.27 0.33 0.3  0.23 0.37 0.4 ]\n",
            " [0.49 0.36 0.33 0.29 0.47 0.39]\n",
            " [0.42 0.43 0.54 0.39 0.6  0.52]\n",
            " [0.42 0.49 0.34 0.38 0.66 0.46]\n",
            " [0.4  0.37 0.56 0.33 0.59 0.5 ]\n",
            " [0.44 0.51 0.39 0.38 0.71 0.5 ]\n",
            " [0.47 0.53 0.36 0.36 0.65 0.45]\n",
            " [0.3  0.23 0.32 0.22 0.35 0.34]\n",
            " [0.22 0.28 0.18 0.22 0.37 0.25]\n",
            " [0.4  0.46 0.39 0.43 0.66 0.52]\n",
            " [0.3  0.38 0.24 0.3  0.48 0.33]\n",
            " [0.32 0.37 0.34 0.36 0.54 0.42]\n",
            " [0.36 0.43 0.29 0.34 0.54 0.41]\n",
            " [0.38 0.45 0.36 0.44 0.6  0.46]\n",
            " [0.31 0.33 0.41 0.3  0.47 0.42]\n",
            " [0.41 0.47 0.37 0.38 0.54 0.47]\n",
            " [0.41 0.48 0.36 0.4  0.55 0.48]\n",
            " [0.06 0.07 0.08 0.06 0.12 0.19]\n",
            " [0.38 0.27 0.52 0.29 0.39 0.42]\n",
            " [0.43 0.37 0.66 0.36 0.47 0.54]\n",
            " [0.42 0.39 0.64 0.34 0.51 0.57]\n",
            " [0.48 0.34 0.57 0.4  0.4  0.47]\n",
            " [0.41 0.35 0.57 0.32 0.48 0.49]\n",
            " [0.34 0.28 0.65 0.26 0.37 0.55]\n",
            " [0.15 0.15 0.25 0.12 0.17 0.2 ]\n",
            " [0.34 0.31 0.46 0.25 0.36 0.33]\n",
            " [0.37 0.4  0.49 0.31 0.5  0.59]\n",
            " [0.12 0.12 0.14 0.12 0.19 0.16]\n",
            " [0.42 0.33 0.65 0.36 0.4  0.46]\n",
            " [0.25 0.25 0.2  0.2  0.28 0.23]\n",
            " [0.32 0.24 0.62 0.22 0.33 0.38]\n",
            " [0.4  0.48 0.38 0.38 0.63 0.49]\n",
            " [0.31 0.45 0.22 0.4  0.42 0.28]\n",
            " [0.36 0.41 0.27 0.39 0.45 0.35]\n",
            " [0.34 0.43 0.27 0.56 0.46 0.36]\n",
            " [0.34 0.46 0.26 0.45 0.49 0.36]\n",
            " [0.11 0.14 0.08 0.2  0.12 0.09]\n",
            " [0.12 0.17 0.09 0.23 0.13 0.11]\n",
            " [0.04 0.05 0.03 0.14 0.08 0.04]\n",
            " [0.38 0.46 0.28 0.44 0.49 0.37]\n",
            " [0.1  0.14 0.08 0.17 0.14 0.1 ]\n",
            " [0.39 0.39 0.27 0.35 0.43 0.35]\n",
            " [0.26 0.31 0.26 0.42 0.31 0.26]\n",
            " [0.3  0.38 0.24 0.34 0.4  0.31]\n",
            " [0.26 0.34 0.2  0.45 0.36 0.28]\n",
            " [0.35 0.47 0.27 0.46 0.5  0.37]\n",
            " [0.3  0.3  0.21 0.37 0.32 0.27]\n",
            " [0.08 0.05 0.08 0.11 0.06 0.06]\n",
            " [0.21 0.24 0.15 0.39 0.23 0.2 ]\n",
            " [0.55 0.32 0.31 0.26 0.4  0.33]\n",
            " [0.67 0.3  0.36 0.29 0.36 0.37]\n",
            " [0.68 0.4  0.43 0.35 0.48 0.47]\n",
            " [0.67 0.32 0.34 0.29 0.4  0.34]\n",
            " [0.3  0.22 0.4  0.25 0.26 0.27]\n",
            " [0.25 0.16 0.23 0.17 0.15 0.18]\n",
            " [0.27 0.16 0.47 0.41 0.22 0.27]\n",
            " [0.49 0.41 0.38 0.38 0.48 0.46]\n",
            " [0.75 0.34 0.44 0.34 0.4  0.44]\n",
            " [0.46 0.35 0.61 0.33 0.38 0.4 ]\n",
            " [0.5  0.27 0.31 0.26 0.34 0.31]\n",
            " [0.44 0.29 0.3  0.25 0.35 0.32]\n",
            " [0.52 0.39 0.45 0.35 0.49 0.45]\n",
            " [0.5  0.37 0.36 0.38 0.41 0.39]\n",
            " [0.43 0.29 0.67 0.31 0.32 0.45]\n",
            " [0.17 0.41 0.12 0.2  0.26 0.18]\n",
            " [0.16 0.47 0.14 0.22 0.17 0.21]\n",
            " [0.51 0.59 0.34 0.4  0.59 0.47]\n",
            " [0.23 0.39 0.21 0.32 0.33 0.32]\n",
            " [0.41 0.69 0.34 0.42 0.5  0.43]\n",
            " [0.17 0.23 0.23 0.18 0.21 0.18]\n",
            " [0.28 0.36 0.19 0.26 0.32 0.26]\n",
            " [0.22 0.46 0.17 0.22 0.3  0.24]\n",
            " [0.2  0.38 0.13 0.15 0.29 0.15]\n",
            " [0.27 0.61 0.21 0.26 0.39 0.3 ]\n",
            " [0.24 0.6  0.19 0.31 0.3  0.28]\n",
            " [0.21 0.48 0.16 0.27 0.26 0.26]\n",
            " [0.27 0.38 0.19 0.23 0.37 0.25]\n",
            " [0.38 0.66 0.32 0.44 0.46 0.4 ]\n",
            " [0.31 0.54 0.24 0.31 0.49 0.35]\n",
            " [0.38 0.64 0.31 0.38 0.56 0.43]]\n"
          ],
          "name": "stdout"
        }
      ]
    },
    {
      "cell_type": "code",
      "metadata": {
        "colab": {
          "base_uri": "https://localhost:8080/"
        },
        "id": "lDK_e3gZk9zH",
        "outputId": "72c746a6-267a-44c6-b94c-7099d8572271"
      },
      "source": [
        "print(interest_vector.info())"
      ],
      "execution_count": 10,
      "outputs": [
        {
          "output_type": "stream",
          "text": [
            "<class 'pandas.core.frame.DataFrame'>\n",
            "RangeIndex: 114 entries, 0 to 113\n",
            "Data columns (total 9 columns):\n",
            " #   Column            Non-Null Count  Dtype  \n",
            "---  ------            --------------  -----  \n",
            " 0   index             114 non-null    int64  \n",
            " 1   username          114 non-null    object \n",
            " 2   interest_vector   114 non-null    object \n",
            " 3   Politics          114 non-null    float64\n",
            " 4   Entertainment     114 non-null    float64\n",
            " 5   Healthcare        114 non-null    float64\n",
            " 6   Sports            114 non-null    float64\n",
            " 7   Entrepreneurship  114 non-null    float64\n",
            " 8   ScienceandTech    114 non-null    float64\n",
            "dtypes: float64(6), int64(1), object(2)\n",
            "memory usage: 8.1+ KB\n",
            "None\n"
          ],
          "name": "stdout"
        }
      ]
    },
    {
      "cell_type": "markdown",
      "metadata": {
        "id": "6NPL7acHfgBq"
      },
      "source": [
        "CLUSTERING 1"
      ]
    },
    {
      "cell_type": "code",
      "metadata": {
        "id": "Z9fcctVi1i7v"
      },
      "source": [
        "def calc_distance(X1, X2):\n",
        "    return (sum((X1 - X2)**2))**0.5"
      ],
      "execution_count": 5,
      "outputs": []
    },
    {
      "cell_type": "code",
      "metadata": {
        "id": "f2s9gHn_1n5O"
      },
      "source": [
        "# Assign cluster clusters based on closest centroid\n",
        "def assign_clusters(centroids, cluster_array):\n",
        "    clusters = []\n",
        "    for i in range(cluster_array.shape[0]):\n",
        "        distances = []\n",
        "        for centroid in centroids:\n",
        "            distances.append(calc_distance(centroid, \n",
        "                                           cluster_array[i]))\n",
        "        cluster = [z for z, val in enumerate(distances) if val==min(distances)]\n",
        "        clusters.append(cluster[0])\n",
        "    return clusters"
      ],
      "execution_count": 6,
      "outputs": []
    },
    {
      "cell_type": "code",
      "metadata": {
        "id": "-tFjrS-w1ono"
      },
      "source": [
        "# Calculate new centroids based on each cluster's mean\n",
        "def calc_centroids(clusters, cluster_array):\n",
        "    new_centroids = []\n",
        "    cluster_df = pd.concat([pd.DataFrame(cluster_array),\n",
        "                            pd.DataFrame(clusters, \n",
        "                                         columns=['cluster'])], \n",
        "                           axis=1)\n",
        "    for c in set(cluster_df['cluster']):\n",
        "        current_cluster = cluster_df[cluster_df['cluster']\\\n",
        "                                     ==c][cluster_df.columns[:-1]]\n",
        "        cluster_mean = current_cluster.mean(axis=0)\n",
        "        new_centroids.append(cluster_mean)\n",
        "    return new_centroids"
      ],
      "execution_count": 7,
      "outputs": []
    },
    {
      "cell_type": "code",
      "metadata": {
        "id": "FN5Q9rku1sUY"
      },
      "source": [
        "# Calculate variance within each cluster\n",
        "def calc_centroid_variance(clusters, cluster_array):\n",
        "    sum_squares = []\n",
        "    cluster_df = pd.concat([pd.DataFrame(cluster_array),\n",
        "                            pd.DataFrame(clusters, \n",
        "                                         columns=['cluster'])], \n",
        "                           axis=1)\n",
        "    for c in set(cluster_df['cluster']):\n",
        "        current_cluster = cluster_df[cluster_df['cluster']\\\n",
        "                                     ==c][cluster_df.columns[:-1]]\n",
        "        cluster_mean = current_cluster.mean(axis=0)\n",
        "        mean_repmat = np.matlib.repmat(cluster_mean, \n",
        "                                       current_cluster.shape[0],1)\n",
        "        sum_squares.append(np.sum(np.sum((current_cluster - mean_repmat)**2)))\n",
        "    return sum_squares"
      ],
      "execution_count": 8,
      "outputs": []
    },
    {
      "cell_type": "code",
      "metadata": {
        "colab": {
          "base_uri": "https://localhost:8080/"
        },
        "id": "8rPal17f114R",
        "outputId": "9c9bd4c8-7af0-4399-f3aa-0032e5fadf95"
      },
      "source": [
        "k = 6\n",
        "cluster_vars = []\n",
        "centroids = [cluster_array[i+2] for i in range(k)]\n",
        "clusters = assign_clusters(centroids, cluster_array)\n",
        "initial_clusters = clusters\n",
        "print(0, round(np.mean(calc_centroid_variance(clusters, cluster_array))))\n",
        "for i in range(20): #running the loop 20 times for covergence to obtain optimal clusters\n",
        "    centroids = calc_centroids(clusters, cluster_array)\n",
        "    clusters = assign_clusters(centroids, cluster_array)\n",
        "    cluster_var = np.mean(calc_centroid_variance(clusters, \n",
        "                                                 cluster_array))\n",
        "    cluster_vars.append(cluster_var)\n",
        "    print(i+1, round(cluster_var))"
      ],
      "execution_count": 9,
      "outputs": [
        {
          "output_type": "stream",
          "text": [
            "0 1\n",
            "1 1\n",
            "2 1\n",
            "3 1\n",
            "4 1\n",
            "5 1\n",
            "6 1\n",
            "7 1\n",
            "8 1\n",
            "9 1\n",
            "10 1\n",
            "11 1\n",
            "12 1\n",
            "13 1\n",
            "14 1\n",
            "15 1\n",
            "16 1\n",
            "17 1\n",
            "18 1\n",
            "19 1\n",
            "20 1\n"
          ],
          "name": "stdout"
        }
      ]
    },
    {
      "cell_type": "code",
      "metadata": {
        "colab": {
          "base_uri": "https://localhost:8080/"
        },
        "id": "Iepfqu6umvHF",
        "outputId": "edd72464-217a-4294-d1e5-9ef38f2a95b6"
      },
      "source": [
        "print(cluster_var)"
      ],
      "execution_count": 13,
      "outputs": [
        {
          "output_type": "stream",
          "text": [
            "0.5767171473429952\n"
          ],
          "name": "stdout"
        }
      ]
    },
    {
      "cell_type": "markdown",
      "metadata": {
        "id": "zfZlWpEUfj7m"
      },
      "source": [
        "CLUSTERING 2\n"
      ]
    },
    {
      "cell_type": "code",
      "metadata": {
        "id": "87vqZw1oflx-",
        "outputId": "7076dc37-fc38-4a48-9b0f-114cdd8e6550",
        "colab": {
          "base_uri": "https://localhost:8080/",
          "height": 357
        }
      },
      "source": [
        "import matplotlib.pyplot as plt\n",
        "from sklearn.cluster import KMeans\n",
        "from mpl_toolkits.mplot3d import Axes3D\n",
        "#%matplotlib widget\n",
        "colors = ['#DF2020', '#81DF20', '#2095DF']\n",
        "kmeans = KMeans(n_clusters=3, random_state=0)\n",
        "interest_vector['cluster'] = kmeans.fit_predict(interest_vector[['Politics', 'Healthcare', 'Sports']])\n",
        "interest_vector['c'] = interest_vector.cluster.map({0:colors[0], 1:colors[1], 2:colors[2]})\n",
        "fig = plt.figure(figsize=(26,6))\n",
        "ax = fig.add_subplot(131, projection='3d')\n",
        "ax.scatter(interest_vector.Politics, interest_vector.Healthcare, interest_vector.Sports, c=interest_vector.c, s=15)\n",
        "ax.set_xlabel('Politics')\n",
        "ax.set_ylabel('Healthcare')\n",
        "ax.set_zlabel('Sports')\n",
        "plt.show()\n"
      ],
      "execution_count": 14,
      "outputs": [
        {
          "output_type": "display_data",
          "data": {
            "image/png": "[encoded data removed]",
            "text/plain": [
              "<Figure size 1872x432 with 1 Axes>"
            ]
          },
          "metadata": {
            "tags": [],
            "needs_background": "light"
          }
        }
      ]
    },
    {
      "cell_type": "markdown",
      "metadata": {
        "id": "mEPEfUK5d61i"
      },
      "source": [
        "trying KNN?"
      ]
    },
    {
      "cell_type": "code",
      "metadata": {
        "id": "O0BTGQE112Xz",
        "colab": {
          "base_uri": "https://localhost:8080/",
          "height": 204
        },
        "outputId": "613770b5-30a2-4d4f-b3a1-81d72918b4c8"
      },
      "source": [
        "cluster_data.head()"
      ],
      "execution_count": 8,
      "outputs": [
        {
          "output_type": "execute_result",
          "data": {
            "text/html": [
              "<div>\n",
              "<style scoped>\n",
              "    .dataframe tbody tr th:only-of-type {\n",
              "        vertical-align: middle;\n",
              "    }\n",
              "\n",
              "    .dataframe tbody tr th {\n",
              "        vertical-align: top;\n",
              "    }\n",
              "\n",
              "    .dataframe thead th {\n",
              "        text-align: right;\n",
              "    }\n",
              "</style>\n",
              "<table border=\"1\" class=\"dataframe\">\n",
              "  <thead>\n",
              "    <tr style=\"text-align: right;\">\n",
              "      <th></th>\n",
              "      <th>index</th>\n",
              "      <th>Politics</th>\n",
              "      <th>Entertainment</th>\n",
              "      <th>Healthcare</th>\n",
              "      <th>Sports</th>\n",
              "      <th>Entrepreneurship</th>\n",
              "      <th>ScienceandTech</th>\n",
              "    </tr>\n",
              "  </thead>\n",
              "  <tbody>\n",
              "    <tr>\n",
              "      <th>0</th>\n",
              "      <td>0</td>\n",
              "      <td>0.24</td>\n",
              "      <td>0.54</td>\n",
              "      <td>0.17</td>\n",
              "      <td>0.26</td>\n",
              "      <td>0.31</td>\n",
              "      <td>0.25</td>\n",
              "    </tr>\n",
              "    <tr>\n",
              "      <th>1</th>\n",
              "      <td>1</td>\n",
              "      <td>0.18</td>\n",
              "      <td>0.48</td>\n",
              "      <td>0.13</td>\n",
              "      <td>0.18</td>\n",
              "      <td>0.20</td>\n",
              "      <td>0.19</td>\n",
              "    </tr>\n",
              "    <tr>\n",
              "      <th>2</th>\n",
              "      <td>2</td>\n",
              "      <td>0.48</td>\n",
              "      <td>0.62</td>\n",
              "      <td>0.34</td>\n",
              "      <td>0.43</td>\n",
              "      <td>0.57</td>\n",
              "      <td>0.48</td>\n",
              "    </tr>\n",
              "    <tr>\n",
              "      <th>3</th>\n",
              "      <td>3</td>\n",
              "      <td>0.26</td>\n",
              "      <td>0.33</td>\n",
              "      <td>0.22</td>\n",
              "      <td>0.24</td>\n",
              "      <td>0.38</td>\n",
              "      <td>0.34</td>\n",
              "    </tr>\n",
              "    <tr>\n",
              "      <th>4</th>\n",
              "      <td>4</td>\n",
              "      <td>0.49</td>\n",
              "      <td>0.58</td>\n",
              "      <td>0.44</td>\n",
              "      <td>0.44</td>\n",
              "      <td>0.64</td>\n",
              "      <td>0.63</td>\n",
              "    </tr>\n",
              "  </tbody>\n",
              "</table>\n",
              "</div>"
            ],
            "text/plain": [
              "   index  Politics  Entertainment  ...  Sports  Entrepreneurship  ScienceandTech\n",
              "0      0      0.24           0.54  ...    0.26              0.31            0.25\n",
              "1      1      0.18           0.48  ...    0.18              0.20            0.19\n",
              "2      2      0.48           0.62  ...    0.43              0.57            0.48\n",
              "3      3      0.26           0.33  ...    0.24              0.38            0.34\n",
              "4      4      0.49           0.58  ...    0.44              0.64            0.63\n",
              "\n",
              "[5 rows x 7 columns]"
            ]
          },
          "metadata": {
            "tags": []
          },
          "execution_count": 8
        }
      ]
    },
    {
      "cell_type": "code",
      "metadata": {
        "id": "GxexuzqOu0M7",
        "outputId": "a7e16b63-5d31-48f1-f65c-a58f88e4c866",
        "colab": {
          "base_uri": "https://localhost:8080/"
        }
      },
      "source": [
        "cluster_data = np.asarray(interest_vector[['index','Politics','Entertainment','Healthcare','Sports','Entrepreneurship','ScienceandTech']].copy(deep=True))\n",
        "cluster_data_woindex = np.asarray(interest_vector[['Politics','Entertainment','Healthcare','Sports','Entrepreneurship','ScienceandTech']].copy(deep=True))\n",
        "print(cluster_data)"
      ],
      "execution_count": 14,
      "outputs": [
        {
          "output_type": "stream",
          "text": [
            "[[0.00e+00 2.40e-01 5.40e-01 1.70e-01 2.60e-01 3.10e-01 2.50e-01]\n",
            " [1.00e+00 1.80e-01 4.80e-01 1.30e-01 1.80e-01 2.00e-01 1.90e-01]\n",
            " [2.00e+00 4.80e-01 6.20e-01 3.40e-01 4.30e-01 5.70e-01 4.80e-01]\n",
            " [3.00e+00 2.60e-01 3.30e-01 2.20e-01 2.40e-01 3.80e-01 3.40e-01]\n",
            " [4.00e+00 4.90e-01 5.80e-01 4.40e-01 4.40e-01 6.40e-01 6.30e-01]\n",
            " [5.00e+00 4.40e-01 4.80e-01 4.20e-01 4.00e-01 5.80e-01 5.60e-01]\n",
            " [6.00e+00 2.90e-01 3.70e-01 2.20e-01 2.70e-01 4.50e-01 3.10e-01]\n",
            " [7.00e+00 4.50e-01 4.50e-01 3.60e-01 4.10e-01 6.00e-01 4.70e-01]\n",
            " [8.00e+00 3.30e-01 3.90e-01 2.60e-01 2.70e-01 5.80e-01 3.70e-01]\n",
            " [9.00e+00 3.20e-01 2.90e-01 4.70e-01 2.90e-01 3.90e-01 4.10e-01]\n",
            " [1.00e+01 4.50e-01 3.60e-01 7.20e-01 3.50e-01 5.10e-01 5.50e-01]\n",
            " [1.10e+01 4.90e-01 3.80e-01 7.10e-01 3.70e-01 4.90e-01 5.40e-01]\n",
            " [1.20e+01 3.30e-01 4.20e-01 2.50e-01 5.60e-01 4.20e-01 3.50e-01]\n",
            " [1.30e+01 3.60e-01 4.50e-01 2.60e-01 5.20e-01 4.70e-01 3.60e-01]\n",
            " [1.40e+01 2.50e-01 3.20e-01 1.90e-01 3.50e-01 3.30e-01 2.50e-01]\n",
            " [1.50e+01 6.10e-01 4.50e-01 4.40e-01 3.90e-01 5.40e-01 4.80e-01]\n",
            " [1.60e+01 3.40e-01 2.50e-01 3.40e-01 2.50e-01 2.60e-01 2.90e-01]\n",
            " [1.70e+01 2.90e-01 2.10e-01 3.30e-01 2.20e-01 2.20e-01 2.60e-01]\n",
            " [1.80e+01 4.30e-01 3.80e-01 3.30e-01 3.10e-01 4.60e-01 4.60e-01]\n",
            " [1.90e+01 3.10e-01 2.50e-01 4.00e-01 2.50e-01 2.80e-01 3.10e-01]\n",
            " [2.00e+01 2.70e-01 2.60e-01 2.20e-01 2.90e-01 3.30e-01 3.40e-01]\n",
            " [2.10e+01 1.60e-01 2.40e-01 1.40e-01 1.90e-01 2.20e-01 2.80e-01]\n",
            " [2.20e+01 4.20e-01 4.10e-01 5.80e-01 3.50e-01 5.10e-01 5.70e-01]\n",
            " [2.30e+01 4.90e-01 5.50e-01 4.50e-01 4.20e-01 6.50e-01 5.60e-01]\n",
            " [2.40e+01 3.50e-01 4.20e-01 3.20e-01 3.30e-01 4.90e-01 5.00e-01]\n",
            " [2.50e+01 4.50e-01 4.60e-01 4.90e-01 3.80e-01 5.90e-01 6.20e-01]\n",
            " [2.60e+01 3.60e-01 3.80e-01 3.50e-01 3.20e-01 4.70e-01 4.40e-01]\n",
            " [2.70e+01 2.40e-01 3.00e-01 2.40e-01 2.20e-01 3.70e-01 3.30e-01]\n",
            " [2.80e+01 4.10e-01 4.80e-01 3.60e-01 3.60e-01 5.80e-01 5.20e-01]\n",
            " [2.90e+01 5.00e-01 4.90e-01 5.30e-01 4.10e-01 6.30e-01 5.90e-01]\n",
            " [3.00e+01 5.40e-01 4.00e-01 8.30e-01 3.80e-01 5.30e-01 6.20e-01]\n",
            " [3.10e+01 4.20e-01 4.90e-01 3.60e-01 3.80e-01 6.10e-01 5.20e-01]\n",
            " [3.20e+01 4.10e-01 4.90e-01 4.40e-01 4.00e-01 5.90e-01 5.90e-01]\n",
            " [3.30e+01 3.20e-01 3.70e-01 3.50e-01 2.80e-01 4.60e-01 5.10e-01]\n",
            " [3.40e+01 2.70e-01 3.30e-01 3.00e-01 2.30e-01 3.70e-01 4.00e-01]\n",
            " [3.50e+01 4.90e-01 3.60e-01 3.30e-01 2.90e-01 4.70e-01 3.90e-01]\n",
            " [3.60e+01 4.20e-01 4.30e-01 5.40e-01 3.90e-01 6.00e-01 5.20e-01]\n",
            " [3.70e+01 4.20e-01 4.90e-01 3.40e-01 3.80e-01 6.60e-01 4.60e-01]\n",
            " [3.80e+01 4.00e-01 3.70e-01 5.60e-01 3.30e-01 5.90e-01 5.00e-01]\n",
            " [3.90e+01 4.40e-01 5.10e-01 3.90e-01 3.80e-01 7.10e-01 5.00e-01]\n",
            " [4.00e+01 4.70e-01 5.30e-01 3.60e-01 3.60e-01 6.50e-01 4.50e-01]\n",
            " [4.10e+01 3.00e-01 2.30e-01 3.20e-01 2.20e-01 3.50e-01 3.40e-01]\n",
            " [4.20e+01 2.20e-01 2.80e-01 1.80e-01 2.20e-01 3.70e-01 2.50e-01]\n",
            " [4.30e+01 4.00e-01 4.60e-01 3.90e-01 4.30e-01 6.60e-01 5.20e-01]\n",
            " [4.40e+01 3.00e-01 3.80e-01 2.40e-01 3.00e-01 4.80e-01 3.30e-01]\n",
            " [4.50e+01 3.20e-01 3.70e-01 3.40e-01 3.60e-01 5.40e-01 4.20e-01]\n",
            " [4.60e+01 3.60e-01 4.30e-01 2.90e-01 3.40e-01 5.40e-01 4.10e-01]\n",
            " [4.70e+01 3.80e-01 4.50e-01 3.60e-01 4.40e-01 6.00e-01 4.60e-01]\n",
            " [4.80e+01 3.10e-01 3.30e-01 4.10e-01 3.00e-01 4.70e-01 4.20e-01]\n",
            " [4.90e+01 4.10e-01 4.70e-01 3.70e-01 3.80e-01 5.40e-01 4.70e-01]\n",
            " [5.00e+01 4.10e-01 4.80e-01 3.60e-01 4.00e-01 5.50e-01 4.80e-01]\n",
            " [5.10e+01 6.00e-02 7.00e-02 8.00e-02 6.00e-02 1.20e-01 1.90e-01]\n",
            " [5.20e+01 3.80e-01 2.70e-01 5.20e-01 2.90e-01 3.90e-01 4.20e-01]\n",
            " [5.30e+01 4.30e-01 3.70e-01 6.60e-01 3.60e-01 4.70e-01 5.40e-01]\n",
            " [5.40e+01 4.20e-01 3.90e-01 6.40e-01 3.40e-01 5.10e-01 5.70e-01]\n",
            " [5.50e+01 4.80e-01 3.40e-01 5.70e-01 4.00e-01 4.00e-01 4.70e-01]\n",
            " [5.60e+01 4.10e-01 3.50e-01 5.70e-01 3.20e-01 4.80e-01 4.90e-01]\n",
            " [5.70e+01 3.40e-01 2.80e-01 6.50e-01 2.60e-01 3.70e-01 5.50e-01]\n",
            " [5.80e+01 1.50e-01 1.50e-01 2.50e-01 1.20e-01 1.70e-01 2.00e-01]\n",
            " [5.90e+01 3.40e-01 3.10e-01 4.60e-01 2.50e-01 3.60e-01 3.30e-01]\n",
            " [6.00e+01 3.70e-01 4.00e-01 4.90e-01 3.10e-01 5.00e-01 5.90e-01]\n",
            " [6.10e+01 1.20e-01 1.20e-01 1.40e-01 1.20e-01 1.90e-01 1.60e-01]\n",
            " [6.20e+01 4.20e-01 3.30e-01 6.50e-01 3.60e-01 4.00e-01 4.60e-01]\n",
            " [6.30e+01 2.50e-01 2.50e-01 2.00e-01 2.00e-01 2.80e-01 2.30e-01]\n",
            " [6.40e+01 3.20e-01 2.40e-01 6.20e-01 2.20e-01 3.30e-01 3.80e-01]\n",
            " [6.50e+01 4.00e-01 4.80e-01 3.80e-01 3.80e-01 6.30e-01 4.90e-01]\n",
            " [6.60e+01 3.10e-01 4.50e-01 2.20e-01 4.00e-01 4.20e-01 2.80e-01]\n",
            " [6.70e+01 3.60e-01 4.10e-01 2.70e-01 3.90e-01 4.50e-01 3.50e-01]\n",
            " [6.80e+01 3.40e-01 4.30e-01 2.70e-01 5.60e-01 4.60e-01 3.60e-01]\n",
            " [6.90e+01 3.40e-01 4.60e-01 2.60e-01 4.50e-01 4.90e-01 3.60e-01]\n",
            " [7.00e+01 1.10e-01 1.40e-01 8.00e-02 2.00e-01 1.20e-01 9.00e-02]\n",
            " [7.10e+01 1.20e-01 1.70e-01 9.00e-02 2.30e-01 1.30e-01 1.10e-01]\n",
            " [7.20e+01 4.00e-02 5.00e-02 3.00e-02 1.40e-01 8.00e-02 4.00e-02]\n",
            " [7.30e+01 3.80e-01 4.60e-01 2.80e-01 4.40e-01 4.90e-01 3.70e-01]\n",
            " [7.40e+01 1.00e-01 1.40e-01 8.00e-02 1.70e-01 1.40e-01 1.00e-01]\n",
            " [7.50e+01 3.90e-01 3.90e-01 2.70e-01 3.50e-01 4.30e-01 3.50e-01]\n",
            " [7.60e+01 2.60e-01 3.10e-01 2.60e-01 4.20e-01 3.10e-01 2.60e-01]\n",
            " [7.70e+01 3.00e-01 3.80e-01 2.40e-01 3.40e-01 4.00e-01 3.10e-01]\n",
            " [7.80e+01 2.60e-01 3.40e-01 2.00e-01 4.50e-01 3.60e-01 2.80e-01]\n",
            " [7.90e+01 3.50e-01 4.70e-01 2.70e-01 4.60e-01 5.00e-01 3.70e-01]\n",
            " [8.00e+01 3.00e-01 3.00e-01 2.10e-01 3.70e-01 3.20e-01 2.70e-01]\n",
            " [8.10e+01 8.00e-02 5.00e-02 8.00e-02 1.10e-01 6.00e-02 6.00e-02]\n",
            " [8.20e+01 2.10e-01 2.40e-01 1.50e-01 3.90e-01 2.30e-01 2.00e-01]\n",
            " [8.30e+01 5.50e-01 3.20e-01 3.10e-01 2.60e-01 4.00e-01 3.30e-01]\n",
            " [8.40e+01 6.70e-01 3.00e-01 3.60e-01 2.90e-01 3.60e-01 3.70e-01]\n",
            " [8.50e+01 6.80e-01 4.00e-01 4.30e-01 3.50e-01 4.80e-01 4.70e-01]\n",
            " [8.60e+01 6.70e-01 3.20e-01 3.40e-01 2.90e-01 4.00e-01 3.40e-01]\n",
            " [8.70e+01 3.00e-01 2.20e-01 4.00e-01 2.50e-01 2.60e-01 2.70e-01]\n",
            " [8.80e+01 2.50e-01 1.60e-01 2.30e-01 1.70e-01 1.50e-01 1.80e-01]\n",
            " [8.90e+01 2.70e-01 1.60e-01 4.70e-01 4.10e-01 2.20e-01 2.70e-01]\n",
            " [9.00e+01 4.90e-01 4.10e-01 3.80e-01 3.80e-01 4.80e-01 4.60e-01]\n",
            " [9.10e+01 7.50e-01 3.40e-01 4.40e-01 3.40e-01 4.00e-01 4.40e-01]\n",
            " [9.20e+01 4.60e-01 3.50e-01 6.10e-01 3.30e-01 3.80e-01 4.00e-01]\n",
            " [9.30e+01 5.00e-01 2.70e-01 3.10e-01 2.60e-01 3.40e-01 3.10e-01]\n",
            " [9.40e+01 4.40e-01 2.90e-01 3.00e-01 2.50e-01 3.50e-01 3.20e-01]\n",
            " [9.50e+01 5.20e-01 3.90e-01 4.50e-01 3.50e-01 4.90e-01 4.50e-01]\n",
            " [9.60e+01 5.00e-01 3.70e-01 3.60e-01 3.80e-01 4.10e-01 3.90e-01]\n",
            " [9.70e+01 4.30e-01 2.90e-01 6.70e-01 3.10e-01 3.20e-01 4.50e-01]\n",
            " [9.80e+01 1.70e-01 4.10e-01 1.20e-01 2.00e-01 2.60e-01 1.80e-01]\n",
            " [9.90e+01 1.60e-01 4.70e-01 1.40e-01 2.20e-01 1.70e-01 2.10e-01]\n",
            " [1.00e+02 5.10e-01 5.90e-01 3.40e-01 4.00e-01 5.90e-01 4.70e-01]\n",
            " [1.01e+02 2.30e-01 3.90e-01 2.10e-01 3.20e-01 3.30e-01 3.20e-01]\n",
            " [1.02e+02 4.10e-01 6.90e-01 3.40e-01 4.20e-01 5.00e-01 4.30e-01]\n",
            " [1.03e+02 1.70e-01 2.30e-01 2.30e-01 1.80e-01 2.10e-01 1.80e-01]\n",
            " [1.04e+02 2.80e-01 3.60e-01 1.90e-01 2.60e-01 3.20e-01 2.60e-01]\n",
            " [1.05e+02 2.20e-01 4.60e-01 1.70e-01 2.20e-01 3.00e-01 2.40e-01]\n",
            " [1.06e+02 2.00e-01 3.80e-01 1.30e-01 1.50e-01 2.90e-01 1.50e-01]\n",
            " [1.07e+02 2.70e-01 6.10e-01 2.10e-01 2.60e-01 3.90e-01 3.00e-01]\n",
            " [1.08e+02 2.40e-01 6.00e-01 1.90e-01 3.10e-01 3.00e-01 2.80e-01]\n",
            " [1.09e+02 2.10e-01 4.80e-01 1.60e-01 2.70e-01 2.60e-01 2.60e-01]\n",
            " [1.10e+02 2.70e-01 3.80e-01 1.90e-01 2.30e-01 3.70e-01 2.50e-01]\n",
            " [1.11e+02 3.80e-01 6.60e-01 3.20e-01 4.40e-01 4.60e-01 4.00e-01]\n",
            " [1.12e+02 3.10e-01 5.40e-01 2.40e-01 3.10e-01 4.90e-01 3.50e-01]\n",
            " [1.13e+02 3.80e-01 6.40e-01 3.10e-01 3.80e-01 5.60e-01 4.30e-01]]\n"
          ],
          "name": "stdout"
        }
      ]
    },
    {
      "cell_type": "code",
      "metadata": {
        "id": "FadvJxm5uuwl"
      },
      "source": [
        "from math import sqrt\n",
        "def euclidean_distance(row1, row2):\n",
        "\tdistance = 0.0\n",
        "\tfor i in range(len(row1)):\n",
        "\t\tdistance += (row1[i] - row2[i])**2\n",
        "\treturn sqrt(distance)"
      ],
      "execution_count": 15,
      "outputs": []
    },
    {
      "cell_type": "code",
      "metadata": {
        "id": "P4y1oduivXBy",
        "outputId": "bb33af99-d2dc-4cf0-c386-0a30c96f6de7",
        "colab": {
          "base_uri": "https://localhost:8080/"
        }
      },
      "source": [
        "#small example to test our distance function by printing the distance between the first row and all other rows\n",
        "distances=[]\n",
        "row0=cluster_data_woindex[0]\n",
        "for row in cluster_data_woindex:\n",
        "  distance = euclidean_distance(row0, row)\n",
        "  distances.append(distance)\n",
        "print(distances)"
      ],
      "execution_count": 23,
      "outputs": [
        {
          "output_type": "stream",
          "text": [
            "[0.0, 0.17578395831246948, 0.4922397789695587, 0.24576411454889016, 0.6501538279515087, 0.5428627819255986, 0.23916521486202802, 0.49325449820554096, 0.35510561809129404, 0.43794976880916375, 0.7190966555338718, 0.7129516112612412, 0.37549966711037175, 0.3686461718233352, 0.2395829710142188, 0.583609458456595, 0.3566510900025402, 0.3831448812133604, 0.39547439866570383, 0.3827531841800928, 0.30199337741083004, 0.33346664001066134, 0.6065476073648299, 0.6150609725872712, 0.3857460304397182, 0.6185466837676845, 0.37107950630558945, 0.27221315177632405, 0.4737087712930804, 0.6634756966159349, 0.863075894692929, 0.4982971001320397, 0.5638262143604179, 0.39774363602702684, 0.2981610303175115, 0.408166632639171, 0.5960704656330491, 0.4947726750741193, 0.5936328831862332, 0.5711392124517454, 0.5046781152378217, 0.36537651812890226, 0.2707397274136177, 0.5519963767997033, 0.2664582518894845, 0.39496835316263, 0.35468295701936403, 0.4737087712930804, 0.4033608806019741, 0.43531597719357834, 0.4457577817604534, 0.5840376700179536, 0.5011985634456667, 0.6517668294720129, 0.6516133823057964, 0.5776677245614471, 0.5613376880274474, 0.6337191807101944, 0.4563989482897611, 0.39496835316263, 0.5413871073455665, 0.4835286961494633, 0.6075360071633615, 0.30000000000000004, 0.5637375275782162, 0.4976946855251721, 0.21931712199461312, 0.2963106478005811, 0.3958535082577898, 0.3241913015489466, 0.5002999100539596, 0.4589117562233506, 0.6411708040764177, 0.34249087579087417, 0.4971921157862421, 0.2958039891549808, 0.2951270912674741, 0.22847319317591727, 0.2842534080710379, 0.3427827300200522, 0.27459060435491967, 0.6284106937345991, 0.3421987726453735, 0.42261093218230883, 0.5444263035526481, 0.6051446108162908, 0.5284884104689526, 0.4023679907746142, 0.432087954009366, 0.5160426338976266, 0.4592385001282014, 0.6508456038109193, 0.5571355310873648, 0.4057092555020159, 0.354964786985977, 0.5097057974949863, 0.42023802778901387, 0.6254598308444755, 0.18788294228055938, 0.18708286933869708, 0.5006995106848018, 0.18193405398660253, 0.41761226035642196, 0.3548238999842035, 0.18601075237738282, 0.09273618495495704, 0.22649503305812252, 0.12767145334803703, 0.08660254037844382, 0.08544003745317534, 0.17720045146669355, 0.3659234892706398, 0.23388031127052997, 0.3981205847478877]\n"
          ],
          "name": "stdout"
        }
      ]
    },
    {
      "cell_type": "code",
      "metadata": {
        "id": "RvJu5tFzwjX3",
        "outputId": "4fe47214-f7de-4ce2-aeb1-d08feecc9da0",
        "colab": {
          "base_uri": "https://localhost:8080/"
        }
      },
      "source": [
        "#getting indices of top min 5\n",
        "\n",
        "min_indices = np.argsort(distances)[:6] #as the 1st value will always be the username itself\n",
        "print(min_indices)\n",
        "min_indices = min_indices[1:] #slicing the array to remove 1st element\n",
        "print(min_indices)\n"
      ],
      "execution_count": 38,
      "outputs": [
        {
          "output_type": "stream",
          "text": [
            "[  0 109 108 105 107   1]\n",
            "[109 108 105 107   1]\n"
          ],
          "name": "stdout"
        }
      ]
    },
    {
      "cell_type": "markdown",
      "metadata": {
        "id": "KwdTpQTRWoIg"
      },
      "source": [
        "IGNORE (TRIED TO PLOT AND VISUALISE CLUSTERS)"
      ]
    },
    {
      "cell_type": "code",
      "metadata": {
        "colab": {
          "base_uri": "https://localhost:8080/"
        },
        "id": "BSpeYVRFgB0D",
        "outputId": "ff734636-28af-4f5f-bfea-892a730aa4ef"
      },
      "source": [
        "#@title Enter username\n",
        "\n",
        "username= 'viewfinderfc' #@param {type:\"string\"}\n",
        "print (username)"
      ],
      "execution_count": 15,
      "outputs": [
        {
          "output_type": "stream",
          "text": [
            "viewfinderfc\n"
          ],
          "name": "stdout"
        }
      ]
    },
    {
      "cell_type": "code",
      "metadata": {
        "colab": {
          "base_uri": "https://localhost:8080/"
        },
        "id": "amT-frN_gcRt",
        "outputId": "9d1a98c1-339c-474c-9c79-bf76e3785e6d"
      },
      "source": [
        "getrecsfor = interest_vector[\"interest_vector\"].loc[interest_vector['username'] == username]\n",
        "print(getrecsfor)"
      ],
      "execution_count": 18,
      "outputs": [
        {
          "output_type": "stream",
          "text": [
            "0    [0.24, 0.54, 0.17, 0.26, 0.31, 0.25]\n",
            "Name: interest_vector, dtype: object\n"
          ],
          "name": "stdout"
        }
      ]
    },
    {
      "cell_type": "code",
      "metadata": {
        "colab": {
          "base_uri": "https://localhost:8080/"
        },
        "id": "TLxWRfxBhcAm",
        "outputId": "8e070085-bd80-439c-9f05-8cddc343b276"
      },
      "source": [
        " new_data_point = np.array(getrecsfor)\n",
        " print(new_data_point)"
      ],
      "execution_count": 19,
      "outputs": [
        {
          "output_type": "stream",
          "text": [
            "['[0.24, 0.54, 0.17, 0.26, 0.31, 0.25]']\n"
          ],
          "name": "stdout"
        }
      ]
    },
    {
      "cell_type": "code",
      "metadata": {
        "colab": {
          "base_uri": "https://localhost:8080/",
          "height": 459
        },
        "id": "ynJs4QKHhq3J",
        "outputId": "dab57774-13db-4655-db16-0bc1d48f4190"
      },
      "source": [
        "distances = np.linalg.norm(P - getrecsfor, axis=1)"
      ],
      "execution_count": 21,
      "outputs": [
        {
          "output_type": "error",
          "ename": "ValueError",
          "evalue": "ignored",
          "traceback": [
            "\u001b[0;31m---------------------------------------------------------------------------\u001b[0m",
            "\u001b[0;31mTypeError\u001b[0m                                 Traceback (most recent call last)",
            "\u001b[0;32m/usr/local/lib/python3.7/dist-packages/pandas/core/ops/array_ops.py\u001b[0m in \u001b[0;36mna_arithmetic_op\u001b[0;34m(left, right, op, is_cmp)\u001b[0m\n\u001b[1;32m    142\u001b[0m     \u001b[0;32mtry\u001b[0m\u001b[0;34m:\u001b[0m\u001b[0;34m\u001b[0m\u001b[0;34m\u001b[0m\u001b[0m\n\u001b[0;32m--> 143\u001b[0;31m         \u001b[0mresult\u001b[0m \u001b[0;34m=\u001b[0m \u001b[0mexpressions\u001b[0m\u001b[0;34m.\u001b[0m\u001b[0mevaluate\u001b[0m\u001b[0;34m(\u001b[0m\u001b[0mop\u001b[0m\u001b[0;34m,\u001b[0m \u001b[0mleft\u001b[0m\u001b[0;34m,\u001b[0m \u001b[0mright\u001b[0m\u001b[0;34m)\u001b[0m\u001b[0;34m\u001b[0m\u001b[0;34m\u001b[0m\u001b[0m\n\u001b[0m\u001b[1;32m    144\u001b[0m     \u001b[0;32mexcept\u001b[0m \u001b[0mTypeError\u001b[0m\u001b[0;34m:\u001b[0m\u001b[0;34m\u001b[0m\u001b[0;34m\u001b[0m\u001b[0m\n",
            "\u001b[0;32m/usr/local/lib/python3.7/dist-packages/pandas/core/computation/expressions.py\u001b[0m in \u001b[0;36mevaluate\u001b[0;34m(op, a, b, use_numexpr)\u001b[0m\n\u001b[1;32m    232\u001b[0m         \u001b[0;32mif\u001b[0m \u001b[0muse_numexpr\u001b[0m\u001b[0;34m:\u001b[0m\u001b[0;34m\u001b[0m\u001b[0;34m\u001b[0m\u001b[0m\n\u001b[0;32m--> 233\u001b[0;31m             \u001b[0;32mreturn\u001b[0m \u001b[0m_evaluate\u001b[0m\u001b[0;34m(\u001b[0m\u001b[0mop\u001b[0m\u001b[0;34m,\u001b[0m \u001b[0mop_str\u001b[0m\u001b[0;34m,\u001b[0m \u001b[0ma\u001b[0m\u001b[0;34m,\u001b[0m \u001b[0mb\u001b[0m\u001b[0;34m)\u001b[0m  \u001b[0;31m# type: ignore\u001b[0m\u001b[0;34m\u001b[0m\u001b[0;34m\u001b[0m\u001b[0m\n\u001b[0m\u001b[1;32m    234\u001b[0m     \u001b[0;32mreturn\u001b[0m \u001b[0m_evaluate_standard\u001b[0m\u001b[0;34m(\u001b[0m\u001b[0mop\u001b[0m\u001b[0;34m,\u001b[0m \u001b[0mop_str\u001b[0m\u001b[0;34m,\u001b[0m \u001b[0ma\u001b[0m\u001b[0;34m,\u001b[0m \u001b[0mb\u001b[0m\u001b[0;34m)\u001b[0m\u001b[0;34m\u001b[0m\u001b[0;34m\u001b[0m\u001b[0m\n",
            "\u001b[0;32m/usr/local/lib/python3.7/dist-packages/pandas/core/computation/expressions.py\u001b[0m in \u001b[0;36m_evaluate_numexpr\u001b[0;34m(op, op_str, a, b)\u001b[0m\n\u001b[1;32m    118\u001b[0m     \u001b[0;32mif\u001b[0m \u001b[0mresult\u001b[0m \u001b[0;32mis\u001b[0m \u001b[0;32mNone\u001b[0m\u001b[0;34m:\u001b[0m\u001b[0;34m\u001b[0m\u001b[0;34m\u001b[0m\u001b[0m\n\u001b[0;32m--> 119\u001b[0;31m         \u001b[0mresult\u001b[0m \u001b[0;34m=\u001b[0m \u001b[0m_evaluate_standard\u001b[0m\u001b[0;34m(\u001b[0m\u001b[0mop\u001b[0m\u001b[0;34m,\u001b[0m \u001b[0mop_str\u001b[0m\u001b[0;34m,\u001b[0m \u001b[0ma\u001b[0m\u001b[0;34m,\u001b[0m \u001b[0mb\u001b[0m\u001b[0;34m)\u001b[0m\u001b[0;34m\u001b[0m\u001b[0;34m\u001b[0m\u001b[0m\n\u001b[0m\u001b[1;32m    120\u001b[0m \u001b[0;34m\u001b[0m\u001b[0m\n",
            "\u001b[0;32m/usr/local/lib/python3.7/dist-packages/pandas/core/computation/expressions.py\u001b[0m in \u001b[0;36m_evaluate_standard\u001b[0;34m(op, op_str, a, b)\u001b[0m\n\u001b[1;32m     67\u001b[0m     \u001b[0;32mwith\u001b[0m \u001b[0mnp\u001b[0m\u001b[0;34m.\u001b[0m\u001b[0merrstate\u001b[0m\u001b[0;34m(\u001b[0m\u001b[0mall\u001b[0m\u001b[0;34m=\u001b[0m\u001b[0;34m\"ignore\"\u001b[0m\u001b[0;34m)\u001b[0m\u001b[0;34m:\u001b[0m\u001b[0;34m\u001b[0m\u001b[0;34m\u001b[0m\u001b[0m\n\u001b[0;32m---> 68\u001b[0;31m         \u001b[0;32mreturn\u001b[0m \u001b[0mop\u001b[0m\u001b[0;34m(\u001b[0m\u001b[0ma\u001b[0m\u001b[0;34m,\u001b[0m \u001b[0mb\u001b[0m\u001b[0;34m)\u001b[0m\u001b[0;34m\u001b[0m\u001b[0;34m\u001b[0m\u001b[0m\n\u001b[0m\u001b[1;32m     69\u001b[0m \u001b[0;34m\u001b[0m\u001b[0m\n",
            "\u001b[0;32m/usr/local/lib/python3.7/dist-packages/pandas/core/ops/roperator.py\u001b[0m in \u001b[0;36mrsub\u001b[0;34m(left, right)\u001b[0m\n\u001b[1;32m     12\u001b[0m \u001b[0;32mdef\u001b[0m \u001b[0mrsub\u001b[0m\u001b[0;34m(\u001b[0m\u001b[0mleft\u001b[0m\u001b[0;34m,\u001b[0m \u001b[0mright\u001b[0m\u001b[0;34m)\u001b[0m\u001b[0;34m:\u001b[0m\u001b[0;34m\u001b[0m\u001b[0;34m\u001b[0m\u001b[0m\n\u001b[0;32m---> 13\u001b[0;31m     \u001b[0;32mreturn\u001b[0m \u001b[0mright\u001b[0m \u001b[0;34m-\u001b[0m \u001b[0mleft\u001b[0m\u001b[0;34m\u001b[0m\u001b[0;34m\u001b[0m\u001b[0m\n\u001b[0m\u001b[1;32m     14\u001b[0m \u001b[0;34m\u001b[0m\u001b[0m\n",
            "\u001b[0;31mTypeError\u001b[0m: unsupported operand type(s) for -: 'float' and 'str'",
            "\nDuring handling of the above exception, another exception occurred:\n",
            "\u001b[0;31mValueError\u001b[0m                                Traceback (most recent call last)",
            "\u001b[0;32m<ipython-input-21-1e3bf956aa6e>\u001b[0m in \u001b[0;36m<module>\u001b[0;34m()\u001b[0m\n\u001b[0;32m----> 1\u001b[0;31m \u001b[0mdistances\u001b[0m \u001b[0;34m=\u001b[0m \u001b[0mnp\u001b[0m\u001b[0;34m.\u001b[0m\u001b[0mlinalg\u001b[0m\u001b[0;34m.\u001b[0m\u001b[0mnorm\u001b[0m\u001b[0;34m(\u001b[0m\u001b[0mP\u001b[0m \u001b[0;34m-\u001b[0m \u001b[0mgetrecsfor\u001b[0m\u001b[0;34m,\u001b[0m \u001b[0maxis\u001b[0m\u001b[0;34m=\u001b[0m\u001b[0;36m1\u001b[0m\u001b[0;34m)\u001b[0m\u001b[0;34m\u001b[0m\u001b[0;34m\u001b[0m\u001b[0m\n\u001b[0m",
            "\u001b[0;32m/usr/local/lib/python3.7/dist-packages/pandas/core/series.py\u001b[0m in \u001b[0;36m__array_ufunc__\u001b[0;34m(self, ufunc, method, *inputs, **kwargs)\u001b[0m\n\u001b[1;32m    681\u001b[0m         \u001b[0;31m# for binary ops, use our custom dunder methods\u001b[0m\u001b[0;34m\u001b[0m\u001b[0;34m\u001b[0m\u001b[0;34m\u001b[0m\u001b[0m\n\u001b[1;32m    682\u001b[0m         result = ops.maybe_dispatch_ufunc_to_dunder_op(\n\u001b[0;32m--> 683\u001b[0;31m             \u001b[0mself\u001b[0m\u001b[0;34m,\u001b[0m \u001b[0mufunc\u001b[0m\u001b[0;34m,\u001b[0m \u001b[0mmethod\u001b[0m\u001b[0;34m,\u001b[0m \u001b[0;34m*\u001b[0m\u001b[0minputs\u001b[0m\u001b[0;34m,\u001b[0m \u001b[0;34m**\u001b[0m\u001b[0mkwargs\u001b[0m\u001b[0;34m\u001b[0m\u001b[0;34m\u001b[0m\u001b[0m\n\u001b[0m\u001b[1;32m    684\u001b[0m         )\n\u001b[1;32m    685\u001b[0m         \u001b[0;32mif\u001b[0m \u001b[0mresult\u001b[0m \u001b[0;32mis\u001b[0m \u001b[0;32mnot\u001b[0m \u001b[0mNotImplemented\u001b[0m\u001b[0;34m:\u001b[0m\u001b[0;34m\u001b[0m\u001b[0;34m\u001b[0m\u001b[0m\n",
            "\u001b[0;32mpandas/_libs/ops_dispatch.pyx\u001b[0m in \u001b[0;36mpandas._libs.ops_dispatch.maybe_dispatch_ufunc_to_dunder_op\u001b[0;34m()\u001b[0m\n",
            "\u001b[0;32m/usr/local/lib/python3.7/dist-packages/pandas/core/ops/common.py\u001b[0m in \u001b[0;36mnew_method\u001b[0;34m(self, other)\u001b[0m\n\u001b[1;32m     63\u001b[0m         \u001b[0mother\u001b[0m \u001b[0;34m=\u001b[0m \u001b[0mitem_from_zerodim\u001b[0m\u001b[0;34m(\u001b[0m\u001b[0mother\u001b[0m\u001b[0;34m)\u001b[0m\u001b[0;34m\u001b[0m\u001b[0;34m\u001b[0m\u001b[0m\n\u001b[1;32m     64\u001b[0m \u001b[0;34m\u001b[0m\u001b[0m\n\u001b[0;32m---> 65\u001b[0;31m         \u001b[0;32mreturn\u001b[0m \u001b[0mmethod\u001b[0m\u001b[0;34m(\u001b[0m\u001b[0mself\u001b[0m\u001b[0;34m,\u001b[0m \u001b[0mother\u001b[0m\u001b[0;34m)\u001b[0m\u001b[0;34m\u001b[0m\u001b[0;34m\u001b[0m\u001b[0m\n\u001b[0m\u001b[1;32m     66\u001b[0m \u001b[0;34m\u001b[0m\u001b[0m\n\u001b[1;32m     67\u001b[0m     \u001b[0;32mreturn\u001b[0m \u001b[0mnew_method\u001b[0m\u001b[0;34m\u001b[0m\u001b[0;34m\u001b[0m\u001b[0m\n",
            "\u001b[0;32m/usr/local/lib/python3.7/dist-packages/pandas/core/ops/__init__.py\u001b[0m in \u001b[0;36mwrapper\u001b[0;34m(left, right)\u001b[0m\n\u001b[1;32m    341\u001b[0m         \u001b[0mlvalues\u001b[0m \u001b[0;34m=\u001b[0m \u001b[0mextract_array\u001b[0m\u001b[0;34m(\u001b[0m\u001b[0mleft\u001b[0m\u001b[0;34m,\u001b[0m \u001b[0mextract_numpy\u001b[0m\u001b[0;34m=\u001b[0m\u001b[0;32mTrue\u001b[0m\u001b[0;34m)\u001b[0m\u001b[0;34m\u001b[0m\u001b[0;34m\u001b[0m\u001b[0m\n\u001b[1;32m    342\u001b[0m         \u001b[0mrvalues\u001b[0m \u001b[0;34m=\u001b[0m \u001b[0mextract_array\u001b[0m\u001b[0;34m(\u001b[0m\u001b[0mright\u001b[0m\u001b[0;34m,\u001b[0m \u001b[0mextract_numpy\u001b[0m\u001b[0;34m=\u001b[0m\u001b[0;32mTrue\u001b[0m\u001b[0;34m)\u001b[0m\u001b[0;34m\u001b[0m\u001b[0;34m\u001b[0m\u001b[0m\n\u001b[0;32m--> 343\u001b[0;31m         \u001b[0mresult\u001b[0m \u001b[0;34m=\u001b[0m \u001b[0marithmetic_op\u001b[0m\u001b[0;34m(\u001b[0m\u001b[0mlvalues\u001b[0m\u001b[0;34m,\u001b[0m \u001b[0mrvalues\u001b[0m\u001b[0;34m,\u001b[0m \u001b[0mop\u001b[0m\u001b[0;34m)\u001b[0m\u001b[0;34m\u001b[0m\u001b[0;34m\u001b[0m\u001b[0m\n\u001b[0m\u001b[1;32m    344\u001b[0m \u001b[0;34m\u001b[0m\u001b[0m\n\u001b[1;32m    345\u001b[0m         \u001b[0;32mreturn\u001b[0m \u001b[0mleft\u001b[0m\u001b[0;34m.\u001b[0m\u001b[0m_construct_result\u001b[0m\u001b[0;34m(\u001b[0m\u001b[0mresult\u001b[0m\u001b[0;34m,\u001b[0m \u001b[0mname\u001b[0m\u001b[0;34m=\u001b[0m\u001b[0mres_name\u001b[0m\u001b[0;34m)\u001b[0m\u001b[0;34m\u001b[0m\u001b[0;34m\u001b[0m\u001b[0m\n",
            "\u001b[0;32m/usr/local/lib/python3.7/dist-packages/pandas/core/ops/array_ops.py\u001b[0m in \u001b[0;36marithmetic_op\u001b[0;34m(left, right, op)\u001b[0m\n\u001b[1;32m    188\u001b[0m     \u001b[0;32melse\u001b[0m\u001b[0;34m:\u001b[0m\u001b[0;34m\u001b[0m\u001b[0;34m\u001b[0m\u001b[0m\n\u001b[1;32m    189\u001b[0m         \u001b[0;32mwith\u001b[0m \u001b[0mnp\u001b[0m\u001b[0;34m.\u001b[0m\u001b[0merrstate\u001b[0m\u001b[0;34m(\u001b[0m\u001b[0mall\u001b[0m\u001b[0;34m=\u001b[0m\u001b[0;34m\"ignore\"\u001b[0m\u001b[0;34m)\u001b[0m\u001b[0;34m:\u001b[0m\u001b[0;34m\u001b[0m\u001b[0;34m\u001b[0m\u001b[0m\n\u001b[0;32m--> 190\u001b[0;31m             \u001b[0mres_values\u001b[0m \u001b[0;34m=\u001b[0m \u001b[0mna_arithmetic_op\u001b[0m\u001b[0;34m(\u001b[0m\u001b[0mlvalues\u001b[0m\u001b[0;34m,\u001b[0m \u001b[0mrvalues\u001b[0m\u001b[0;34m,\u001b[0m \u001b[0mop\u001b[0m\u001b[0;34m)\u001b[0m\u001b[0;34m\u001b[0m\u001b[0;34m\u001b[0m\u001b[0m\n\u001b[0m\u001b[1;32m    191\u001b[0m \u001b[0;34m\u001b[0m\u001b[0m\n\u001b[1;32m    192\u001b[0m     \u001b[0;32mreturn\u001b[0m \u001b[0mres_values\u001b[0m\u001b[0;34m\u001b[0m\u001b[0;34m\u001b[0m\u001b[0m\n",
            "\u001b[0;32m/usr/local/lib/python3.7/dist-packages/pandas/core/ops/array_ops.py\u001b[0m in \u001b[0;36mna_arithmetic_op\u001b[0;34m(left, right, op, is_cmp)\u001b[0m\n\u001b[1;32m    148\u001b[0m             \u001b[0;31m#  will handle complex numbers incorrectly, see GH#32047\u001b[0m\u001b[0;34m\u001b[0m\u001b[0;34m\u001b[0m\u001b[0;34m\u001b[0m\u001b[0m\n\u001b[1;32m    149\u001b[0m             \u001b[0;32mraise\u001b[0m\u001b[0;34m\u001b[0m\u001b[0;34m\u001b[0m\u001b[0m\n\u001b[0;32m--> 150\u001b[0;31m         \u001b[0mresult\u001b[0m \u001b[0;34m=\u001b[0m \u001b[0mmasked_arith_op\u001b[0m\u001b[0;34m(\u001b[0m\u001b[0mleft\u001b[0m\u001b[0;34m,\u001b[0m \u001b[0mright\u001b[0m\u001b[0;34m,\u001b[0m \u001b[0mop\u001b[0m\u001b[0;34m)\u001b[0m\u001b[0;34m\u001b[0m\u001b[0;34m\u001b[0m\u001b[0m\n\u001b[0m\u001b[1;32m    151\u001b[0m \u001b[0;34m\u001b[0m\u001b[0m\n\u001b[1;32m    152\u001b[0m     \u001b[0;32mif\u001b[0m \u001b[0mis_cmp\u001b[0m \u001b[0;32mand\u001b[0m \u001b[0;34m(\u001b[0m\u001b[0mis_scalar\u001b[0m\u001b[0;34m(\u001b[0m\u001b[0mresult\u001b[0m\u001b[0;34m)\u001b[0m \u001b[0;32mor\u001b[0m \u001b[0mresult\u001b[0m \u001b[0;32mis\u001b[0m \u001b[0mNotImplemented\u001b[0m\u001b[0;34m)\u001b[0m\u001b[0;34m:\u001b[0m\u001b[0;34m\u001b[0m\u001b[0;34m\u001b[0m\u001b[0m\n",
            "\u001b[0;32m/usr/local/lib/python3.7/dist-packages/pandas/core/ops/array_ops.py\u001b[0m in \u001b[0;36mmasked_arith_op\u001b[0;34m(x, y, op)\u001b[0m\n\u001b[1;32m     78\u001b[0m \u001b[0;34m\u001b[0m\u001b[0m\n\u001b[1;32m     79\u001b[0m         \u001b[0;32mif\u001b[0m \u001b[0mlen\u001b[0m\u001b[0;34m(\u001b[0m\u001b[0mx\u001b[0m\u001b[0;34m)\u001b[0m \u001b[0;34m!=\u001b[0m \u001b[0mlen\u001b[0m\u001b[0;34m(\u001b[0m\u001b[0my\u001b[0m\u001b[0;34m)\u001b[0m\u001b[0;34m:\u001b[0m\u001b[0;34m\u001b[0m\u001b[0;34m\u001b[0m\u001b[0m\n\u001b[0;32m---> 80\u001b[0;31m             \u001b[0;32mraise\u001b[0m \u001b[0mValueError\u001b[0m\u001b[0;34m(\u001b[0m\u001b[0mx\u001b[0m\u001b[0;34m.\u001b[0m\u001b[0mshape\u001b[0m\u001b[0;34m,\u001b[0m \u001b[0my\u001b[0m\u001b[0;34m.\u001b[0m\u001b[0mshape\u001b[0m\u001b[0;34m)\u001b[0m\u001b[0;34m\u001b[0m\u001b[0;34m\u001b[0m\u001b[0m\n\u001b[0m\u001b[1;32m     81\u001b[0m         \u001b[0;32melse\u001b[0m\u001b[0;34m:\u001b[0m\u001b[0;34m\u001b[0m\u001b[0;34m\u001b[0m\u001b[0m\n\u001b[1;32m     82\u001b[0m             \u001b[0mymask\u001b[0m \u001b[0;34m=\u001b[0m \u001b[0mnotna\u001b[0m\u001b[0;34m(\u001b[0m\u001b[0my\u001b[0m\u001b[0;34m)\u001b[0m\u001b[0;34m\u001b[0m\u001b[0;34m\u001b[0m\u001b[0m\n",
            "\u001b[0;31mValueError\u001b[0m: ((1,), (114, 5))"
          ]
        }
      ]
    },
    {
      "cell_type": "code",
      "metadata": {
        "id": "Ob99Ua9ke8Jr"
      },
      "source": [
        "P = cluster_data.drop(\"Politics\", axis=1)\n",
        "P = P.values\n",
        "En = cluster_data.drop(\"Entertainment\", axis=1)\n",
        "En = En.values\n",
        "H = cluster_data.drop(\"Healthcare\", axis=1)\n",
        "H = H.values\n",
        "Sp = cluster_data.drop(\"Sports\", axis=1)\n",
        "Sp = Sp.values\n",
        "Es = cluster_data.drop(\"Entrepreneurship\", axis=1)\n",
        "Es = Es.values\n",
        "Sc = cluster_data.drop(\"ScienceandTech\", axis=1)\n",
        "Sc = Sc.values"
      ],
      "execution_count": 13,
      "outputs": []
    },
    {
      "cell_type": "code",
      "metadata": {
        "colab": {
          "base_uri": "https://localhost:8080/",
          "height": 625
        },
        "id": "7_ibwRPcpwkn",
        "outputId": "696136fe-0c05-4ebe-c301-dfd9d44bf7b1"
      },
      "source": [
        "import pandas as pd\n",
        "import matplotlib.pyplot as plt\n",
        "#from mpl_toolkits.mplot6d import Axes6D\n",
        "import matplotlib as mpl\n",
        "import numpy as np\n",
        "import seaborn as sns\n",
        "%matplotlib inline\n",
        "# testing out scatter plots\n",
        "fig = plt.figure(figsize=(8, 6))\n",
        "plt.title('Politics\tEntertainment\tHealthcare\tSports\tEntrepreneurship\tScienceandTech', fontsize=14)\n",
        "ax = fig.add_subplot(111, projection='3d')\n",
        "xs = list(cluster_data['Politics'])\n",
        "ys = list(cluster_data['Entertainment'])\n",
        "zs = list(cluster_data['Healthcare'])\n",
        "us = list(cluster_data['Sports'])\n",
        "vs = list(cluster_data['Entrepreneurship'])\n",
        "ws = list(cluster_data['ScienceandTech'])\n",
        "data_points = [( x, y, z, u,v,w,) for u,v,w,x, y, z in zip(xs, ys, zs,us,vs,ws)]\n",
        "for data in zip(data_points):\n",
        "    x, y, z,u,v,w = data\n",
        "    ax.scatter(x, y, z,u,v,w, alpha=0.4, edgecolors='none', s=30)\n",
        "\n",
        "ax.set_xlabel('pol')\n",
        "ax.set_ylabel('ent')\n",
        "ax.set_zlabel('h')\n",
        "ax.set_ulabel('sp')\n",
        "ax.set_vlabel('eship')\n",
        "ax.set_wlabel('scitech')"
      ],
      "execution_count": 17,
      "outputs": [
        {
          "output_type": "stream",
          "text": [
            "/usr/local/lib/python3.7/dist-packages/ipykernel_launcher.py:11: MatplotlibDeprecationWarning: Adding an axes using the same arguments as a previous axes currently reuses the earlier instance.  In a future version, a new instance will always be created and returned.  Meanwhile, this warning can be suppressed, and the future behavior ensured, by passing a unique label to each axes instance.\n",
            "  # This is added back by InteractiveShellApp.init_path()\n"
          ],
          "name": "stderr"
        },
        {
          "output_type": "error",
          "ename": "ValueError",
          "evalue": "ignored",
          "traceback": [
            "\u001b[0;31m---------------------------------------------------------------------------\u001b[0m",
            "\u001b[0;31mValueError\u001b[0m                                Traceback (most recent call last)",
            "\u001b[0;32m<ipython-input-17-228d11592c68>\u001b[0m in \u001b[0;36m<module>\u001b[0;34m()\u001b[0m\n\u001b[1;32m     18\u001b[0m \u001b[0mdata_points\u001b[0m \u001b[0;34m=\u001b[0m \u001b[0;34m[\u001b[0m\u001b[0;34m(\u001b[0m \u001b[0mx\u001b[0m\u001b[0;34m,\u001b[0m \u001b[0my\u001b[0m\u001b[0;34m,\u001b[0m \u001b[0mz\u001b[0m\u001b[0;34m,\u001b[0m \u001b[0mu\u001b[0m\u001b[0;34m,\u001b[0m\u001b[0mv\u001b[0m\u001b[0;34m,\u001b[0m\u001b[0mw\u001b[0m\u001b[0;34m,\u001b[0m\u001b[0;34m)\u001b[0m \u001b[0;32mfor\u001b[0m \u001b[0mu\u001b[0m\u001b[0;34m,\u001b[0m\u001b[0mv\u001b[0m\u001b[0;34m,\u001b[0m\u001b[0mw\u001b[0m\u001b[0;34m,\u001b[0m\u001b[0mx\u001b[0m\u001b[0;34m,\u001b[0m \u001b[0my\u001b[0m\u001b[0;34m,\u001b[0m \u001b[0mz\u001b[0m \u001b[0;32min\u001b[0m \u001b[0mzip\u001b[0m\u001b[0;34m(\u001b[0m\u001b[0mxs\u001b[0m\u001b[0;34m,\u001b[0m \u001b[0mys\u001b[0m\u001b[0;34m,\u001b[0m \u001b[0mzs\u001b[0m\u001b[0;34m,\u001b[0m\u001b[0mus\u001b[0m\u001b[0;34m,\u001b[0m\u001b[0mvs\u001b[0m\u001b[0;34m,\u001b[0m\u001b[0mws\u001b[0m\u001b[0;34m)\u001b[0m\u001b[0;34m]\u001b[0m\u001b[0;34m\u001b[0m\u001b[0;34m\u001b[0m\u001b[0m\n\u001b[1;32m     19\u001b[0m \u001b[0;32mfor\u001b[0m \u001b[0mdata\u001b[0m \u001b[0;32min\u001b[0m \u001b[0mzip\u001b[0m\u001b[0;34m(\u001b[0m\u001b[0mdata_points\u001b[0m\u001b[0;34m)\u001b[0m\u001b[0;34m:\u001b[0m\u001b[0;34m\u001b[0m\u001b[0;34m\u001b[0m\u001b[0m\n\u001b[0;32m---> 20\u001b[0;31m     \u001b[0mx\u001b[0m\u001b[0;34m,\u001b[0m \u001b[0my\u001b[0m\u001b[0;34m,\u001b[0m \u001b[0mz\u001b[0m\u001b[0;34m,\u001b[0m\u001b[0mu\u001b[0m\u001b[0;34m,\u001b[0m\u001b[0mv\u001b[0m\u001b[0;34m,\u001b[0m\u001b[0mw\u001b[0m \u001b[0;34m=\u001b[0m \u001b[0mdata\u001b[0m\u001b[0;34m\u001b[0m\u001b[0;34m\u001b[0m\u001b[0m\n\u001b[0m\u001b[1;32m     21\u001b[0m     \u001b[0max\u001b[0m\u001b[0;34m.\u001b[0m\u001b[0mscatter\u001b[0m\u001b[0;34m(\u001b[0m\u001b[0mx\u001b[0m\u001b[0;34m,\u001b[0m \u001b[0my\u001b[0m\u001b[0;34m,\u001b[0m \u001b[0mz\u001b[0m\u001b[0;34m,\u001b[0m\u001b[0mu\u001b[0m\u001b[0;34m,\u001b[0m\u001b[0mv\u001b[0m\u001b[0;34m,\u001b[0m\u001b[0mw\u001b[0m\u001b[0;34m,\u001b[0m \u001b[0malpha\u001b[0m\u001b[0;34m=\u001b[0m\u001b[0;36m0.4\u001b[0m\u001b[0;34m,\u001b[0m \u001b[0medgecolors\u001b[0m\u001b[0;34m=\u001b[0m\u001b[0;34m'none'\u001b[0m\u001b[0;34m,\u001b[0m \u001b[0ms\u001b[0m\u001b[0;34m=\u001b[0m\u001b[0;36m30\u001b[0m\u001b[0;34m)\u001b[0m\u001b[0;34m\u001b[0m\u001b[0;34m\u001b[0m\u001b[0m\n\u001b[1;32m     22\u001b[0m \u001b[0;34m\u001b[0m\u001b[0m\n",
            "\u001b[0;31mValueError\u001b[0m: not enough values to unpack (expected 6, got 1)"
          ]
        },
        {
          "output_type": "display_data",
          "data": {
            "image/png": "[encoded data removed]",
            "text/plain": [
              "<Figure size 576x432 with 1 Axes>"
            ]
          },
          "metadata": {
            "tags": [],
            "needs_background": "light"
          }
        }
      ]
    }
  ]
}