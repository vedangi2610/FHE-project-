{
  "nbformat": 4,
  "nbformat_minor": 0,
  "metadata": {
    "colab": {
      "name": "Untitled3.ipynb",
      "provenance": [],
      "authorship_tag": "ABX9TyOqFPGNerEonhvTKuMA27Hb",
      "include_colab_link": true
    },
    "kernelspec": {
      "name": "python3",
      "display_name": "Python 3"
    },
    "language_info": {
      "name": "python"
    }
  },
  "cells": [
    {
      "cell_type": "markdown",
      "metadata": {
        "id": "view-in-github",
        "colab_type": "text"
      },
      "source": [
        "<a href=\"https://colab.research.google.com/github/vedangi2610/FHE-project-/blob/master/TFIDF_Test.ipynb\" target=\"_parent\"><img src=\"https://colab.research.google.com/assets/colab-badge.svg\" alt=\"Open In Colab\"/></a>"
      ]
    },
    {
      "cell_type": "code",
      "metadata": {
        "id": "GtnT6G8P8rUM"
      },
      "source": [
        "import pandas as pd\n",
        "import sklearn as sk\n",
        "import math"
      ],
      "execution_count": 48,
      "outputs": []
    },
    {
      "cell_type": "code",
      "metadata": {
        "colab": {
          "base_uri": "https://localhost:8080/"
        },
        "id": "dzXbUTO68tHl",
        "outputId": "63cfc775-bc83-4c7d-a073-7a28051b0b7e"
      },
      "source": [
        "first_sentence = \"Data Science is the sexiest job of the 21st century\"\n",
        "second_sentence = \"machine learning science is the key for data science\"\n",
        "#split so each word have their own string\n",
        "first_sentence=first_sentence.lower()\n",
        "second_sentence=second_sentence.lower()\n",
        "first_sentence = first_sentence.split(\" \")\n",
        "second_sentence = second_sentence.split(\" \")#join them to remove common duplicate words\n",
        "total= set(first_sentence).union(set(second_sentence))\n",
        "print(total)"
      ],
      "execution_count": 49,
      "outputs": [
        {
          "output_type": "stream",
          "text": [
            "{'science', '21st', 'century', 'job', 'data', 'learning', 'is', 'for', 'machine', 'sexiest', 'of', 'key', 'the'}\n"
          ],
          "name": "stdout"
        }
      ]
    },
    {
      "cell_type": "code",
      "metadata": {
        "id": "zzpFiWVC8xSE"
      },
      "source": [
        "wordDictA = dict.fromkeys(total, 0) \n",
        "wordDictB = dict.fromkeys(total, 0)\n",
        "for word in first_sentence:\n",
        "    wordDictA[word]+=1\n",
        "    \n",
        "for word in second_sentence:\n",
        "    wordDictB[word]+=1"
      ],
      "execution_count": 50,
      "outputs": []
    },
    {
      "cell_type": "code",
      "metadata": {
        "colab": {
          "base_uri": "https://localhost:8080/",
          "height": 106
        },
        "id": "vXzsyIS_805S",
        "outputId": "f3bb9bd3-5f84-4e61-ec41-178415efdc99"
      },
      "source": [
        "pd.DataFrame([wordDictA, wordDictB])"
      ],
      "execution_count": 51,
      "outputs": [
        {
          "output_type": "execute_result",
          "data": {
            "text/html": [
              "<div>\n",
              "<style scoped>\n",
              "    .dataframe tbody tr th:only-of-type {\n",
              "        vertical-align: middle;\n",
              "    }\n",
              "\n",
              "    .dataframe tbody tr th {\n",
              "        vertical-align: top;\n",
              "    }\n",
              "\n",
              "    .dataframe thead th {\n",
              "        text-align: right;\n",
              "    }\n",
              "</style>\n",
              "<table border=\"1\" class=\"dataframe\">\n",
              "  <thead>\n",
              "    <tr style=\"text-align: right;\">\n",
              "      <th></th>\n",
              "      <th>science</th>\n",
              "      <th>21st</th>\n",
              "      <th>century</th>\n",
              "      <th>job</th>\n",
              "      <th>data</th>\n",
              "      <th>learning</th>\n",
              "      <th>is</th>\n",
              "      <th>for</th>\n",
              "      <th>machine</th>\n",
              "      <th>sexiest</th>\n",
              "      <th>of</th>\n",
              "      <th>key</th>\n",
              "      <th>the</th>\n",
              "    </tr>\n",
              "  </thead>\n",
              "  <tbody>\n",
              "    <tr>\n",
              "      <th>0</th>\n",
              "      <td>1</td>\n",
              "      <td>1</td>\n",
              "      <td>1</td>\n",
              "      <td>1</td>\n",
              "      <td>1</td>\n",
              "      <td>0</td>\n",
              "      <td>1</td>\n",
              "      <td>0</td>\n",
              "      <td>0</td>\n",
              "      <td>1</td>\n",
              "      <td>1</td>\n",
              "      <td>0</td>\n",
              "      <td>2</td>\n",
              "    </tr>\n",
              "    <tr>\n",
              "      <th>1</th>\n",
              "      <td>2</td>\n",
              "      <td>0</td>\n",
              "      <td>0</td>\n",
              "      <td>0</td>\n",
              "      <td>1</td>\n",
              "      <td>1</td>\n",
              "      <td>1</td>\n",
              "      <td>1</td>\n",
              "      <td>1</td>\n",
              "      <td>0</td>\n",
              "      <td>0</td>\n",
              "      <td>1</td>\n",
              "      <td>1</td>\n",
              "    </tr>\n",
              "  </tbody>\n",
              "</table>\n",
              "</div>"
            ],
            "text/plain": [
              "   science  21st  century  job  data  ...  machine  sexiest  of  key  the\n",
              "0        1     1        1    1     1  ...        0        1   1    0    2\n",
              "1        2     0        0    0     1  ...        1        0   0    1    1\n",
              "\n",
              "[2 rows x 13 columns]"
            ]
          },
          "metadata": {
            "tags": []
          },
          "execution_count": 51
        }
      ]
    },
    {
      "cell_type": "code",
      "metadata": {
        "id": "GU0tM0KK84FU"
      },
      "source": [
        "def computeTF(wordDict, doc):\n",
        "    tfDict = {}\n",
        "    corpusCount = len(doc)\n",
        "    for word, count in wordDict.items():\n",
        "        tfDict[word] = count/float(corpusCount)\n",
        "    return(tfDict)\n",
        "#running our sentences through the tf function:\n",
        "tfFirst = computeTF(wordDictA, first_sentence)\n",
        "tfSecond = computeTF(wordDictB, second_sentence)\n",
        "#Converting to dataframe for visualization\n",
        "tf = pd.DataFrame([tfFirst, tfSecond])"
      ],
      "execution_count": 52,
      "outputs": []
    },
    {
      "cell_type": "code",
      "metadata": {
        "colab": {
          "base_uri": "https://localhost:8080/"
        },
        "id": "WiE-tKan87Hv",
        "outputId": "32c39388-351d-4485-d79d-81e13cff9d6a"
      },
      "source": [
        "import nltk\n",
        "nltk.download('stopwords')\n",
        "from nltk.corpus import stopwords\n",
        "stop_words = set(stopwords.words('english'))\n",
        "filtered_sentence = [w for w in wordDictA if not w in stop_words]\n",
        "print(filtered_sentence)"
      ],
      "execution_count": 53,
      "outputs": [
        {
          "output_type": "stream",
          "text": [
            "[nltk_data] Downloading package stopwords to /root/nltk_data...\n",
            "[nltk_data]   Package stopwords is already up-to-date!\n",
            "['science', '21st', 'century', 'job', 'data', 'learning', 'machine', 'sexiest', 'key']\n"
          ],
          "name": "stdout"
        }
      ]
    },
    {
      "cell_type": "code",
      "metadata": {
        "id": "bJzt7LPVAknJ"
      },
      "source": [
        "def ComputeDF(word):\n",
        "  allDocs=[first_sentence, second_sentence]\n",
        "  num_docs_with_given_term = 0\n",
        "  for doc in allDocs:\n",
        "            \n",
        "          \"\"\"\n",
        "          Putting a check if a term appears in a document.\n",
        "          If term is present in the document, then \n",
        "          increment \"num_docs_with_given_term\" variable\n",
        "          \"\"\"\n",
        "          if word.lower() in doc:\n",
        "              num_docs_with_given_term += 1\n",
        "  #print(num_docs_with_given_term)\n",
        "  return (num_docs_with_given_term)"
      ],
      "execution_count": 54,
      "outputs": []
    },
    {
      "cell_type": "code",
      "metadata": {
        "colab": {
          "base_uri": "https://localhost:8080/"
        },
        "id": "Ix4YmdPO8-3E",
        "outputId": "79d5e663-9955-4c95-98fb-fdf6fdd33cf6"
      },
      "source": [
        "\n",
        "def computeIDF(docList):\n",
        "    idfDict = {}\n",
        "    N = len(docList)\n",
        "    print(N)\n",
        "    idfDict = dict.fromkeys(docList[0].keys(), 0)\n",
        "    print(idfDict)\n",
        "    for word, val in idfDict.items():\n",
        "        #print(word,val)\n",
        "        val=ComputeDF(word)\n",
        "        print(word,val)\n",
        "        idfDict[word] = - (math.log10(N / (float(val) + 1)))\n",
        "        \n",
        "    print(idfDict)\n",
        "    return(idfDict)\n",
        "#inputing our sentences in the log file\n",
        "idfs = computeIDF([wordDictA, wordDictB])"
      ],
      "execution_count": 55,
      "outputs": [
        {
          "output_type": "stream",
          "text": [
            "2\n",
            "{'science': 0, '21st': 0, 'century': 0, 'job': 0, 'data': 0, 'learning': 0, 'is': 0, 'for': 0, 'machine': 0, 'sexiest': 0, 'of': 0, 'key': 0, 'the': 0}\n",
            "science 2\n",
            "21st 1\n",
            "century 1\n",
            "job 1\n",
            "data 2\n",
            "learning 1\n",
            "is 2\n",
            "for 1\n",
            "machine 1\n",
            "sexiest 1\n",
            "of 1\n",
            "key 1\n",
            "the 2\n",
            "{'science': 0.17609125905568127, '21st': -0.0, 'century': -0.0, 'job': -0.0, 'data': 0.17609125905568127, 'learning': -0.0, 'is': 0.17609125905568127, 'for': -0.0, 'machine': -0.0, 'sexiest': -0.0, 'of': -0.0, 'key': -0.0, 'the': 0.17609125905568127}\n"
          ],
          "name": "stdout"
        }
      ]
    },
    {
      "cell_type": "code",
      "metadata": {
        "colab": {
          "base_uri": "https://localhost:8080/"
        },
        "id": "xjBB6yHM9NMq",
        "outputId": "1004a3e6-c8db-4a45-c417-8482a128de8b"
      },
      "source": [
        "def computeTFIDF(tfBow, idfs):\n",
        "    tfidf = {}\n",
        "    for word, val in tfBow.items():\n",
        "        tfidf[word] = val*idfs[word]\n",
        "\n",
        "    print(tfidf)\n",
        "    return(tfidf)\n",
        "#running our two sentences through the IDF:\n",
        "idfFirst = computeTFIDF(tfFirst, idfs)\n",
        "idfSecond = computeTFIDF(tfSecond, idfs)\n",
        "#putting it in a dataframe\n",
        "idf= pd.DataFrame([idfFirst, idfSecond])\n",
        "print(idf)"
      ],
      "execution_count": 56,
      "outputs": [
        {
          "output_type": "stream",
          "text": [
            "{'science': 0.017609125905568127, '21st': -0.0, 'century': -0.0, 'job': -0.0, 'data': 0.017609125905568127, 'learning': -0.0, 'is': 0.017609125905568127, 'for': -0.0, 'machine': -0.0, 'sexiest': -0.0, 'of': -0.0, 'key': -0.0, 'the': 0.035218251811136254}\n",
            "{'science': 0.039131390901262504, '21st': -0.0, 'century': -0.0, 'job': -0.0, 'data': 0.019565695450631252, 'learning': -0.0, 'is': 0.019565695450631252, 'for': -0.0, 'machine': -0.0, 'sexiest': -0.0, 'of': -0.0, 'key': -0.0, 'the': 0.019565695450631252}\n",
            "    science  21st  century  job      data  ...  machine  sexiest   of  key       the\n",
            "0  0.017609  -0.0     -0.0 -0.0  0.017609  ...     -0.0     -0.0 -0.0 -0.0  0.035218\n",
            "1  0.039131  -0.0     -0.0 -0.0  0.019566  ...     -0.0     -0.0 -0.0 -0.0  0.019566\n",
            "\n",
            "[2 rows x 13 columns]\n"
          ],
          "name": "stdout"
        }
      ]
    },
    {
      "cell_type": "code",
      "metadata": {
        "id": "CNoak8aQAXkB"
      },
      "source": [
        ""
      ],
      "execution_count": null,
      "outputs": []
    },
    {
      "cell_type": "code",
      "metadata": {
        "id": "tQT71hjR-WiS"
      },
      "source": [
        "#first step is to import the library\n",
        "from sklearn.feature_extraction.text import TfidfVectorizer\n",
        "#for the sentence, make sure all words are lowercase or you will run #into error. for simplicity, I just made the same sentence all #lowercase\n",
        "firstV= \"Data Science is the sexiest job of the 21st century\"\n",
        "secondV= \"machine learning is the key for data science\"\n",
        "#calling the TfidfVectorizer\n",
        "vectorize= TfidfVectorizer()\n",
        "#fitting the model and passing our sentences right away:\n",
        "response= vectorize.fit_transform([firstV, secondV])"
      ],
      "execution_count": 12,
      "outputs": []
    },
    {
      "cell_type": "code",
      "metadata": {
        "colab": {
          "base_uri": "https://localhost:8080/"
        },
        "id": "aTTCnVxX_Bu2",
        "outputId": "fb51fba7-db7e-437c-b82b-b3a9060caa63"
      },
      "source": [
        "print(response)"
      ],
      "execution_count": 13,
      "outputs": [
        {
          "output_type": "stream",
          "text": [
            "  (0, 1)\t0.34211869506421816\n",
            "  (0, 0)\t0.34211869506421816\n",
            "  (0, 9)\t0.34211869506421816\n",
            "  (0, 5)\t0.34211869506421816\n",
            "  (0, 11)\t0.34211869506421816\n",
            "  (0, 12)\t0.48684053853849035\n",
            "  (0, 4)\t0.24342026926924518\n",
            "  (0, 10)\t0.24342026926924518\n",
            "  (0, 2)\t0.24342026926924518\n",
            "  (1, 3)\t0.40740123733358447\n",
            "  (1, 6)\t0.40740123733358447\n",
            "  (1, 7)\t0.40740123733358447\n",
            "  (1, 8)\t0.40740123733358447\n",
            "  (1, 12)\t0.28986933576883284\n",
            "  (1, 4)\t0.28986933576883284\n",
            "  (1, 10)\t0.28986933576883284\n",
            "  (1, 2)\t0.28986933576883284\n"
          ],
          "name": "stdout"
        }
      ]
    },
    {
      "cell_type": "code",
      "metadata": {
        "id": "xgcnJBSt_SLG"
      },
      "source": [
        ""
      ],
      "execution_count": null,
      "outputs": []
    }
  ]
}