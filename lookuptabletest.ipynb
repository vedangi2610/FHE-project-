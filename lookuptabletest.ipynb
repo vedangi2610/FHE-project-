{
  "nbformat": 4,
  "nbformat_minor": 0,
  "metadata": {
    "colab": {
      "name": "lookuptabletest.ipynb",
      "provenance": [],
      "authorship_tag": "ABX9TyO5NIzlsmf9C5kCD2FQcg/x",
      "include_colab_link": true
    },
    "kernelspec": {
      "name": "python3",
      "display_name": "Python 3"
    },
    "language_info": {
      "name": "python"
    }
  },
  "cells": [
    {
      "cell_type": "markdown",
      "metadata": {
        "id": "view-in-github",
        "colab_type": "text"
      },
      "source": [
        "<a href=\"https://colab.research.google.com/github/vedangi2610/FHE-project-/blob/master/lookuptabletest.ipynb\" target=\"_parent\"><img src=\"https://colab.research.google.com/assets/colab-badge.svg\" alt=\"Open In Colab\"/></a>"
      ]
    },
    {
      "cell_type": "code",
      "metadata": {
        "id": "D_jAajRSQdm1"
      },
      "source": [
        "import csv\n",
        "import pandas as pd\n",
        "\n",
        "int_df = pd.read_csv('https://raw.githubusercontent.com/vedangi2610/FHE-project-/master/interest_vector/interest_vector.csv', error_bad_lines=False)"
      ],
      "execution_count": 2,
      "outputs": []
    },
    {
      "cell_type": "code",
      "metadata": {
        "id": "nq6dBgORoax4"
      },
      "source": [
        "pol = int_df['Politics']\n",
        "ent = int_df['Entertainment']\n",
        "health = int_df['Healthcare']\n",
        "sports = int_df['Sports']\n",
        "entre = int_df['Entrepreneurship']\n",
        "sci = int_df['ScienceandTech']"
      ],
      "execution_count": 3,
      "outputs": []
    },
    {
      "cell_type": "code",
      "metadata": {
        "id": "0H5o0-fQR_VW"
      },
      "source": [
        "max= 0\n",
        "min=1\n",
        "leng = len(int_df)\n",
        "tot = []\n",
        "\n",
        "for i in range(len(pol)-1):\n",
        "  dif =[]\n",
        "  dif.append(pol[i]-pol[i+1])\n",
        "  dif.append(ent[i]-ent[i+1])\n",
        "  dif.append(health[i]-health[i+1])\n",
        "  dif.append(sports[i]-sports[i+1])\n",
        "  dif.append(entre[i]-entre[i+1])\n",
        "  dif.append(sci[i]-sci[i+1])\n",
        "  tot.append(dif)\n",
        "  for j in range(0,6):\n",
        "    if max<dif[j]:\n",
        "      max = dif[j]\n",
        "    if min>dif[j]:\n",
        "      min = dif[j]\n",
        "  \n",
        "  "
      ],
      "execution_count": 11,
      "outputs": []
    },
    {
      "cell_type": "code",
      "metadata": {
        "colab": {
          "base_uri": "https://localhost:8080/"
        },
        "id": "_w10jY0Hakzl",
        "outputId": "43a1882c-7cd4-4b8e-ad59-e03a4617f522"
      },
      "source": [
        "max"
      ],
      "execution_count": 12,
      "outputs": [
        {
          "output_type": "execute_result",
          "data": {
            "text/plain": [
              "0.55"
            ]
          },
          "metadata": {
            "tags": []
          },
          "execution_count": 12
        }
      ]
    },
    {
      "cell_type": "code",
      "metadata": {
        "id": "edIeGbt7s9M8",
        "colab": {
          "base_uri": "https://localhost:8080/"
        },
        "outputId": "a7ad838e-27bb-44b9-d8a0-fe9f2d49dd3f"
      },
      "source": [
        "min"
      ],
      "execution_count": 13,
      "outputs": [
        {
          "output_type": "execute_result",
          "data": {
            "text/plain": [
              "-0.51"
            ]
          },
          "metadata": {
            "tags": []
          },
          "execution_count": 13
        }
      ]
    },
    {
      "cell_type": "code",
      "metadata": {
        "id": "abIbFwEAf5-s"
      },
      "source": [
        ""
      ],
      "execution_count": null,
      "outputs": []
    }
  ]
}