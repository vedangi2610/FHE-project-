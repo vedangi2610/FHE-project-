{
  "nbformat": 4,
  "nbformat_minor": 0,
  "metadata": {
    "colab": {
      "name": "TweetCollection.ipynb",
      "provenance": [],
      "authorship_tag": "ABX9TyO3X/BSFysFRYVk4xIZ0Edn",
      "include_colab_link": true
    },
    "kernelspec": {
      "name": "python3",
      "display_name": "Python 3"
    }
  },
  "cells": [
    {
      "cell_type": "markdown",
      "metadata": {
        "id": "view-in-github",
        "colab_type": "text"
      },
      "source": [
        "<a href=\"https://colab.research.google.com/github/vedangi2610/FHE-project-/blob/master/TweetCollection.ipynb\" target=\"_parent\"><img src=\"https://colab.research.google.com/assets/colab-badge.svg\" alt=\"Open In Colab\"/></a>"
      ]
    },
    {
      "cell_type": "markdown",
      "metadata": {
        "id": "rjyx3MDutJEM"
      },
      "source": [
        "TWEET COLLECTION (lets do this!)\r\n"
      ]
    },
    {
      "cell_type": "code",
      "metadata": {
        "id": "iLmoAlW8skTx"
      },
      "source": [
        "import tweepy\r\n",
        "import csv"
      ],
      "execution_count": null,
      "outputs": []
    },
    {
      "cell_type": "code",
      "metadata": {
        "id": "l7ZMXy4bxDJ_"
      },
      "source": [
        "# Twitter API credentials\r\n",
        "consumer_key = \"gb0D5CHSg8ibPAQNS41Fv30aP\" #API key\r\n",
        "consumer_secret = \"yYxiRWAxUGr0n0pluX2lRmZkfPzJgh3gYY92iK15bBvId3qX34\" \r\n",
        "access_token = \"1265914852058337280-T4Qa48zoiKOGLvN774LUDo9WQLIxS8\" \r\n",
        "access_token_secret = \"sJJW1I4cGEq6Ru6yQju1f9NEXYHSmqdL6wRuPrwX9pAVm\""
      ],
      "execution_count": null,
      "outputs": []
    },
    {
      "cell_type": "code",
      "metadata": {
        "id": "PHEZlNjbx81c"
      },
      "source": [
        "# Function to extract tweets \r\n",
        "def get_tweets(username): \r\n",
        "    \r\n",
        "        # Authorize twitter, initilaize tweepy \r\n",
        "        auth = tweepy.OAuthHandler(consumer_key, consumer_secret) \r\n",
        "        auth.set_access_token(access_token, access_token_secret) \r\n",
        "  \r\n",
        "        # Calling api \r\n",
        "        api = tweepy.API(auth) \r\n",
        "  \r\n",
        "        # 200 tweets to be extracted \r\n",
        "        number_of_tweets=200\r\n",
        "        tweets = api.user_timeline(screen_name=username, count=number_of_tweets) \r\n",
        "  \r\n",
        "        # Empty Array to hold tweets\r\n",
        "        tmp=[]  \r\n",
        "  \r\n",
        "        # create array of tweet information: username,  \r\n",
        "        # tweet id, date/time, text \r\n",
        "        tweets_for_csv = [tweet.text for tweet in tweets] # CSV file created  \r\n",
        "        \r\n",
        "        for j in tweets_for_csv: \r\n",
        "  \r\n",
        "            # Appending tweets to the empty array tmp \r\n",
        "            tmp.append(j)  \r\n",
        "  \r\n",
        "        # Printing the tweets \r\n",
        "        # print(tmp)\r\n",
        "        # print(tweets)\r\n",
        "        print(type(tweets))\r\n",
        "        # print(tweets_for_csv)\r\n",
        "        '''Code for csv file addition'''\r\n",
        "        # Open/create a file to append data to\r\n",
        "        csvFile = open('result.csv', 'a', encoding=\"utf-8\")\r\n",
        "        csvWriter = csv.writer(csvFile)\r\n",
        "        csvWriter.writerow([\"id\",\"created_at\",\"text\",\"likes\",\"retweeted\"])\r\n",
        "        for tweet in tweets:\r\n",
        "            csvWriter.writerow([tweet.id, tweet.created_at, tweet.text, tweet.favorite_count, tweet.retweet_count])\r\n",
        "        csvFile.close()\r\n",
        "\r\n",
        "\r\n"
      ],
      "execution_count": null,
      "outputs": []
    },
    {
      "cell_type": "code",
      "metadata": {
        "colab": {
          "base_uri": "https://localhost:8080/"
        },
        "id": "ZwvHAyQBx_r1",
        "outputId": "e19a78c0-5ba5-4831-8622-886d8a765c83"
      },
      "source": [
        "#@title Enter a username\r\n",
        "username = 'weedbiryani' #@param {type:\"string\"}\r\n",
        "get_tweets(username)"
      ],
      "execution_count": null,
      "outputs": [
        {
          "output_type": "stream",
          "text": [
            "<class 'tweepy.models.ResultSet'>\n"
          ],
          "name": "stdout"
        }
      ]
    }
  ]
}