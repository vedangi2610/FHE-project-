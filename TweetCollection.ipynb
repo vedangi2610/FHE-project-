{
  "nbformat": 4,
  "nbformat_minor": 0,
  "metadata": {
    "colab": {
      "name": "TweetCollection.ipynb",
      "provenance": [],
      "include_colab_link": true
    },
    "kernelspec": {
      "name": "python3",
      "display_name": "Python 3"
    }
  },
  "cells": [
    {
      "cell_type": "markdown",
      "metadata": {
        "id": "view-in-github",
        "colab_type": "text"
      },
      "source": [
        "<a href=\"https://colab.research.google.com/github/vedangi2610/FHE-project-/blob/master/TweetCollection.ipynb\" target=\"_parent\"><img src=\"https://colab.research.google.com/assets/colab-badge.svg\" alt=\"Open In Colab\"/></a>"
      ]
    },
    {
      "cell_type": "markdown",
      "metadata": {
        "id": "rjyx3MDutJEM"
      },
      "source": [
        "TWEET COLLECTION (lets do this!)\r\n"
      ]
    },
    {
      "cell_type": "code",
      "metadata": {
        "id": "iLmoAlW8skTx"
      },
      "source": [
        "import tweepy\r\n",
        "import csv"
      ],
      "execution_count": 33,
      "outputs": []
    },
    {
      "cell_type": "code",
      "metadata": {
        "id": "l7ZMXy4bxDJ_"
      },
      "source": [
        "# Twitter API credentials\r\n",
        "consumer_key = \"gb0D5CHSg8ibPAQNS41Fv30aP\" #API key\r\n",
        "consumer_secret = \"yYxiRWAxUGr0n0pluX2lRmZkfPzJgh3gYY92iK15bBvId3qX34\" \r\n",
        "access_token = \"1265914852058337280-T4Qa48zoiKOGLvN774LUDo9WQLIxS8\" \r\n",
        "access_token_secret = \"sJJW1I4cGEq6Ru6yQju1f9NEXYHSmqdL6wRuPrwX9pAVm\""
      ],
      "execution_count": 34,
      "outputs": []
    },
    {
      "cell_type": "code",
      "metadata": {
        "id": "PHEZlNjbx81c"
      },
      "source": [
        "# Function to extract tweets \r\n",
        "def get_tweets(username): \r\n",
        "    \r\n",
        "        # Authorize twitter, initilaize tweepy \r\n",
        "        auth = tweepy.OAuthHandler(consumer_key, consumer_secret) \r\n",
        "        auth.set_access_token(access_token, access_token_secret) \r\n",
        "  \r\n",
        "        # Calling api \r\n",
        "        api = tweepy.API(auth) \r\n",
        "  \r\n",
        "        # 200 tweets to be extracted \r\n",
        "        number_of_tweets=200\r\n",
        "        tweets = api.user_timeline(screen_name=username, count=number_of_tweets) \r\n",
        "\r\n",
        "\r\n",
        "        '''Code for csv file addition'''\r\n",
        "        # Open/create a file to append data\r\n",
        "        # This will add data to the file Not create a new file each run\r\n",
        "\r\n",
        "        csvFile = open('result.csv', 'a', encoding=\"utf-8\")\r\n",
        "        csvWriter = csv.writer(csvFile)\r\n",
        "        csvWriter.writerow([\"id\",\"username\",\"created_at\",\"text\",\"likes\",\"retweeted\"])\r\n",
        "        for tweet in tweets:\r\n",
        "            csvWriter.writerow([tweet.id, tweet.user.screen_name, tweet.created_at, tweet.text, tweet.favorite_count, tweet.retweet_count])\r\n",
        "        csvFile.close()\r\n",
        "\r\n",
        "\r\n"
      ],
      "execution_count": 37,
      "outputs": []
    },
    {
      "cell_type": "code",
      "metadata": {
        "id": "ZwvHAyQBx_r1"
      },
      "source": [
        "#@title Enter a username\r\n",
        "username = 'weedbiryani' #@param {type:\"string\"}\r\n",
        "get_tweets(username)"
      ],
      "execution_count": 36,
      "outputs": []
    },
    {
      "cell_type": "code",
      "metadata": {
        "id": "gbDYtypt7MEF"
      },
      "source": [
        ""
      ],
      "execution_count": null,
      "outputs": []
    }
  ]
}