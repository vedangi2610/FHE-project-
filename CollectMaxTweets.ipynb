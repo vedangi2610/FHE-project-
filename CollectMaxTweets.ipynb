{
  "nbformat": 4,
  "nbformat_minor": 0,
  "metadata": {
    "colab": {
      "name": "Untitled1.ipynb",
      "provenance": [],
      "authorship_tag": "ABX9TyPsxFpnmHVUxV4T13/Nanhx",
      "include_colab_link": true
    },
    "kernelspec": {
      "name": "python3",
      "display_name": "Python 3"
    }
  },
  "cells": [
    {
      "cell_type": "markdown",
      "metadata": {
        "id": "view-in-github",
        "colab_type": "text"
      },
      "source": [
        "<a href=\"https://colab.research.google.com/github/vedangi2610/FHE-project-/blob/master/CollectMaxTweets.ipynb\" target=\"_parent\"><img src=\"https://colab.research.google.com/assets/colab-badge.svg\" alt=\"Open In Colab\"/></a>"
      ]
    },
    {
      "cell_type": "code",
      "metadata": {
        "id": "hB7dCfc6mj1S"
      },
      "source": [
        "import tweepy #https://github.com/tweepy/tweepy\r\n",
        "import csv"
      ],
      "execution_count": 1,
      "outputs": []
    },
    {
      "cell_type": "code",
      "metadata": {
        "id": "abfqu_uTmlSn"
      },
      "source": [
        "#Twitter API credentials\r\n",
        "consumer_key = \"kB05ueHmnwXSqQbah9QBETV5s\"\r\n",
        "consumer_secret = \"8SBnQwZHGthoKIA50231K46j4kiRdLqVs54WXvn3t0h6xYKd0Q\"\r\n",
        "access_key = \"899207374048710656-J0xFuFaHQ8mv0EJBsXOTxaSAyRjs2UP\"\r\n",
        "access_secret = \"cvBFKYoW9zUqkIavedyEj8Wte0r2UnXRNCwVJyT0apjmw\""
      ],
      "execution_count": 3,
      "outputs": []
    },
    {
      "cell_type": "code",
      "metadata": {
        "colab": {
          "base_uri": "https://localhost:8080/"
        },
        "id": "yx0h6i89m9V9",
        "outputId": "4ca1b2e4-cae3-43aa-85c4-52363688074e"
      },
      "source": [
        "def get_all_tweets(screen_name):\r\n",
        "    #Twitter only allows access to a users most recent 3240 tweets with this method\r\n",
        "    \r\n",
        "    #authorize twitter, initialize tweepy\r\n",
        "    auth = tweepy.OAuthHandler(consumer_key, consumer_secret)\r\n",
        "    auth.set_access_token(access_key, access_secret)\r\n",
        "    api = tweepy.API(auth)\r\n",
        "    \r\n",
        "    #initialize a list to hold all the tweepy Tweets\r\n",
        "    alltweets = []  \r\n",
        "    \r\n",
        "    #make initial request for most recent tweets (200 is the maximum allowed count)\r\n",
        "    new_tweets = api.user_timeline(screen_name = screen_name,count=200)\r\n",
        "    \r\n",
        "    #save most recent tweets\r\n",
        "    alltweets.extend(new_tweets)\r\n",
        "    \r\n",
        "    #save the id of the oldest tweet less one\r\n",
        "    oldest = alltweets[-1].id - 1\r\n",
        "    \r\n",
        "    #keep grabbing tweets until there are no tweets left to grab\r\n",
        "    while len(new_tweets) > 0:\r\n",
        "        print(f\"getting tweets before {oldest}\")\r\n",
        "        \r\n",
        "        #all subsiquent requests use the max_id param to prevent duplicates\r\n",
        "        new_tweets = api.user_timeline(screen_name = screen_name,count=200,max_id=oldest)\r\n",
        "        \r\n",
        "        #save most recent tweets\r\n",
        "        alltweets.extend(new_tweets)\r\n",
        "        \r\n",
        "        #update the id of the oldest tweet less one\r\n",
        "        oldest = alltweets[-1].id - 1\r\n",
        "        \r\n",
        "        print(f\"...{len(alltweets)} tweets downloaded so far\")\r\n",
        "    \r\n",
        "    #transform the tweepy tweets into a 2D array that will populate the csv \r\n",
        "    outtweets = [[tweet.id_str, tweet.created_at, tweet.text] for tweet in alltweets]\r\n",
        "    \r\n",
        "    #write the csv  \r\n",
        "    with open(f'new_{screen_name}_tweets.csv', 'w') as f:\r\n",
        "        writer = csv.writer(f)\r\n",
        "        writer.writerow([\"id\",\"created_at\",\"text\"])\r\n",
        "        writer.writerows(outtweets)\r\n",
        "    \r\n",
        "    pass\r\n",
        "\r\n",
        "\r\n",
        "if __name__ == '__main__':\r\n",
        "\t#pass in the username of the account you want to download\r\n",
        "\tget_all_tweets(\"weedbiryani\")"
      ],
      "execution_count": 5,
      "outputs": [
        {
          "output_type": "stream",
          "text": [
            "getting tweets before 1363863551769600002\n",
            "...388 tweets downloaded so far\n",
            "getting tweets before 1358352830298427394\n",
            "...575 tweets downloaded so far\n",
            "getting tweets before 1352261068819632128\n",
            "...760 tweets downloaded so far\n",
            "getting tweets before 1337301470895468544\n",
            "...944 tweets downloaded so far\n",
            "getting tweets before 1323882877675732991\n",
            "...1126 tweets downloaded so far\n",
            "getting tweets before 1302497311587667967\n",
            "...1300 tweets downloaded so far\n",
            "getting tweets before 1268153840370581503\n",
            "...1475 tweets downloaded so far\n",
            "getting tweets before 1255045083906244613\n",
            "...1656 tweets downloaded so far\n",
            "getting tweets before 1248674570040520703\n",
            "...1842 tweets downloaded so far\n",
            "getting tweets before 1242382438791286789\n",
            "...2026 tweets downloaded so far\n",
            "getting tweets before 1231447499891757056\n",
            "...2205 tweets downloaded so far\n",
            "getting tweets before 1222504224224874496\n",
            "...2381 tweets downloaded so far\n",
            "getting tweets before 1193781408751345663\n",
            "...2410 tweets downloaded so far\n",
            "getting tweets before 1168070938447044607\n",
            "...2410 tweets downloaded so far\n"
          ],
          "name": "stdout"
        }
      ]
    },
    {
      "cell_type": "code",
      "metadata": {
        "id": "zP1HEALsnk9z"
      },
      "source": [
        ""
      ],
      "execution_count": null,
      "outputs": []
    }
  ]
}