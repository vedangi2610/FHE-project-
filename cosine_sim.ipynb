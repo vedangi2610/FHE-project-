{
  "nbformat": 4,
  "nbformat_minor": 0,
  "metadata": {
    "colab": {
      "name": "cosine_sim.ipynb",
      "provenance": [],
      "authorship_tag": "ABX9TyMNKTa8DuR4Apn+uPcRPaFD",
      "include_colab_link": true
    },
    "kernelspec": {
      "name": "python3",
      "display_name": "Python 3"
    },
    "language_info": {
      "name": "python"
    }
  },
  "cells": [
    {
      "cell_type": "markdown",
      "metadata": {
        "id": "view-in-github",
        "colab_type": "text"
      },
      "source": [
        "<a href=\"https://colab.research.google.com/github/vedangi2610/FHE-project-/blob/master/cosine_sim.ipynb\" target=\"_parent\"><img src=\"https://colab.research.google.com/assets/colab-badge.svg\" alt=\"Open In Colab\"/></a>"
      ]
    },
    {
      "cell_type": "code",
      "metadata": {
        "id": "GZi59fDHvLA2"
      },
      "source": [
        "import pandas as pd\n",
        "import re\n",
        "import numpy as np\n",
        "pol_df = pd.read_csv('https://raw.githubusercontent.com/vedangi2610/FHE-project-/master/data_preprocessing/vocabPolitics.csv')\n",
        "user_df = pd.read_csv('https://raw.githubusercontent.com/vedangi2610/FHE-project-/master/data_preprocessing/user_data_vocab/vocab_ShekharGupta.csv')\n",
        "def preprocessVocab(df):\n",
        "  df.rename( columns={'Unnamed: 0':'word'}, inplace=True )\n",
        "  df.word = df.word.apply(lambda x: re.sub(r\"[^a-z\\s\\(\\-:\\)\\\\\\/\\;=#]\", '', x))\n",
        "  df['word'].replace('', np.nan, inplace=True)\n",
        "  df.dropna(subset=['word'], inplace=True)\n",
        "  df.reset_index(inplace = True)\n",
        "  \n",
        "preprocessVocab(pol_df)\n",
        "preprocessVocab(user_df)\n"
      ],
      "execution_count": 37,
      "outputs": []
    },
    {
      "cell_type": "code",
      "metadata": {
        "colab": {
          "base_uri": "https://localhost:8080/"
        },
        "id": "lMmo_L6Jwly2",
        "outputId": "44787e05-d37e-485c-edf3-10543e498cfd"
      },
      "source": [
        "df = pd.concat([pol_df.word, user_df.word])\n",
        "user_list =[]\n",
        "pol_list = []\n",
        "\n",
        "for i in df.head():\n",
        "  print(pol_df.loc[pol_df['word'] == i])\n"
      ],
      "execution_count": 47,
      "outputs": [
        {
          "output_type": "stream",
          "text": [
            "     index   word  lemmas\n",
            "0        0  trump    2852\n",
            "234    235  trump     123\n",
            "279    280  trump     109\n",
            "       index word  lemmas\n",
            "1          1  say    1483\n",
            "335      336  say      90\n",
            "1543    1544  say      22\n",
            "10908  10909  say       2\n",
            "      index  word  lemmas\n",
            "2         3  pres    1141\n",
            "8         9  pres     710\n",
            "1521   1522  pres      22\n",
            "     index       word  lemmas\n",
            "3        4  president    1030\n",
            "163    164  president     154\n",
            "393    394  president      77\n",
            "     index   word  lemmas\n",
            "4        5  today    1023\n",
            "141    142  today     169\n",
            "330    331  today      92\n"
          ],
          "name": "stdout"
        }
      ]
    },
    {
      "cell_type": "code",
      "metadata": {
        "id": "Oqwk7oYl2YTN"
      },
      "source": [
        ""
      ],
      "execution_count": null,
      "outputs": []
    }
  ]
}