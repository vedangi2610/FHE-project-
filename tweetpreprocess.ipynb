{
  "nbformat": 4,
  "nbformat_minor": 0,
  "metadata": {
    "colab": {
      "name": "tweetpreprocess.ipynb",
      "provenance": [],
      "authorship_tag": "ABX9TyP7IYVbzOFP+7mIf6GCoHnA",
      "include_colab_link": true
    },
    "kernelspec": {
      "name": "python3",
      "display_name": "Python 3"
    },
    "accelerator": "GPU"
  },
  "cells": [
    {
      "cell_type": "markdown",
      "metadata": {
        "id": "view-in-github",
        "colab_type": "text"
      },
      "source": [
        "<a href=\"https://colab.research.google.com/github/vedangi2610/FHE-project-/blob/master/tweetpreprocess.ipynb\" target=\"_parent\"><img src=\"https://colab.research.google.com/assets/colab-badge.svg\" alt=\"Open In Colab\"/></a>"
      ]
    },
    {
      "cell_type": "code",
      "metadata": {
        "id": "7z78X4Xypq0C"
      },
      "source": [
        "import pandas as pd"
      ],
      "execution_count": 1,
      "outputs": []
    },
    {
      "cell_type": "code",
      "metadata": {
        "id": "LfOoF6tDpR-0"
      },
      "source": [
        "# using the politics dataset from github\r\n",
        "url = 'https://raw.githubusercontent.com/vedangi2610/FHE-project-/master/data_collection/politics.csv'\r\n",
        "tweet_df = pd.read_csv(url)"
      ],
      "execution_count": 2,
      "outputs": []
    },
    {
      "cell_type": "code",
      "metadata": {
        "colab": {
          "base_uri": "https://localhost:8080/",
          "height": 204
        },
        "id": "7TS8e0XWpvlf",
        "outputId": "42368db9-c745-41ed-8ab3-8ff3574ff763"
      },
      "source": [
        "tweet_df.head()"
      ],
      "execution_count": 3,
      "outputs": [
        {
          "output_type": "execute_result",
          "data": {
            "text/html": [
              "<div>\n",
              "<style scoped>\n",
              "    .dataframe tbody tr th:only-of-type {\n",
              "        vertical-align: middle;\n",
              "    }\n",
              "\n",
              "    .dataframe tbody tr th {\n",
              "        vertical-align: top;\n",
              "    }\n",
              "\n",
              "    .dataframe thead th {\n",
              "        text-align: right;\n",
              "    }\n",
              "</style>\n",
              "<table border=\"1\" class=\"dataframe\">\n",
              "  <thead>\n",
              "    <tr style=\"text-align: right;\">\n",
              "      <th></th>\n",
              "      <th>id</th>\n",
              "      <th>username</th>\n",
              "      <th>created_at</th>\n",
              "      <th>text</th>\n",
              "      <th>likes</th>\n",
              "      <th>retweeted</th>\n",
              "    </tr>\n",
              "  </thead>\n",
              "  <tbody>\n",
              "    <tr>\n",
              "      <th>0</th>\n",
              "      <td>1352944690606141440</td>\n",
              "      <td>narendramodi</td>\n",
              "      <td>2021-01-23 11:42:05</td>\n",
              "      <td>India marks #ParakramDivas and pays homage to ...</td>\n",
              "      <td>13106</td>\n",
              "      <td>3256</td>\n",
              "    </tr>\n",
              "    <tr>\n",
              "      <th>1</th>\n",
              "      <td>1352879101112152064</td>\n",
              "      <td>narendramodi</td>\n",
              "      <td>2021-01-23 07:21:27</td>\n",
              "      <td>On the way to Kolkata to mark #ParakarmDivas a...</td>\n",
              "      <td>41190</td>\n",
              "      <td>7855</td>\n",
              "    </tr>\n",
              "    <tr>\n",
              "      <th>2</th>\n",
              "      <td>1352878844588535808</td>\n",
              "      <td>narendramodi</td>\n",
              "      <td>2021-01-23 07:20:26</td>\n",
              "      <td>सबका साथ सबका विकास, सबका विश्वास के मंत्र पर ...</td>\n",
              "      <td>6941</td>\n",
              "      <td>1995</td>\n",
              "    </tr>\n",
              "    <tr>\n",
              "      <th>3</th>\n",
              "      <td>1352878695728500736</td>\n",
              "      <td>narendramodi</td>\n",
              "      <td>2021-01-23 07:19:50</td>\n",
              "      <td>We are working towards Assam’s development bas...</td>\n",
              "      <td>7517</td>\n",
              "      <td>2020</td>\n",
              "    </tr>\n",
              "    <tr>\n",
              "      <th>4</th>\n",
              "      <td>1352878393646264320</td>\n",
              "      <td>narendramodi</td>\n",
              "      <td>2021-01-23 07:18:38</td>\n",
              "      <td>To build an Aatmanirbhar Bharat, we have to fo...</td>\n",
              "      <td>12064</td>\n",
              "      <td>2762</td>\n",
              "    </tr>\n",
              "  </tbody>\n",
              "</table>\n",
              "</div>"
            ],
            "text/plain": [
              "                    id      username  ...  likes retweeted\n",
              "0  1352944690606141440  narendramodi  ...  13106      3256\n",
              "1  1352879101112152064  narendramodi  ...  41190      7855\n",
              "2  1352878844588535808  narendramodi  ...   6941      1995\n",
              "3  1352878695728500736  narendramodi  ...   7517      2020\n",
              "4  1352878393646264320  narendramodi  ...  12064      2762\n",
              "\n",
              "[5 rows x 6 columns]"
            ]
          },
          "metadata": {
            "tags": []
          },
          "execution_count": 3
        }
      ]
    },
    {
      "cell_type": "code",
      "metadata": {
        "id": "xIrnCjAjPz1g",
        "outputId": "b0b90ac9-8424-412d-a48d-3a85c6d84bf2",
        "colab": {
          "base_uri": "https://localhost:8080/",
          "height": 289
        }
      },
      "source": [
        "#adding a new column for cleaned tweets\r\n",
        "tweet_df.insert(4, \"cleaned_tweets\", tweet_df['text'], True)\r\n",
        "tweet_df.head()"
      ],
      "execution_count": 4,
      "outputs": [
        {
          "output_type": "execute_result",
          "data": {
            "text/html": [
              "<div>\n",
              "<style scoped>\n",
              "    .dataframe tbody tr th:only-of-type {\n",
              "        vertical-align: middle;\n",
              "    }\n",
              "\n",
              "    .dataframe tbody tr th {\n",
              "        vertical-align: top;\n",
              "    }\n",
              "\n",
              "    .dataframe thead th {\n",
              "        text-align: right;\n",
              "    }\n",
              "</style>\n",
              "<table border=\"1\" class=\"dataframe\">\n",
              "  <thead>\n",
              "    <tr style=\"text-align: right;\">\n",
              "      <th></th>\n",
              "      <th>id</th>\n",
              "      <th>username</th>\n",
              "      <th>created_at</th>\n",
              "      <th>text</th>\n",
              "      <th>cleaned_tweets</th>\n",
              "      <th>likes</th>\n",
              "      <th>retweeted</th>\n",
              "    </tr>\n",
              "  </thead>\n",
              "  <tbody>\n",
              "    <tr>\n",
              "      <th>0</th>\n",
              "      <td>1352944690606141440</td>\n",
              "      <td>narendramodi</td>\n",
              "      <td>2021-01-23 11:42:05</td>\n",
              "      <td>India marks #ParakramDivas and pays homage to ...</td>\n",
              "      <td>India marks #ParakramDivas and pays homage to ...</td>\n",
              "      <td>13106</td>\n",
              "      <td>3256</td>\n",
              "    </tr>\n",
              "    <tr>\n",
              "      <th>1</th>\n",
              "      <td>1352879101112152064</td>\n",
              "      <td>narendramodi</td>\n",
              "      <td>2021-01-23 07:21:27</td>\n",
              "      <td>On the way to Kolkata to mark #ParakarmDivas a...</td>\n",
              "      <td>On the way to Kolkata to mark #ParakarmDivas a...</td>\n",
              "      <td>41190</td>\n",
              "      <td>7855</td>\n",
              "    </tr>\n",
              "    <tr>\n",
              "      <th>2</th>\n",
              "      <td>1352878844588535808</td>\n",
              "      <td>narendramodi</td>\n",
              "      <td>2021-01-23 07:20:26</td>\n",
              "      <td>सबका साथ सबका विकास, सबका विश्वास के मंत्र पर ...</td>\n",
              "      <td>सबका साथ सबका विकास, सबका विश्वास के मंत्र पर ...</td>\n",
              "      <td>6941</td>\n",
              "      <td>1995</td>\n",
              "    </tr>\n",
              "    <tr>\n",
              "      <th>3</th>\n",
              "      <td>1352878695728500736</td>\n",
              "      <td>narendramodi</td>\n",
              "      <td>2021-01-23 07:19:50</td>\n",
              "      <td>We are working towards Assam’s development bas...</td>\n",
              "      <td>We are working towards Assam’s development bas...</td>\n",
              "      <td>7517</td>\n",
              "      <td>2020</td>\n",
              "    </tr>\n",
              "    <tr>\n",
              "      <th>4</th>\n",
              "      <td>1352878393646264320</td>\n",
              "      <td>narendramodi</td>\n",
              "      <td>2021-01-23 07:18:38</td>\n",
              "      <td>To build an Aatmanirbhar Bharat, we have to fo...</td>\n",
              "      <td>To build an Aatmanirbhar Bharat, we have to fo...</td>\n",
              "      <td>12064</td>\n",
              "      <td>2762</td>\n",
              "    </tr>\n",
              "  </tbody>\n",
              "</table>\n",
              "</div>"
            ],
            "text/plain": [
              "                    id      username  ...  likes retweeted\n",
              "0  1352944690606141440  narendramodi  ...  13106      3256\n",
              "1  1352879101112152064  narendramodi  ...  41190      7855\n",
              "2  1352878844588535808  narendramodi  ...   6941      1995\n",
              "3  1352878695728500736  narendramodi  ...   7517      2020\n",
              "4  1352878393646264320  narendramodi  ...  12064      2762\n",
              "\n",
              "[5 rows x 7 columns]"
            ]
          },
          "metadata": {
            "tags": []
          },
          "execution_count": 4
        }
      ]
    },
    {
      "cell_type": "code",
      "metadata": {
        "colab": {
          "base_uri": "https://localhost:8080/",
          "height": 272
        },
        "id": "Ek9QwHZ6p0dY",
        "outputId": "14ecdeb7-794f-4a83-8295-6631ccc4d35d"
      },
      "source": [
        "# changing to lower case \r\n",
        "tweet_df['cleaned_tweets'] = tweet_df.cleaned_tweets.str.lower()\r\n",
        "tweet_df.head()"
      ],
      "execution_count": 5,
      "outputs": [
        {
          "output_type": "execute_result",
          "data": {
            "text/html": [
              "<div>\n",
              "<style scoped>\n",
              "    .dataframe tbody tr th:only-of-type {\n",
              "        vertical-align: middle;\n",
              "    }\n",
              "\n",
              "    .dataframe tbody tr th {\n",
              "        vertical-align: top;\n",
              "    }\n",
              "\n",
              "    .dataframe thead th {\n",
              "        text-align: right;\n",
              "    }\n",
              "</style>\n",
              "<table border=\"1\" class=\"dataframe\">\n",
              "  <thead>\n",
              "    <tr style=\"text-align: right;\">\n",
              "      <th></th>\n",
              "      <th>id</th>\n",
              "      <th>username</th>\n",
              "      <th>created_at</th>\n",
              "      <th>text</th>\n",
              "      <th>cleaned_tweets</th>\n",
              "      <th>likes</th>\n",
              "      <th>retweeted</th>\n",
              "    </tr>\n",
              "  </thead>\n",
              "  <tbody>\n",
              "    <tr>\n",
              "      <th>0</th>\n",
              "      <td>1352944690606141440</td>\n",
              "      <td>narendramodi</td>\n",
              "      <td>2021-01-23 11:42:05</td>\n",
              "      <td>India marks #ParakramDivas and pays homage to ...</td>\n",
              "      <td>india marks #parakramdivas and pays homage to ...</td>\n",
              "      <td>13106</td>\n",
              "      <td>3256</td>\n",
              "    </tr>\n",
              "    <tr>\n",
              "      <th>1</th>\n",
              "      <td>1352879101112152064</td>\n",
              "      <td>narendramodi</td>\n",
              "      <td>2021-01-23 07:21:27</td>\n",
              "      <td>On the way to Kolkata to mark #ParakarmDivas a...</td>\n",
              "      <td>on the way to kolkata to mark #parakarmdivas a...</td>\n",
              "      <td>41190</td>\n",
              "      <td>7855</td>\n",
              "    </tr>\n",
              "    <tr>\n",
              "      <th>2</th>\n",
              "      <td>1352878844588535808</td>\n",
              "      <td>narendramodi</td>\n",
              "      <td>2021-01-23 07:20:26</td>\n",
              "      <td>सबका साथ सबका विकास, सबका विश्वास के मंत्र पर ...</td>\n",
              "      <td>सबका साथ सबका विकास, सबका विश्वास के मंत्र पर ...</td>\n",
              "      <td>6941</td>\n",
              "      <td>1995</td>\n",
              "    </tr>\n",
              "    <tr>\n",
              "      <th>3</th>\n",
              "      <td>1352878695728500736</td>\n",
              "      <td>narendramodi</td>\n",
              "      <td>2021-01-23 07:19:50</td>\n",
              "      <td>We are working towards Assam’s development bas...</td>\n",
              "      <td>we are working towards assam’s development bas...</td>\n",
              "      <td>7517</td>\n",
              "      <td>2020</td>\n",
              "    </tr>\n",
              "    <tr>\n",
              "      <th>4</th>\n",
              "      <td>1352878393646264320</td>\n",
              "      <td>narendramodi</td>\n",
              "      <td>2021-01-23 07:18:38</td>\n",
              "      <td>To build an Aatmanirbhar Bharat, we have to fo...</td>\n",
              "      <td>to build an aatmanirbhar bharat, we have to fo...</td>\n",
              "      <td>12064</td>\n",
              "      <td>2762</td>\n",
              "    </tr>\n",
              "  </tbody>\n",
              "</table>\n",
              "</div>"
            ],
            "text/plain": [
              "                    id      username  ...  likes retweeted\n",
              "0  1352944690606141440  narendramodi  ...  13106      3256\n",
              "1  1352879101112152064  narendramodi  ...  41190      7855\n",
              "2  1352878844588535808  narendramodi  ...   6941      1995\n",
              "3  1352878695728500736  narendramodi  ...   7517      2020\n",
              "4  1352878393646264320  narendramodi  ...  12064      2762\n",
              "\n",
              "[5 rows x 7 columns]"
            ]
          },
          "metadata": {
            "tags": []
          },
          "execution_count": 5
        }
      ]
    },
    {
      "cell_type": "code",
      "metadata": {
        "colab": {
          "base_uri": "https://localhost:8080/"
        },
        "id": "hwisS3dMqgkZ",
        "outputId": "5a5ae94c-b5de-4b8b-f10d-f784da38251e"
      },
      "source": [
        "# removing url links\r\n",
        "import re #(regex library for regular expressions)\r\n",
        "\r\n",
        "# for urls with http or https\r\n",
        "tweet_df.cleaned_tweets = tweet_df.cleaned_tweets.apply(lambda x: re.sub(r'https?:\\/\\/\\S+', '', x))\r\n",
        "\r\n",
        "#for urls with or without www\r\n",
        "tweet_df.cleaned_tweets.apply(lambda x: re.sub(r\"www\\.[a-z]?\\.?(com)+|[a-z]+\\.(com)\", '', x))"
      ],
      "execution_count": 6,
      "outputs": [
        {
          "output_type": "execute_result",
          "data": {
            "text/plain": [
              "0      india marks #parakramdivas and pays homage to ...\n",
              "1      on the way to kolkata to mark #parakarmdivas a...\n",
              "2      सबका साथ सबका विकास, सबका विश्वास के मंत्र पर ...\n",
              "3      we are working towards assam’s development bas...\n",
              "4      to build an aatmanirbhar bharat, we have to fo...\n",
              "                             ...                        \n",
              "795    complacency towards the air quality of delhi b...\n",
              "796    chaired a meeting of @delhiassembly's committe...\n",
              "797    rt @mirrornow: cm's personal &amp; domestic st...\n",
              "798    rt @mirrornow: yesterday, cm @arvindkejriwal w...\n",
              "799    rt @timesnow: bjp is afraid of aap leaders tak...\n",
              "Name: cleaned_tweets, Length: 800, dtype: object"
            ]
          },
          "metadata": {
            "tags": []
          },
          "execution_count": 6
        }
      ]
    },
    {
      "cell_type": "code",
      "metadata": {
        "colab": {
          "base_uri": "https://localhost:8080/",
          "height": 272
        },
        "id": "LBRs-q_cr0IQ",
        "outputId": "0d6c110a-d135-4e54-a19d-7a1f641d27ff"
      },
      "source": [
        "# remove @mention\r\n",
        "tweet_df.cleaned_tweets = tweet_df.cleaned_tweets.apply(lambda x: re.sub(r'@mention', '', x))\r\n",
        "tweet_df.head()"
      ],
      "execution_count": 7,
      "outputs": [
        {
          "output_type": "execute_result",
          "data": {
            "text/html": [
              "<div>\n",
              "<style scoped>\n",
              "    .dataframe tbody tr th:only-of-type {\n",
              "        vertical-align: middle;\n",
              "    }\n",
              "\n",
              "    .dataframe tbody tr th {\n",
              "        vertical-align: top;\n",
              "    }\n",
              "\n",
              "    .dataframe thead th {\n",
              "        text-align: right;\n",
              "    }\n",
              "</style>\n",
              "<table border=\"1\" class=\"dataframe\">\n",
              "  <thead>\n",
              "    <tr style=\"text-align: right;\">\n",
              "      <th></th>\n",
              "      <th>id</th>\n",
              "      <th>username</th>\n",
              "      <th>created_at</th>\n",
              "      <th>text</th>\n",
              "      <th>cleaned_tweets</th>\n",
              "      <th>likes</th>\n",
              "      <th>retweeted</th>\n",
              "    </tr>\n",
              "  </thead>\n",
              "  <tbody>\n",
              "    <tr>\n",
              "      <th>0</th>\n",
              "      <td>1352944690606141440</td>\n",
              "      <td>narendramodi</td>\n",
              "      <td>2021-01-23 11:42:05</td>\n",
              "      <td>India marks #ParakramDivas and pays homage to ...</td>\n",
              "      <td>india marks #parakramdivas and pays homage to ...</td>\n",
              "      <td>13106</td>\n",
              "      <td>3256</td>\n",
              "    </tr>\n",
              "    <tr>\n",
              "      <th>1</th>\n",
              "      <td>1352879101112152064</td>\n",
              "      <td>narendramodi</td>\n",
              "      <td>2021-01-23 07:21:27</td>\n",
              "      <td>On the way to Kolkata to mark #ParakarmDivas a...</td>\n",
              "      <td>on the way to kolkata to mark #parakarmdivas a...</td>\n",
              "      <td>41190</td>\n",
              "      <td>7855</td>\n",
              "    </tr>\n",
              "    <tr>\n",
              "      <th>2</th>\n",
              "      <td>1352878844588535808</td>\n",
              "      <td>narendramodi</td>\n",
              "      <td>2021-01-23 07:20:26</td>\n",
              "      <td>सबका साथ सबका विकास, सबका विश्वास के मंत्र पर ...</td>\n",
              "      <td>सबका साथ सबका विकास, सबका विश्वास के मंत्र पर ...</td>\n",
              "      <td>6941</td>\n",
              "      <td>1995</td>\n",
              "    </tr>\n",
              "    <tr>\n",
              "      <th>3</th>\n",
              "      <td>1352878695728500736</td>\n",
              "      <td>narendramodi</td>\n",
              "      <td>2021-01-23 07:19:50</td>\n",
              "      <td>We are working towards Assam’s development bas...</td>\n",
              "      <td>we are working towards assam’s development bas...</td>\n",
              "      <td>7517</td>\n",
              "      <td>2020</td>\n",
              "    </tr>\n",
              "    <tr>\n",
              "      <th>4</th>\n",
              "      <td>1352878393646264320</td>\n",
              "      <td>narendramodi</td>\n",
              "      <td>2021-01-23 07:18:38</td>\n",
              "      <td>To build an Aatmanirbhar Bharat, we have to fo...</td>\n",
              "      <td>to build an aatmanirbhar bharat, we have to fo...</td>\n",
              "      <td>12064</td>\n",
              "      <td>2762</td>\n",
              "    </tr>\n",
              "  </tbody>\n",
              "</table>\n",
              "</div>"
            ],
            "text/plain": [
              "                    id      username  ...  likes retweeted\n",
              "0  1352944690606141440  narendramodi  ...  13106      3256\n",
              "1  1352879101112152064  narendramodi  ...  41190      7855\n",
              "2  1352878844588535808  narendramodi  ...   6941      1995\n",
              "3  1352878695728500736  narendramodi  ...   7517      2020\n",
              "4  1352878393646264320  narendramodi  ...  12064      2762\n",
              "\n",
              "[5 rows x 7 columns]"
            ]
          },
          "metadata": {
            "tags": []
          },
          "execution_count": 7
        }
      ]
    },
    {
      "cell_type": "code",
      "metadata": {
        "id": "D5frooO5zxtG"
      },
      "source": [
        "# removing html tags that get embedded in tweets during extraction\r\n",
        "tweet_df.cleaned_tweets= tweet_df.cleaned_tweets.apply(lambda x: re.sub(r'&[a-z]+;', '', x))"
      ],
      "execution_count": 8,
      "outputs": []
    },
    {
      "cell_type": "code",
      "metadata": {
        "colab": {
          "base_uri": "https://localhost:8080/"
        },
        "id": "Wf3_-CYW0mMV",
        "outputId": "0ddd1d70-bb36-455a-df93-64be5949f53a"
      },
      "source": [
        "# removing stopwords, digits, punctuations using NLTK (will also be used later to tokenize tweets)\r\n",
        "import nltk\r\n",
        "from nltk.corpus import stopwords\r\n",
        "nltk.download('stopwords')"
      ],
      "execution_count": 9,
      "outputs": [
        {
          "output_type": "stream",
          "text": [
            "[nltk_data] Downloading package stopwords to /root/nltk_data...\n",
            "[nltk_data]   Unzipping corpora/stopwords.zip.\n"
          ],
          "name": "stdout"
        },
        {
          "output_type": "execute_result",
          "data": {
            "text/plain": [
              "True"
            ]
          },
          "metadata": {
            "tags": []
          },
          "execution_count": 9
        }
      ]
    },
    {
      "cell_type": "code",
      "metadata": {
        "id": "3h1-1q881PhX"
      },
      "source": [
        "# removing digits\r\n",
        "tweet_df.cleaned_tweets = tweet_df.cleaned_tweets.astype(str).str.replace('\\d+', '')"
      ],
      "execution_count": 10,
      "outputs": []
    },
    {
      "cell_type": "code",
      "metadata": {
        "colab": {
          "base_uri": "https://localhost:8080/"
        },
        "id": "fafKuSX3rbWG",
        "outputId": "188bbb2f-0a74-433e-b57a-6410e465cc70"
      },
      "source": [
        "# remove all remaining characters that aren't letters, white space, or \r\n",
        "# the following #:)(/\\='] that are used in emojis or hashtags\r\n",
        "tweet_df.cleaned_tweets = tweet_df.cleaned_tweets.apply(lambda x: re.sub(r\"[^a-z\\s\\(\\-:\\)\\\\\\/\\];='#]\", '', x))\r\n",
        "tweet_df.cleaned_tweets.head()"
      ],
      "execution_count": 11,
      "outputs": [
        {
          "output_type": "execute_result",
          "data": {
            "text/plain": [
              "0    india marks #parakramdivas and pays homage to ...\n",
              "1    on the way to kolkata to mark #parakarmdivas a...\n",
              "2                                                     \n",
              "3    we are working towards assams development base...\n",
              "4    to build an aatmanirbhar bharat we have to foc...\n",
              "Name: cleaned_tweets, dtype: object"
            ]
          },
          "metadata": {
            "tags": []
          },
          "execution_count": 11
        }
      ]
    },
    {
      "cell_type": "code",
      "metadata": {
        "colab": {
          "base_uri": "https://localhost:8080/"
        },
        "id": "_jwshrD02N5M",
        "outputId": "99b61275-7155-4255-a3b6-ec1d96f602e0"
      },
      "source": [
        "# remove stopwords\r\n",
        "stop_words = set(stopwords.words('english'))\r\n",
        "tweet_df['cleaned_tweets'] = tweet_df['cleaned_tweets'].apply(lambda x: ' '.join([word for word in x.split() if word not in (stop_words)]))\r\n",
        "\r\n",
        "tweet_df.cleaned_tweets.head()"
      ],
      "execution_count": 13,
      "outputs": [
        {
          "output_type": "execute_result",
          "data": {
            "text/plain": [
              "0    india marks #parakramdivas pays homage netaji ...\n",
              "1    way kolkata mark #parakarmdivas pay tributes n...\n",
              "2                                                     \n",
              "3    working towards assams development based requi...\n",
              "4    build aatmanirbhar bharat focus rapid developm...\n",
              "Name: cleaned_tweets, dtype: object"
            ]
          },
          "metadata": {
            "tags": []
          },
          "execution_count": 13
        }
      ]
    },
    {
      "cell_type": "code",
      "metadata": {
        "id": "zodZkot8RK5R",
        "outputId": "7261305b-221e-4177-824f-2cc7e13842c6",
        "colab": {
          "base_uri": "https://localhost:8080/",
          "height": 419
        }
      },
      "source": [
        "# viewing the tweets and the cleaned tweets\r\n",
        "tweet_df[['text', 'cleaned_tweets']]"
      ],
      "execution_count": 14,
      "outputs": [
        {
          "output_type": "execute_result",
          "data": {
            "text/html": [
              "<div>\n",
              "<style scoped>\n",
              "    .dataframe tbody tr th:only-of-type {\n",
              "        vertical-align: middle;\n",
              "    }\n",
              "\n",
              "    .dataframe tbody tr th {\n",
              "        vertical-align: top;\n",
              "    }\n",
              "\n",
              "    .dataframe thead th {\n",
              "        text-align: right;\n",
              "    }\n",
              "</style>\n",
              "<table border=\"1\" class=\"dataframe\">\n",
              "  <thead>\n",
              "    <tr style=\"text-align: right;\">\n",
              "      <th></th>\n",
              "      <th>text</th>\n",
              "      <th>cleaned_tweets</th>\n",
              "    </tr>\n",
              "  </thead>\n",
              "  <tbody>\n",
              "    <tr>\n",
              "      <th>0</th>\n",
              "      <td>India marks #ParakramDivas and pays homage to ...</td>\n",
              "      <td>india marks #parakramdivas pays homage netaji ...</td>\n",
              "    </tr>\n",
              "    <tr>\n",
              "      <th>1</th>\n",
              "      <td>On the way to Kolkata to mark #ParakarmDivas a...</td>\n",
              "      <td>way kolkata mark #parakarmdivas pay tributes n...</td>\n",
              "    </tr>\n",
              "    <tr>\n",
              "      <th>2</th>\n",
              "      <td>सबका साथ सबका विकास, सबका विश्वास के मंत्र पर ...</td>\n",
              "      <td></td>\n",
              "    </tr>\n",
              "    <tr>\n",
              "      <th>3</th>\n",
              "      <td>We are working towards Assam’s development bas...</td>\n",
              "      <td>working towards assams development based requi...</td>\n",
              "    </tr>\n",
              "    <tr>\n",
              "      <th>4</th>\n",
              "      <td>To build an Aatmanirbhar Bharat, we have to fo...</td>\n",
              "      <td>build aatmanirbhar bharat focus rapid developm...</td>\n",
              "    </tr>\n",
              "    <tr>\n",
              "      <th>...</th>\n",
              "      <td>...</td>\n",
              "      <td>...</td>\n",
              "    </tr>\n",
              "    <tr>\n",
              "      <th>795</th>\n",
              "      <td>Complacency towards the air quality of Delhi b...</td>\n",
              "      <td>complacency towards air quality delhi mcd tole...</td>\n",
              "    </tr>\n",
              "    <tr>\n",
              "      <th>796</th>\n",
              "      <td>Chaired a meeting of @DelhiAssembly's Committe...</td>\n",
              "      <td>chaired meeting delhiassembly's committee envi...</td>\n",
              "    </tr>\n",
              "    <tr>\n",
              "      <th>797</th>\n",
              "      <td>RT @MirrorNow: CM's personal &amp;amp; domestic st...</td>\n",
              "      <td>rt mirrornow: cm's personal domestic staff all...</td>\n",
              "    </tr>\n",
              "    <tr>\n",
              "      <th>798</th>\n",
              "      <td>RT @MirrorNow: Yesterday, CM @ArvindKejriwal w...</td>\n",
              "      <td>rt mirrornow: yesterday cm arvindkejriwal went...</td>\n",
              "    </tr>\n",
              "    <tr>\n",
              "      <th>799</th>\n",
              "      <td>RT @TimesNow: BJP is afraid of AAP leaders tak...</td>\n",
              "      <td>rt timesnow: bjp afraid aap leaders taking car...</td>\n",
              "    </tr>\n",
              "  </tbody>\n",
              "</table>\n",
              "<p>800 rows × 2 columns</p>\n",
              "</div>"
            ],
            "text/plain": [
              "                                                  text                                     cleaned_tweets\n",
              "0    India marks #ParakramDivas and pays homage to ...  india marks #parakramdivas pays homage netaji ...\n",
              "1    On the way to Kolkata to mark #ParakarmDivas a...  way kolkata mark #parakarmdivas pay tributes n...\n",
              "2    सबका साथ सबका विकास, सबका विश्वास के मंत्र पर ...                                                   \n",
              "3    We are working towards Assam’s development bas...  working towards assams development based requi...\n",
              "4    To build an Aatmanirbhar Bharat, we have to fo...  build aatmanirbhar bharat focus rapid developm...\n",
              "..                                                 ...                                                ...\n",
              "795  Complacency towards the air quality of Delhi b...  complacency towards air quality delhi mcd tole...\n",
              "796  Chaired a meeting of @DelhiAssembly's Committe...  chaired meeting delhiassembly's committee envi...\n",
              "797  RT @MirrorNow: CM's personal &amp; domestic st...  rt mirrornow: cm's personal domestic staff all...\n",
              "798  RT @MirrorNow: Yesterday, CM @ArvindKejriwal w...  rt mirrornow: yesterday cm arvindkejriwal went...\n",
              "799  RT @TimesNow: BJP is afraid of AAP leaders tak...  rt timesnow: bjp afraid aap leaders taking car...\n",
              "\n",
              "[800 rows x 2 columns]"
            ]
          },
          "metadata": {
            "tags": []
          },
          "execution_count": 14
        }
      ]
    },
    {
      "cell_type": "code",
      "metadata": {
        "colab": {
          "base_uri": "https://localhost:8080/"
        },
        "id": "75nPH7n4rG5g",
        "outputId": "fca78ea8-fdac-4bd3-a1cf-c3763fb1b32f"
      },
      "source": [
        "# word cloud to visualise most common words (doing this just to see if we can get good words for vocab)\r\n",
        "!pip install wordcloud\r\n",
        "!pip install matplotlib\r\n",
        "from wordcloud import  WordCloud\r\n",
        "import matplotlib.pyplot as plt\r\n",
        "\r\n"
      ],
      "execution_count": 17,
      "outputs": [
        {
          "output_type": "stream",
          "text": [
            "Requirement already satisfied: wordcloud in /usr/local/lib/python3.7/dist-packages (1.5.0)\n",
            "Requirement already satisfied: numpy>=1.6.1 in /usr/local/lib/python3.7/dist-packages (from wordcloud) (1.19.5)\n",
            "Requirement already satisfied: pillow in /usr/local/lib/python3.7/dist-packages (from wordcloud) (7.0.0)\n",
            "Requirement already satisfied: matplotlib in /usr/local/lib/python3.7/dist-packages (3.2.2)\n",
            "Requirement already satisfied: pyparsing!=2.0.4,!=2.1.2,!=2.1.6,>=2.0.1 in /usr/local/lib/python3.7/dist-packages (from matplotlib) (2.4.7)\n",
            "Requirement already satisfied: python-dateutil>=2.1 in /usr/local/lib/python3.7/dist-packages (from matplotlib) (2.8.1)\n",
            "Requirement already satisfied: kiwisolver>=1.0.1 in /usr/local/lib/python3.7/dist-packages (from matplotlib) (1.3.1)\n",
            "Requirement already satisfied: cycler>=0.10 in /usr/local/lib/python3.7/dist-packages (from matplotlib) (0.10.0)\n",
            "Requirement already satisfied: numpy>=1.11 in /usr/local/lib/python3.7/dist-packages (from matplotlib) (1.19.5)\n",
            "Requirement already satisfied: six>=1.5 in /usr/local/lib/python3.7/dist-packages (from python-dateutil>=2.1->matplotlib) (1.15.0)\n"
          ],
          "name": "stdout"
        }
      ]
    },
    {
      "cell_type": "code",
      "metadata": {
        "id": "cE-tQyERRyNx",
        "outputId": "7bdde7ee-c368-4770-bd17-d03f292daa94",
        "colab": {
          "base_uri": "https://localhost:8080/",
          "height": 198
        }
      },
      "source": [
        "words = tweet_df['cleaned_tweets'].values \r\n",
        "\r\n",
        "wordcloud = WordCloud().generate(str(words))\r\n",
        "\r\n",
        "plt.imshow(wordcloud)\r\n",
        "plt.axis(\"off\")\r\n",
        "plt.show()"
      ],
      "execution_count": 18,
      "outputs": [
        {
          "output_type": "display_data",
          "data": {
            "image/png": "[encoded data removed]",
            "text/plain": [
              "<Figure size 432x288 with 1 Axes>"
            ]
          },
          "metadata": {
            "tags": [],
            "needs_background": "light"
          }
        }
      ]
    },
    {
      "cell_type": "markdown",
      "metadata": {
        "id": "cDpUZJZS5uLE"
      },
      "source": [
        "have to remove reserved words too :/\r\n"
      ]
    }
  ]
}