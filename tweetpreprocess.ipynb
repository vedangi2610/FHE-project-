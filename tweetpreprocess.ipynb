{
  "nbformat": 4,
  "nbformat_minor": 0,
  "metadata": {
    "accelerator": "GPU",
    "colab": {
      "name": "tweetpreprocess.ipynb",
      "provenance": [],
      "include_colab_link": true
    },
    "kernelspec": {
      "display_name": "Python 3",
      "language": "python",
      "name": "python3"
    },
    "language_info": {
      "codemirror_mode": {
        "name": "ipython",
        "version": 3
      },
      "file_extension": ".py",
      "mimetype": "text/x-python",
      "name": "python",
      "nbconvert_exporter": "python",
      "pygments_lexer": "ipython3",
      "version": "3.7.3"
    }
  },
  "cells": [
    {
      "cell_type": "markdown",
      "metadata": {
        "id": "view-in-github",
        "colab_type": "text"
      },
      "source": [
        "<a href=\"https://colab.research.google.com/github/vedangi2610/FHE-project-/blob/master/tweetpreprocess.ipynb\" target=\"_parent\"><img src=\"https://colab.research.google.com/assets/colab-badge.svg\" alt=\"Open In Colab\"/></a>"
      ]
    },
    {
      "cell_type": "markdown",
      "metadata": {
        "id": "XQIcsqMD_FRB"
      },
      "source": [
        "[![Open In Colab](https://colab.research.google.com/assets/colab-badge.svg)](https://colab.research.google.com/github/vedangi2610/FHE-project-/blob/master/tweetpreprocess.ipynb)"
      ]
    },
    {
      "cell_type": "code",
      "metadata": {
        "id": "7z78X4Xypq0C",
        "colab": {
          "base_uri": "https://localhost:8080/"
        },
        "outputId": "73195cac-9a2b-41ac-b7c1-0ce0493eef79"
      },
      "source": [
        "!python -m spacy download en_core_web_lg\n",
        "import pandas as pd\n",
        "import spacy\n",
        "from spacy.tokenizer import Tokenizer"
      ],
      "execution_count": 1,
      "outputs": [
        {
          "output_type": "stream",
          "text": [
            "Requirement already satisfied: en_core_web_lg==2.2.5 from https://github.com/explosion/spacy-models/releases/download/en_core_web_lg-2.2.5/en_core_web_lg-2.2.5.tar.gz#egg=en_core_web_lg==2.2.5 in /usr/local/lib/python3.7/dist-packages (2.2.5)\n",
            "Requirement already satisfied: spacy>=2.2.2 in /usr/local/lib/python3.7/dist-packages (from en_core_web_lg==2.2.5) (2.2.4)\n",
            "Requirement already satisfied: cymem<2.1.0,>=2.0.2 in /usr/local/lib/python3.7/dist-packages (from spacy>=2.2.2->en_core_web_lg==2.2.5) (2.0.5)\n",
            "Requirement already satisfied: setuptools in /usr/local/lib/python3.7/dist-packages (from spacy>=2.2.2->en_core_web_lg==2.2.5) (54.1.2)\n",
            "Requirement already satisfied: preshed<3.1.0,>=3.0.2 in /usr/local/lib/python3.7/dist-packages (from spacy>=2.2.2->en_core_web_lg==2.2.5) (3.0.5)\n",
            "Requirement already satisfied: srsly<1.1.0,>=1.0.2 in /usr/local/lib/python3.7/dist-packages (from spacy>=2.2.2->en_core_web_lg==2.2.5) (1.0.5)\n",
            "Requirement already satisfied: numpy>=1.15.0 in /usr/local/lib/python3.7/dist-packages (from spacy>=2.2.2->en_core_web_lg==2.2.5) (1.19.5)\n",
            "Requirement already satisfied: requests<3.0.0,>=2.13.0 in /usr/local/lib/python3.7/dist-packages (from spacy>=2.2.2->en_core_web_lg==2.2.5) (2.23.0)\n",
            "Requirement already satisfied: blis<0.5.0,>=0.4.0 in /usr/local/lib/python3.7/dist-packages (from spacy>=2.2.2->en_core_web_lg==2.2.5) (0.4.1)\n",
            "Requirement already satisfied: plac<1.2.0,>=0.9.6 in /usr/local/lib/python3.7/dist-packages (from spacy>=2.2.2->en_core_web_lg==2.2.5) (1.1.3)\n",
            "Requirement already satisfied: tqdm<5.0.0,>=4.38.0 in /usr/local/lib/python3.7/dist-packages (from spacy>=2.2.2->en_core_web_lg==2.2.5) (4.41.1)\n",
            "Requirement already satisfied: murmurhash<1.1.0,>=0.28.0 in /usr/local/lib/python3.7/dist-packages (from spacy>=2.2.2->en_core_web_lg==2.2.5) (1.0.5)\n",
            "Requirement already satisfied: wasabi<1.1.0,>=0.4.0 in /usr/local/lib/python3.7/dist-packages (from spacy>=2.2.2->en_core_web_lg==2.2.5) (0.8.2)\n",
            "Requirement already satisfied: thinc==7.4.0 in /usr/local/lib/python3.7/dist-packages (from spacy>=2.2.2->en_core_web_lg==2.2.5) (7.4.0)\n",
            "Requirement already satisfied: catalogue<1.1.0,>=0.0.7 in /usr/local/lib/python3.7/dist-packages (from spacy>=2.2.2->en_core_web_lg==2.2.5) (1.0.0)\n",
            "Requirement already satisfied: certifi>=2017.4.17 in /usr/local/lib/python3.7/dist-packages (from requests<3.0.0,>=2.13.0->spacy>=2.2.2->en_core_web_lg==2.2.5) (2020.12.5)\n",
            "Requirement already satisfied: idna<3,>=2.5 in /usr/local/lib/python3.7/dist-packages (from requests<3.0.0,>=2.13.0->spacy>=2.2.2->en_core_web_lg==2.2.5) (2.10)\n",
            "Requirement already satisfied: chardet<4,>=3.0.2 in /usr/local/lib/python3.7/dist-packages (from requests<3.0.0,>=2.13.0->spacy>=2.2.2->en_core_web_lg==2.2.5) (3.0.4)\n",
            "Requirement already satisfied: urllib3!=1.25.0,!=1.25.1,<1.26,>=1.21.1 in /usr/local/lib/python3.7/dist-packages (from requests<3.0.0,>=2.13.0->spacy>=2.2.2->en_core_web_lg==2.2.5) (1.24.3)\n",
            "Requirement already satisfied: importlib-metadata>=0.20; python_version < \"3.8\" in /usr/local/lib/python3.7/dist-packages (from catalogue<1.1.0,>=0.0.7->spacy>=2.2.2->en_core_web_lg==2.2.5) (3.7.2)\n",
            "Requirement already satisfied: zipp>=0.5 in /usr/local/lib/python3.7/dist-packages (from importlib-metadata>=0.20; python_version < \"3.8\"->catalogue<1.1.0,>=0.0.7->spacy>=2.2.2->en_core_web_lg==2.2.5) (3.4.1)\n",
            "Requirement already satisfied: typing-extensions>=3.6.4; python_version < \"3.8\" in /usr/local/lib/python3.7/dist-packages (from importlib-metadata>=0.20; python_version < \"3.8\"->catalogue<1.1.0,>=0.0.7->spacy>=2.2.2->en_core_web_lg==2.2.5) (3.7.4.3)\n",
            "\u001b[38;5;2m✔ Download and installation successful\u001b[0m\n",
            "You can now load the model via spacy.load('en_core_web_lg')\n"
          ],
          "name": "stdout"
        }
      ]
    },
    {
      "cell_type": "code",
      "metadata": {
        "id": "LfOoF6tDpR-0"
      },
      "source": [
        "# using the politics dataset from github\n",
        "url = 'https://raw.githubusercontent.com/vedangi2610/FHE-project-/master/data_collection/old_datacollection_code/politics.csv'\n",
        "tweet_df = pd.read_csv(url)"
      ],
      "execution_count": 2,
      "outputs": []
    },
    {
      "cell_type": "code",
      "metadata": {
        "colab": {
          "base_uri": "https://localhost:8080/",
          "height": 202
        },
        "id": "7TS8e0XWpvlf",
        "outputId": "a88ee826-9176-46eb-85c8-ab0275045cc3"
      },
      "source": [
        "tweet_df.head()"
      ],
      "execution_count": 3,
      "outputs": [
        {
          "output_type": "execute_result",
          "data": {
            "text/html": [
              "<div>\n",
              "<style scoped>\n",
              "    .dataframe tbody tr th:only-of-type {\n",
              "        vertical-align: middle;\n",
              "    }\n",
              "\n",
              "    .dataframe tbody tr th {\n",
              "        vertical-align: top;\n",
              "    }\n",
              "\n",
              "    .dataframe thead th {\n",
              "        text-align: right;\n",
              "    }\n",
              "</style>\n",
              "<table border=\"1\" class=\"dataframe\">\n",
              "  <thead>\n",
              "    <tr style=\"text-align: right;\">\n",
              "      <th></th>\n",
              "      <th>id</th>\n",
              "      <th>username</th>\n",
              "      <th>created_at</th>\n",
              "      <th>text</th>\n",
              "      <th>likes</th>\n",
              "      <th>retweeted</th>\n",
              "    </tr>\n",
              "  </thead>\n",
              "  <tbody>\n",
              "    <tr>\n",
              "      <th>0</th>\n",
              "      <td>1352944690606141440</td>\n",
              "      <td>narendramodi</td>\n",
              "      <td>2021-01-23 11:42:05</td>\n",
              "      <td>India marks #ParakramDivas and pays homage to ...</td>\n",
              "      <td>13106</td>\n",
              "      <td>3256</td>\n",
              "    </tr>\n",
              "    <tr>\n",
              "      <th>1</th>\n",
              "      <td>1352879101112152064</td>\n",
              "      <td>narendramodi</td>\n",
              "      <td>2021-01-23 07:21:27</td>\n",
              "      <td>On the way to Kolkata to mark #ParakarmDivas a...</td>\n",
              "      <td>41190</td>\n",
              "      <td>7855</td>\n",
              "    </tr>\n",
              "    <tr>\n",
              "      <th>2</th>\n",
              "      <td>1352878844588535808</td>\n",
              "      <td>narendramodi</td>\n",
              "      <td>2021-01-23 07:20:26</td>\n",
              "      <td>सबका साथ सबका विकास, सबका विश्वास के मंत्र पर ...</td>\n",
              "      <td>6941</td>\n",
              "      <td>1995</td>\n",
              "    </tr>\n",
              "    <tr>\n",
              "      <th>3</th>\n",
              "      <td>1352878695728500736</td>\n",
              "      <td>narendramodi</td>\n",
              "      <td>2021-01-23 07:19:50</td>\n",
              "      <td>We are working towards Assam’s development bas...</td>\n",
              "      <td>7517</td>\n",
              "      <td>2020</td>\n",
              "    </tr>\n",
              "    <tr>\n",
              "      <th>4</th>\n",
              "      <td>1352878393646264320</td>\n",
              "      <td>narendramodi</td>\n",
              "      <td>2021-01-23 07:18:38</td>\n",
              "      <td>To build an Aatmanirbhar Bharat, we have to fo...</td>\n",
              "      <td>12064</td>\n",
              "      <td>2762</td>\n",
              "    </tr>\n",
              "  </tbody>\n",
              "</table>\n",
              "</div>"
            ],
            "text/plain": [
              "                    id      username  ...  likes retweeted\n",
              "0  1352944690606141440  narendramodi  ...  13106      3256\n",
              "1  1352879101112152064  narendramodi  ...  41190      7855\n",
              "2  1352878844588535808  narendramodi  ...   6941      1995\n",
              "3  1352878695728500736  narendramodi  ...   7517      2020\n",
              "4  1352878393646264320  narendramodi  ...  12064      2762\n",
              "\n",
              "[5 rows x 6 columns]"
            ]
          },
          "metadata": {
            "tags": []
          },
          "execution_count": 3
        }
      ]
    },
    {
      "cell_type": "code",
      "metadata": {
        "colab": {
          "base_uri": "https://localhost:8080/",
          "height": 289
        },
        "id": "xIrnCjAjPz1g",
        "outputId": "9a1eaad9-710a-4ca6-c6f8-ac767b00a6f0"
      },
      "source": [
        "#adding a new column for cleaned tweets\n",
        "tweet_df.insert(4, \"cleaned_tweets\", tweet_df['text'], True)\n",
        "tweet_df.head()"
      ],
      "execution_count": 4,
      "outputs": [
        {
          "output_type": "execute_result",
          "data": {
            "text/html": [
              "<div>\n",
              "<style scoped>\n",
              "    .dataframe tbody tr th:only-of-type {\n",
              "        vertical-align: middle;\n",
              "    }\n",
              "\n",
              "    .dataframe tbody tr th {\n",
              "        vertical-align: top;\n",
              "    }\n",
              "\n",
              "    .dataframe thead th {\n",
              "        text-align: right;\n",
              "    }\n",
              "</style>\n",
              "<table border=\"1\" class=\"dataframe\">\n",
              "  <thead>\n",
              "    <tr style=\"text-align: right;\">\n",
              "      <th></th>\n",
              "      <th>id</th>\n",
              "      <th>username</th>\n",
              "      <th>created_at</th>\n",
              "      <th>text</th>\n",
              "      <th>cleaned_tweets</th>\n",
              "      <th>likes</th>\n",
              "      <th>retweeted</th>\n",
              "    </tr>\n",
              "  </thead>\n",
              "  <tbody>\n",
              "    <tr>\n",
              "      <th>0</th>\n",
              "      <td>1352944690606141440</td>\n",
              "      <td>narendramodi</td>\n",
              "      <td>2021-01-23 11:42:05</td>\n",
              "      <td>India marks #ParakramDivas and pays homage to ...</td>\n",
              "      <td>India marks #ParakramDivas and pays homage to ...</td>\n",
              "      <td>13106</td>\n",
              "      <td>3256</td>\n",
              "    </tr>\n",
              "    <tr>\n",
              "      <th>1</th>\n",
              "      <td>1352879101112152064</td>\n",
              "      <td>narendramodi</td>\n",
              "      <td>2021-01-23 07:21:27</td>\n",
              "      <td>On the way to Kolkata to mark #ParakarmDivas a...</td>\n",
              "      <td>On the way to Kolkata to mark #ParakarmDivas a...</td>\n",
              "      <td>41190</td>\n",
              "      <td>7855</td>\n",
              "    </tr>\n",
              "    <tr>\n",
              "      <th>2</th>\n",
              "      <td>1352878844588535808</td>\n",
              "      <td>narendramodi</td>\n",
              "      <td>2021-01-23 07:20:26</td>\n",
              "      <td>सबका साथ सबका विकास, सबका विश्वास के मंत्र पर ...</td>\n",
              "      <td>सबका साथ सबका विकास, सबका विश्वास के मंत्र पर ...</td>\n",
              "      <td>6941</td>\n",
              "      <td>1995</td>\n",
              "    </tr>\n",
              "    <tr>\n",
              "      <th>3</th>\n",
              "      <td>1352878695728500736</td>\n",
              "      <td>narendramodi</td>\n",
              "      <td>2021-01-23 07:19:50</td>\n",
              "      <td>We are working towards Assam’s development bas...</td>\n",
              "      <td>We are working towards Assam’s development bas...</td>\n",
              "      <td>7517</td>\n",
              "      <td>2020</td>\n",
              "    </tr>\n",
              "    <tr>\n",
              "      <th>4</th>\n",
              "      <td>1352878393646264320</td>\n",
              "      <td>narendramodi</td>\n",
              "      <td>2021-01-23 07:18:38</td>\n",
              "      <td>To build an Aatmanirbhar Bharat, we have to fo...</td>\n",
              "      <td>To build an Aatmanirbhar Bharat, we have to fo...</td>\n",
              "      <td>12064</td>\n",
              "      <td>2762</td>\n",
              "    </tr>\n",
              "  </tbody>\n",
              "</table>\n",
              "</div>"
            ],
            "text/plain": [
              "                    id      username  ...  likes retweeted\n",
              "0  1352944690606141440  narendramodi  ...  13106      3256\n",
              "1  1352879101112152064  narendramodi  ...  41190      7855\n",
              "2  1352878844588535808  narendramodi  ...   6941      1995\n",
              "3  1352878695728500736  narendramodi  ...   7517      2020\n",
              "4  1352878393646264320  narendramodi  ...  12064      2762\n",
              "\n",
              "[5 rows x 7 columns]"
            ]
          },
          "metadata": {
            "tags": []
          },
          "execution_count": 4
        }
      ]
    },
    {
      "cell_type": "code",
      "metadata": {
        "colab": {
          "base_uri": "https://localhost:8080/",
          "height": 289
        },
        "id": "Ek9QwHZ6p0dY",
        "outputId": "6fb15fd6-745e-4094-f9b2-e1d685747ed3"
      },
      "source": [
        "# changing to lower case \n",
        "tweet_df['cleaned_tweets'] = tweet_df.cleaned_tweets.str.lower()\n",
        "tweet_df.head()"
      ],
      "execution_count": 5,
      "outputs": [
        {
          "output_type": "execute_result",
          "data": {
            "text/html": [
              "<div>\n",
              "<style scoped>\n",
              "    .dataframe tbody tr th:only-of-type {\n",
              "        vertical-align: middle;\n",
              "    }\n",
              "\n",
              "    .dataframe tbody tr th {\n",
              "        vertical-align: top;\n",
              "    }\n",
              "\n",
              "    .dataframe thead th {\n",
              "        text-align: right;\n",
              "    }\n",
              "</style>\n",
              "<table border=\"1\" class=\"dataframe\">\n",
              "  <thead>\n",
              "    <tr style=\"text-align: right;\">\n",
              "      <th></th>\n",
              "      <th>id</th>\n",
              "      <th>username</th>\n",
              "      <th>created_at</th>\n",
              "      <th>text</th>\n",
              "      <th>cleaned_tweets</th>\n",
              "      <th>likes</th>\n",
              "      <th>retweeted</th>\n",
              "    </tr>\n",
              "  </thead>\n",
              "  <tbody>\n",
              "    <tr>\n",
              "      <th>0</th>\n",
              "      <td>1352944690606141440</td>\n",
              "      <td>narendramodi</td>\n",
              "      <td>2021-01-23 11:42:05</td>\n",
              "      <td>India marks #ParakramDivas and pays homage to ...</td>\n",
              "      <td>india marks #parakramdivas and pays homage to ...</td>\n",
              "      <td>13106</td>\n",
              "      <td>3256</td>\n",
              "    </tr>\n",
              "    <tr>\n",
              "      <th>1</th>\n",
              "      <td>1352879101112152064</td>\n",
              "      <td>narendramodi</td>\n",
              "      <td>2021-01-23 07:21:27</td>\n",
              "      <td>On the way to Kolkata to mark #ParakarmDivas a...</td>\n",
              "      <td>on the way to kolkata to mark #parakarmdivas a...</td>\n",
              "      <td>41190</td>\n",
              "      <td>7855</td>\n",
              "    </tr>\n",
              "    <tr>\n",
              "      <th>2</th>\n",
              "      <td>1352878844588535808</td>\n",
              "      <td>narendramodi</td>\n",
              "      <td>2021-01-23 07:20:26</td>\n",
              "      <td>सबका साथ सबका विकास, सबका विश्वास के मंत्र पर ...</td>\n",
              "      <td>सबका साथ सबका विकास, सबका विश्वास के मंत्र पर ...</td>\n",
              "      <td>6941</td>\n",
              "      <td>1995</td>\n",
              "    </tr>\n",
              "    <tr>\n",
              "      <th>3</th>\n",
              "      <td>1352878695728500736</td>\n",
              "      <td>narendramodi</td>\n",
              "      <td>2021-01-23 07:19:50</td>\n",
              "      <td>We are working towards Assam’s development bas...</td>\n",
              "      <td>we are working towards assam’s development bas...</td>\n",
              "      <td>7517</td>\n",
              "      <td>2020</td>\n",
              "    </tr>\n",
              "    <tr>\n",
              "      <th>4</th>\n",
              "      <td>1352878393646264320</td>\n",
              "      <td>narendramodi</td>\n",
              "      <td>2021-01-23 07:18:38</td>\n",
              "      <td>To build an Aatmanirbhar Bharat, we have to fo...</td>\n",
              "      <td>to build an aatmanirbhar bharat, we have to fo...</td>\n",
              "      <td>12064</td>\n",
              "      <td>2762</td>\n",
              "    </tr>\n",
              "  </tbody>\n",
              "</table>\n",
              "</div>"
            ],
            "text/plain": [
              "                    id      username  ...  likes retweeted\n",
              "0  1352944690606141440  narendramodi  ...  13106      3256\n",
              "1  1352879101112152064  narendramodi  ...  41190      7855\n",
              "2  1352878844588535808  narendramodi  ...   6941      1995\n",
              "3  1352878695728500736  narendramodi  ...   7517      2020\n",
              "4  1352878393646264320  narendramodi  ...  12064      2762\n",
              "\n",
              "[5 rows x 7 columns]"
            ]
          },
          "metadata": {
            "tags": []
          },
          "execution_count": 5
        }
      ]
    },
    {
      "cell_type": "code",
      "metadata": {
        "colab": {
          "base_uri": "https://localhost:8080/"
        },
        "id": "hwisS3dMqgkZ",
        "outputId": "2270a3d5-b283-46a9-9316-ef1e2a3487d7"
      },
      "source": [
        "# removing url links\n",
        "import re #(regex library for regular expressions)\n",
        "\n",
        "# for urls with http or https\n",
        "tweet_df.cleaned_tweets = tweet_df.cleaned_tweets.apply(lambda x: re.sub(r'https?:\\/\\/\\S+', '', x))\n",
        "\n",
        "#for urls with or without www\n",
        "tweet_df.cleaned_tweets.apply(lambda x: re.sub(r\"www\\.[a-z]?\\.?(com)+|[a-z]+\\.(com)\", '', x))"
      ],
      "execution_count": 6,
      "outputs": [
        {
          "output_type": "execute_result",
          "data": {
            "text/plain": [
              "0      india marks #parakramdivas and pays homage to ...\n",
              "1      on the way to kolkata to mark #parakarmdivas a...\n",
              "2      सबका साथ सबका विकास, सबका विश्वास के मंत्र पर ...\n",
              "3      we are working towards assam’s development bas...\n",
              "4      to build an aatmanirbhar bharat, we have to fo...\n",
              "                             ...                        \n",
              "795    complacency towards the air quality of delhi b...\n",
              "796    chaired a meeting of @delhiassembly's committe...\n",
              "797    rt @mirrornow: cm's personal &amp; domestic st...\n",
              "798    rt @mirrornow: yesterday, cm @arvindkejriwal w...\n",
              "799    rt @timesnow: bjp is afraid of aap leaders tak...\n",
              "Name: cleaned_tweets, Length: 800, dtype: object"
            ]
          },
          "metadata": {
            "tags": []
          },
          "execution_count": 6
        }
      ]
    },
    {
      "cell_type": "code",
      "metadata": {
        "colab": {
          "base_uri": "https://localhost:8080/",
          "height": 289
        },
        "id": "LBRs-q_cr0IQ",
        "outputId": "fdabd6bd-6fb5-46a8-db75-5041eb4bb2b6"
      },
      "source": [
        "# remove @mention\n",
        "tweet_df.cleaned_tweets = tweet_df.cleaned_tweets.apply(lambda x: re.sub(r'@mention', '', x))\n",
        "tweet_df.head()"
      ],
      "execution_count": 7,
      "outputs": [
        {
          "output_type": "execute_result",
          "data": {
            "text/html": [
              "<div>\n",
              "<style scoped>\n",
              "    .dataframe tbody tr th:only-of-type {\n",
              "        vertical-align: middle;\n",
              "    }\n",
              "\n",
              "    .dataframe tbody tr th {\n",
              "        vertical-align: top;\n",
              "    }\n",
              "\n",
              "    .dataframe thead th {\n",
              "        text-align: right;\n",
              "    }\n",
              "</style>\n",
              "<table border=\"1\" class=\"dataframe\">\n",
              "  <thead>\n",
              "    <tr style=\"text-align: right;\">\n",
              "      <th></th>\n",
              "      <th>id</th>\n",
              "      <th>username</th>\n",
              "      <th>created_at</th>\n",
              "      <th>text</th>\n",
              "      <th>cleaned_tweets</th>\n",
              "      <th>likes</th>\n",
              "      <th>retweeted</th>\n",
              "    </tr>\n",
              "  </thead>\n",
              "  <tbody>\n",
              "    <tr>\n",
              "      <th>0</th>\n",
              "      <td>1352944690606141440</td>\n",
              "      <td>narendramodi</td>\n",
              "      <td>2021-01-23 11:42:05</td>\n",
              "      <td>India marks #ParakramDivas and pays homage to ...</td>\n",
              "      <td>india marks #parakramdivas and pays homage to ...</td>\n",
              "      <td>13106</td>\n",
              "      <td>3256</td>\n",
              "    </tr>\n",
              "    <tr>\n",
              "      <th>1</th>\n",
              "      <td>1352879101112152064</td>\n",
              "      <td>narendramodi</td>\n",
              "      <td>2021-01-23 07:21:27</td>\n",
              "      <td>On the way to Kolkata to mark #ParakarmDivas a...</td>\n",
              "      <td>on the way to kolkata to mark #parakarmdivas a...</td>\n",
              "      <td>41190</td>\n",
              "      <td>7855</td>\n",
              "    </tr>\n",
              "    <tr>\n",
              "      <th>2</th>\n",
              "      <td>1352878844588535808</td>\n",
              "      <td>narendramodi</td>\n",
              "      <td>2021-01-23 07:20:26</td>\n",
              "      <td>सबका साथ सबका विकास, सबका विश्वास के मंत्र पर ...</td>\n",
              "      <td>सबका साथ सबका विकास, सबका विश्वास के मंत्र पर ...</td>\n",
              "      <td>6941</td>\n",
              "      <td>1995</td>\n",
              "    </tr>\n",
              "    <tr>\n",
              "      <th>3</th>\n",
              "      <td>1352878695728500736</td>\n",
              "      <td>narendramodi</td>\n",
              "      <td>2021-01-23 07:19:50</td>\n",
              "      <td>We are working towards Assam’s development bas...</td>\n",
              "      <td>we are working towards assam’s development bas...</td>\n",
              "      <td>7517</td>\n",
              "      <td>2020</td>\n",
              "    </tr>\n",
              "    <tr>\n",
              "      <th>4</th>\n",
              "      <td>1352878393646264320</td>\n",
              "      <td>narendramodi</td>\n",
              "      <td>2021-01-23 07:18:38</td>\n",
              "      <td>To build an Aatmanirbhar Bharat, we have to fo...</td>\n",
              "      <td>to build an aatmanirbhar bharat, we have to fo...</td>\n",
              "      <td>12064</td>\n",
              "      <td>2762</td>\n",
              "    </tr>\n",
              "  </tbody>\n",
              "</table>\n",
              "</div>"
            ],
            "text/plain": [
              "                    id      username  ...  likes retweeted\n",
              "0  1352944690606141440  narendramodi  ...  13106      3256\n",
              "1  1352879101112152064  narendramodi  ...  41190      7855\n",
              "2  1352878844588535808  narendramodi  ...   6941      1995\n",
              "3  1352878695728500736  narendramodi  ...   7517      2020\n",
              "4  1352878393646264320  narendramodi  ...  12064      2762\n",
              "\n",
              "[5 rows x 7 columns]"
            ]
          },
          "metadata": {
            "tags": []
          },
          "execution_count": 7
        }
      ]
    },
    {
      "cell_type": "code",
      "metadata": {
        "id": "D5frooO5zxtG"
      },
      "source": [
        "# removing html tags that get embedded in tweets during extraction\n",
        "tweet_df.cleaned_tweets= tweet_df.cleaned_tweets.apply(lambda x: re.sub(r'&[a-z]+;', '', x))"
      ],
      "execution_count": 8,
      "outputs": []
    },
    {
      "cell_type": "code",
      "metadata": {
        "id": "3h1-1q881PhX"
      },
      "source": [
        "# removing digits\n",
        "tweet_df.cleaned_tweets = tweet_df.cleaned_tweets.astype(str).str.replace('\\d+', '')"
      ],
      "execution_count": 9,
      "outputs": []
    },
    {
      "cell_type": "code",
      "metadata": {
        "colab": {
          "base_uri": "https://localhost:8080/"
        },
        "id": "fafKuSX3rbWG",
        "outputId": "a3d60312-6927-4aa8-ef57-fb638c64006b"
      },
      "source": [
        "# remove all remaining characters that aren't letters, white space, or \n",
        "# the following #:)(/\\='] that are used in emojis or hashtags\n",
        "tweet_df.cleaned_tweets = tweet_df.cleaned_tweets.apply(lambda x: re.sub(r\"[^a-z\\s\\(\\-:\\)\\\\\\/\\];='#]\", '', x))\n",
        "tweet_df.cleaned_tweets.head()"
      ],
      "execution_count": 10,
      "outputs": [
        {
          "output_type": "execute_result",
          "data": {
            "text/plain": [
              "0    india marks #parakramdivas and pays homage to ...\n",
              "1    on the way to kolkata to mark #parakarmdivas a...\n",
              "2                                                     \n",
              "3    we are working towards assams development base...\n",
              "4    to build an aatmanirbhar bharat we have to foc...\n",
              "Name: cleaned_tweets, dtype: object"
            ]
          },
          "metadata": {
            "tags": []
          },
          "execution_count": 10
        }
      ]
    },
    {
      "cell_type": "code",
      "metadata": {
        "colab": {
          "base_uri": "https://localhost:8080/"
        },
        "id": "Wf3_-CYW0mMV",
        "outputId": "f3010949-4cf9-4aef-8238-74a5cbed6b15"
      },
      "source": [
        "# removing stopwords, digits, punctuations using NLTK (will also be used later to tokenize tweets)\n",
        "import nltk\n",
        "from nltk.corpus import stopwords\n",
        "nltk.download('stopwords')"
      ],
      "execution_count": 11,
      "outputs": [
        {
          "output_type": "stream",
          "text": [
            "[nltk_data] Downloading package stopwords to /root/nltk_data...\n",
            "[nltk_data]   Package stopwords is already up-to-date!\n"
          ],
          "name": "stdout"
        },
        {
          "output_type": "execute_result",
          "data": {
            "text/plain": [
              "True"
            ]
          },
          "metadata": {
            "tags": []
          },
          "execution_count": 11
        }
      ]
    },
    {
      "cell_type": "code",
      "metadata": {
        "colab": {
          "base_uri": "https://localhost:8080/"
        },
        "id": "_jwshrD02N5M",
        "outputId": "9aa074a7-1406-40c8-e0a0-a6970c3ba2bb"
      },
      "source": [
        "# remove stopwords\n",
        "additional_words  = ['rt','rts','retweet'] #other words to remove\n",
        "stop_words = set().union(stopwords.words('english'), additional_words)\n",
        "tweet_df['cleaned_tweets'] = tweet_df['cleaned_tweets'].apply(lambda x: ' '.join([word for word in x.split() if word not in (stop_words)]))\n",
        "\n",
        "tweet_df.cleaned_tweets.head()"
      ],
      "execution_count": 12,
      "outputs": [
        {
          "output_type": "execute_result",
          "data": {
            "text/plain": [
              "0    india marks #parakramdivas pays homage netaji ...\n",
              "1    way kolkata mark #parakarmdivas pay tributes n...\n",
              "2                                                     \n",
              "3    working towards assams development based requi...\n",
              "4    build aatmanirbhar bharat focus rapid developm...\n",
              "Name: cleaned_tweets, dtype: object"
            ]
          },
          "metadata": {
            "tags": []
          },
          "execution_count": 12
        }
      ]
    },
    {
      "cell_type": "code",
      "metadata": {
        "id": "ASFYB1pnOxDi",
        "colab": {
          "base_uri": "https://localhost:8080/",
          "height": 499
        },
        "outputId": "3d5a8bd7-7275-4d17-ded4-14c9f3c52f44"
      },
      "source": [
        "#Tokenization\n",
        "nlp = spacy.load('en_core_web_lg')\n",
        "tokenizer = Tokenizer(nlp.vocab)\n",
        "\n",
        "\n",
        "tokens = []\n",
        "\n",
        "for doc in tokenizer.pipe(tweet_df['cleaned_tweets'], batch_size = 500):\n",
        "    doc_tokens = []\n",
        "    for token in doc:\n",
        "        if token not in stop_words:\n",
        "          doc_tokens.append(token)\n",
        "    tokens.append(doc_tokens)\n",
        "\n",
        "tweet_df['tokens'] = tokens\n",
        "tweet_df.head()"
      ],
      "execution_count": 13,
      "outputs": [
        {
          "output_type": "execute_result",
          "data": {
            "text/html": [
              "<div>\n",
              "<style scoped>\n",
              "    .dataframe tbody tr th:only-of-type {\n",
              "        vertical-align: middle;\n",
              "    }\n",
              "\n",
              "    .dataframe tbody tr th {\n",
              "        vertical-align: top;\n",
              "    }\n",
              "\n",
              "    .dataframe thead th {\n",
              "        text-align: right;\n",
              "    }\n",
              "</style>\n",
              "<table border=\"1\" class=\"dataframe\">\n",
              "  <thead>\n",
              "    <tr style=\"text-align: right;\">\n",
              "      <th></th>\n",
              "      <th>id</th>\n",
              "      <th>username</th>\n",
              "      <th>created_at</th>\n",
              "      <th>text</th>\n",
              "      <th>cleaned_tweets</th>\n",
              "      <th>likes</th>\n",
              "      <th>retweeted</th>\n",
              "      <th>tokens</th>\n",
              "    </tr>\n",
              "  </thead>\n",
              "  <tbody>\n",
              "    <tr>\n",
              "      <th>0</th>\n",
              "      <td>1352944690606141440</td>\n",
              "      <td>narendramodi</td>\n",
              "      <td>2021-01-23 11:42:05</td>\n",
              "      <td>India marks #ParakramDivas and pays homage to ...</td>\n",
              "      <td>india marks #parakramdivas pays homage netaji ...</td>\n",
              "      <td>13106</td>\n",
              "      <td>3256</td>\n",
              "      <td>[india, marks, #parakramdivas, pays, homage, n...</td>\n",
              "    </tr>\n",
              "    <tr>\n",
              "      <th>1</th>\n",
              "      <td>1352879101112152064</td>\n",
              "      <td>narendramodi</td>\n",
              "      <td>2021-01-23 07:21:27</td>\n",
              "      <td>On the way to Kolkata to mark #ParakarmDivas a...</td>\n",
              "      <td>way kolkata mark #parakarmdivas pay tributes n...</td>\n",
              "      <td>41190</td>\n",
              "      <td>7855</td>\n",
              "      <td>[way, kolkata, mark, #parakarmdivas, pay, trib...</td>\n",
              "    </tr>\n",
              "    <tr>\n",
              "      <th>2</th>\n",
              "      <td>1352878844588535808</td>\n",
              "      <td>narendramodi</td>\n",
              "      <td>2021-01-23 07:20:26</td>\n",
              "      <td>सबका साथ सबका विकास, सबका विश्वास के मंत्र पर ...</td>\n",
              "      <td></td>\n",
              "      <td>6941</td>\n",
              "      <td>1995</td>\n",
              "      <td>[]</td>\n",
              "    </tr>\n",
              "    <tr>\n",
              "      <th>3</th>\n",
              "      <td>1352878695728500736</td>\n",
              "      <td>narendramodi</td>\n",
              "      <td>2021-01-23 07:19:50</td>\n",
              "      <td>We are working towards Assam’s development bas...</td>\n",
              "      <td>working towards assams development based requi...</td>\n",
              "      <td>7517</td>\n",
              "      <td>2020</td>\n",
              "      <td>[working, towards, assams, development, based,...</td>\n",
              "    </tr>\n",
              "    <tr>\n",
              "      <th>4</th>\n",
              "      <td>1352878393646264320</td>\n",
              "      <td>narendramodi</td>\n",
              "      <td>2021-01-23 07:18:38</td>\n",
              "      <td>To build an Aatmanirbhar Bharat, we have to fo...</td>\n",
              "      <td>build aatmanirbhar bharat focus rapid developm...</td>\n",
              "      <td>12064</td>\n",
              "      <td>2762</td>\n",
              "      <td>[build, aatmanirbhar, bharat, focus, rapid, de...</td>\n",
              "    </tr>\n",
              "  </tbody>\n",
              "</table>\n",
              "</div>"
            ],
            "text/plain": [
              "                    id  ...                                             tokens\n",
              "0  1352944690606141440  ...  [india, marks, #parakramdivas, pays, homage, n...\n",
              "1  1352879101112152064  ...  [way, kolkata, mark, #parakarmdivas, pay, trib...\n",
              "2  1352878844588535808  ...                                                 []\n",
              "3  1352878695728500736  ...  [working, towards, assams, development, based,...\n",
              "4  1352878393646264320  ...  [build, aatmanirbhar, bharat, focus, rapid, de...\n",
              "\n",
              "[5 rows x 8 columns]"
            ]
          },
          "metadata": {
            "tags": []
          },
          "execution_count": 13
        }
      ]
    },
    {
      "cell_type": "code",
      "metadata": {
        "id": "O4bk2ryPSUHC",
        "colab": {
          "base_uri": "https://localhost:8080/",
          "height": 499
        },
        "outputId": "56389e28-2726-4d49-a131-3a8c7d4a1cab"
      },
      "source": [
        "#Lemmatization\n",
        "lemmas = []\n",
        "\n",
        "for text in tweet_df['cleaned_tweets']:\n",
        "    doc = nlp(text)\n",
        "    doc_lemmas = []\n",
        "    for token in doc:\n",
        "        if ((token.is_stop == False) and (token.is_punct == False)) and (token.pos_ != 'PRON'):\n",
        "          doc_lemmas.append(token.lemma_)\n",
        "    lemmas.append(doc_lemmas)\n",
        "tweet_df['lemmas'] = lemmas\n",
        "tweet_df.head()"
      ],
      "execution_count": 14,
      "outputs": [
        {
          "output_type": "execute_result",
          "data": {
            "text/html": [
              "<div>\n",
              "<style scoped>\n",
              "    .dataframe tbody tr th:only-of-type {\n",
              "        vertical-align: middle;\n",
              "    }\n",
              "\n",
              "    .dataframe tbody tr th {\n",
              "        vertical-align: top;\n",
              "    }\n",
              "\n",
              "    .dataframe thead th {\n",
              "        text-align: right;\n",
              "    }\n",
              "</style>\n",
              "<table border=\"1\" class=\"dataframe\">\n",
              "  <thead>\n",
              "    <tr style=\"text-align: right;\">\n",
              "      <th></th>\n",
              "      <th>id</th>\n",
              "      <th>username</th>\n",
              "      <th>created_at</th>\n",
              "      <th>text</th>\n",
              "      <th>cleaned_tweets</th>\n",
              "      <th>likes</th>\n",
              "      <th>retweeted</th>\n",
              "      <th>tokens</th>\n",
              "      <th>lemmas</th>\n",
              "    </tr>\n",
              "  </thead>\n",
              "  <tbody>\n",
              "    <tr>\n",
              "      <th>0</th>\n",
              "      <td>1352944690606141440</td>\n",
              "      <td>narendramodi</td>\n",
              "      <td>2021-01-23 11:42:05</td>\n",
              "      <td>India marks #ParakramDivas and pays homage to ...</td>\n",
              "      <td>india marks #parakramdivas pays homage netaji ...</td>\n",
              "      <td>13106</td>\n",
              "      <td>3256</td>\n",
              "      <td>[india, marks, #parakramdivas, pays, homage, n...</td>\n",
              "      <td>[india, marks, parakramdivas, pay, homage, net...</td>\n",
              "    </tr>\n",
              "    <tr>\n",
              "      <th>1</th>\n",
              "      <td>1352879101112152064</td>\n",
              "      <td>narendramodi</td>\n",
              "      <td>2021-01-23 07:21:27</td>\n",
              "      <td>On the way to Kolkata to mark #ParakarmDivas a...</td>\n",
              "      <td>way kolkata mark #parakarmdivas pay tributes n...</td>\n",
              "      <td>41190</td>\n",
              "      <td>7855</td>\n",
              "      <td>[way, kolkata, mark, #parakarmdivas, pay, trib...</td>\n",
              "      <td>[way, kolkata, mark, parakarmdivas, pay, tribu...</td>\n",
              "    </tr>\n",
              "    <tr>\n",
              "      <th>2</th>\n",
              "      <td>1352878844588535808</td>\n",
              "      <td>narendramodi</td>\n",
              "      <td>2021-01-23 07:20:26</td>\n",
              "      <td>सबका साथ सबका विकास, सबका विश्वास के मंत्र पर ...</td>\n",
              "      <td></td>\n",
              "      <td>6941</td>\n",
              "      <td>1995</td>\n",
              "      <td>[]</td>\n",
              "      <td>[]</td>\n",
              "    </tr>\n",
              "    <tr>\n",
              "      <th>3</th>\n",
              "      <td>1352878695728500736</td>\n",
              "      <td>narendramodi</td>\n",
              "      <td>2021-01-23 07:19:50</td>\n",
              "      <td>We are working towards Assam’s development bas...</td>\n",
              "      <td>working towards assams development based requi...</td>\n",
              "      <td>7517</td>\n",
              "      <td>2020</td>\n",
              "      <td>[working, towards, assams, development, based,...</td>\n",
              "      <td>[work, assams, development, base, requirement,...</td>\n",
              "    </tr>\n",
              "    <tr>\n",
              "      <th>4</th>\n",
              "      <td>1352878393646264320</td>\n",
              "      <td>narendramodi</td>\n",
              "      <td>2021-01-23 07:18:38</td>\n",
              "      <td>To build an Aatmanirbhar Bharat, we have to fo...</td>\n",
              "      <td>build aatmanirbhar bharat focus rapid developm...</td>\n",
              "      <td>12064</td>\n",
              "      <td>2762</td>\n",
              "      <td>[build, aatmanirbhar, bharat, focus, rapid, de...</td>\n",
              "      <td>[build, aatmanirbhar, bharat, focus, rapid, de...</td>\n",
              "    </tr>\n",
              "  </tbody>\n",
              "</table>\n",
              "</div>"
            ],
            "text/plain": [
              "                    id  ...                                             lemmas\n",
              "0  1352944690606141440  ...  [india, marks, parakramdivas, pay, homage, net...\n",
              "1  1352879101112152064  ...  [way, kolkata, mark, parakarmdivas, pay, tribu...\n",
              "2  1352878844588535808  ...                                                 []\n",
              "3  1352878695728500736  ...  [work, assams, development, base, requirement,...\n",
              "4  1352878393646264320  ...  [build, aatmanirbhar, bharat, focus, rapid, de...\n",
              "\n",
              "[5 rows x 9 columns]"
            ]
          },
          "metadata": {
            "tags": []
          },
          "execution_count": 14
        }
      ]
    },
    {
      "cell_type": "code",
      "metadata": {
        "colab": {
          "base_uri": "https://localhost:8080/",
          "height": 415
        },
        "id": "zodZkot8RK5R",
        "outputId": "6f29c8f9-91a6-4c33-c398-8e5feb8ba1a9"
      },
      "source": [
        "# viewing the tweets and the cleaned tweets\n",
        "tweet_df[['text', 'cleaned_tweets']]"
      ],
      "execution_count": 15,
      "outputs": [
        {
          "output_type": "execute_result",
          "data": {
            "text/html": [
              "<div>\n",
              "<style scoped>\n",
              "    .dataframe tbody tr th:only-of-type {\n",
              "        vertical-align: middle;\n",
              "    }\n",
              "\n",
              "    .dataframe tbody tr th {\n",
              "        vertical-align: top;\n",
              "    }\n",
              "\n",
              "    .dataframe thead th {\n",
              "        text-align: right;\n",
              "    }\n",
              "</style>\n",
              "<table border=\"1\" class=\"dataframe\">\n",
              "  <thead>\n",
              "    <tr style=\"text-align: right;\">\n",
              "      <th></th>\n",
              "      <th>text</th>\n",
              "      <th>cleaned_tweets</th>\n",
              "    </tr>\n",
              "  </thead>\n",
              "  <tbody>\n",
              "    <tr>\n",
              "      <th>0</th>\n",
              "      <td>India marks #ParakramDivas and pays homage to ...</td>\n",
              "      <td>india marks #parakramdivas pays homage netaji ...</td>\n",
              "    </tr>\n",
              "    <tr>\n",
              "      <th>1</th>\n",
              "      <td>On the way to Kolkata to mark #ParakarmDivas a...</td>\n",
              "      <td>way kolkata mark #parakarmdivas pay tributes n...</td>\n",
              "    </tr>\n",
              "    <tr>\n",
              "      <th>2</th>\n",
              "      <td>सबका साथ सबका विकास, सबका विश्वास के मंत्र पर ...</td>\n",
              "      <td></td>\n",
              "    </tr>\n",
              "    <tr>\n",
              "      <th>3</th>\n",
              "      <td>We are working towards Assam’s development bas...</td>\n",
              "      <td>working towards assams development based requi...</td>\n",
              "    </tr>\n",
              "    <tr>\n",
              "      <th>4</th>\n",
              "      <td>To build an Aatmanirbhar Bharat, we have to fo...</td>\n",
              "      <td>build aatmanirbhar bharat focus rapid developm...</td>\n",
              "    </tr>\n",
              "    <tr>\n",
              "      <th>...</th>\n",
              "      <td>...</td>\n",
              "      <td>...</td>\n",
              "    </tr>\n",
              "    <tr>\n",
              "      <th>795</th>\n",
              "      <td>Complacency towards the air quality of Delhi b...</td>\n",
              "      <td>complacency towards air quality delhi mcd tole...</td>\n",
              "    </tr>\n",
              "    <tr>\n",
              "      <th>796</th>\n",
              "      <td>Chaired a meeting of @DelhiAssembly's Committe...</td>\n",
              "      <td>chaired meeting delhiassembly's committee envi...</td>\n",
              "    </tr>\n",
              "    <tr>\n",
              "      <th>797</th>\n",
              "      <td>RT @MirrorNow: CM's personal &amp;amp; domestic st...</td>\n",
              "      <td>mirrornow: cm's personal domestic staff allowe...</td>\n",
              "    </tr>\n",
              "    <tr>\n",
              "      <th>798</th>\n",
              "      <td>RT @MirrorNow: Yesterday, CM @ArvindKejriwal w...</td>\n",
              "      <td>mirrornow: yesterday cm arvindkejriwal went ex...</td>\n",
              "    </tr>\n",
              "    <tr>\n",
              "      <th>799</th>\n",
              "      <td>RT @TimesNow: BJP is afraid of AAP leaders tak...</td>\n",
              "      <td>timesnow: bjp afraid aap leaders taking care p...</td>\n",
              "    </tr>\n",
              "  </tbody>\n",
              "</table>\n",
              "<p>800 rows × 2 columns</p>\n",
              "</div>"
            ],
            "text/plain": [
              "                                                  text                                     cleaned_tweets\n",
              "0    India marks #ParakramDivas and pays homage to ...  india marks #parakramdivas pays homage netaji ...\n",
              "1    On the way to Kolkata to mark #ParakarmDivas a...  way kolkata mark #parakarmdivas pay tributes n...\n",
              "2    सबका साथ सबका विकास, सबका विश्वास के मंत्र पर ...                                                   \n",
              "3    We are working towards Assam’s development bas...  working towards assams development based requi...\n",
              "4    To build an Aatmanirbhar Bharat, we have to fo...  build aatmanirbhar bharat focus rapid developm...\n",
              "..                                                 ...                                                ...\n",
              "795  Complacency towards the air quality of Delhi b...  complacency towards air quality delhi mcd tole...\n",
              "796  Chaired a meeting of @DelhiAssembly's Committe...  chaired meeting delhiassembly's committee envi...\n",
              "797  RT @MirrorNow: CM's personal &amp; domestic st...  mirrornow: cm's personal domestic staff allowe...\n",
              "798  RT @MirrorNow: Yesterday, CM @ArvindKejriwal w...  mirrornow: yesterday cm arvindkejriwal went ex...\n",
              "799  RT @TimesNow: BJP is afraid of AAP leaders tak...  timesnow: bjp afraid aap leaders taking care p...\n",
              "\n",
              "[800 rows x 2 columns]"
            ]
          },
          "metadata": {
            "tags": []
          },
          "execution_count": 15
        }
      ]
    },
    {
      "cell_type": "code",
      "metadata": {
        "colab": {
          "base_uri": "https://localhost:8080/"
        },
        "id": "75nPH7n4rG5g",
        "outputId": "44250b56-8946-4c13-9d5b-496a98163905"
      },
      "source": [
        "# word cloud to visualise most common words (doing this just to see if we can get good words for vocab)\n",
        "!pip install wordcloud\n",
        "!pip install matplotlib\n",
        "from wordcloud import  WordCloud\n",
        "import matplotlib.pyplot as plt\n",
        "\n"
      ],
      "execution_count": 16,
      "outputs": [
        {
          "output_type": "stream",
          "text": [
            "Requirement already satisfied: wordcloud in /usr/local/lib/python3.7/dist-packages (1.5.0)\n",
            "Requirement already satisfied: pillow in /usr/local/lib/python3.7/dist-packages (from wordcloud) (7.0.0)\n",
            "Requirement already satisfied: numpy>=1.6.1 in /usr/local/lib/python3.7/dist-packages (from wordcloud) (1.19.5)\n",
            "Requirement already satisfied: matplotlib in /usr/local/lib/python3.7/dist-packages (3.2.2)\n",
            "Requirement already satisfied: pyparsing!=2.0.4,!=2.1.2,!=2.1.6,>=2.0.1 in /usr/local/lib/python3.7/dist-packages (from matplotlib) (2.4.7)\n",
            "Requirement already satisfied: numpy>=1.11 in /usr/local/lib/python3.7/dist-packages (from matplotlib) (1.19.5)\n",
            "Requirement already satisfied: cycler>=0.10 in /usr/local/lib/python3.7/dist-packages (from matplotlib) (0.10.0)\n",
            "Requirement already satisfied: python-dateutil>=2.1 in /usr/local/lib/python3.7/dist-packages (from matplotlib) (2.8.1)\n",
            "Requirement already satisfied: kiwisolver>=1.0.1 in /usr/local/lib/python3.7/dist-packages (from matplotlib) (1.3.1)\n",
            "Requirement already satisfied: six in /usr/local/lib/python3.7/dist-packages (from cycler>=0.10->matplotlib) (1.15.0)\n"
          ],
          "name": "stdout"
        }
      ]
    },
    {
      "cell_type": "code",
      "metadata": {
        "colab": {
          "base_uri": "https://localhost:8080/",
          "height": 198
        },
        "id": "cE-tQyERRyNx",
        "outputId": "085e70cb-b086-47da-9049-bc00a096aa59"
      },
      "source": [
        "words = tweet_df['cleaned_tweets'].values \n",
        "\n",
        "wordcloud = WordCloud().generate(str(words))\n",
        "\n",
        "plt.imshow(wordcloud)\n",
        "plt.axis(\"off\")\n",
        "plt.show()"
      ],
      "execution_count": 17,
      "outputs": [
        {
          "output_type": "display_data",
          "data": {
            "image/png": "[encoded data removed]",
            "text/plain": [
              "<Figure size 432x288 with 1 Axes>"
            ]
          },
          "metadata": {
            "tags": [],
            "needs_background": "light"
          }
        }
      ]
    },
    {
      "cell_type": "code",
      "metadata": {
        "id": "lRegzpvdLoU7"
      },
      "source": [
        "tweet_df.to_csv(\"politics_test.csv\")"
      ],
      "execution_count": 18,
      "outputs": []
    },
    {
      "cell_type": "code",
      "metadata": {
        "id": "SLFGYQGZ_8FI"
      },
      "source": [
        ""
      ],
      "execution_count": null,
      "outputs": []
    }
  ]
}