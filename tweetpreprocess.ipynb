{
 "cells": [
  {
   "cell_type": "markdown",
   "metadata": {
    "colab_type": "text",
    "id": "view-in-github"
   },
   "source": [
    "<a href=\"https://colab.research.google.com/github/vedangi2610/FHE-project-/blob/master/tweetpreprocess.ipynb\" target=\"_parent\"><img src=\"https://colab.research.google.com/assets/colab-badge.svg\" alt=\"Open In Colab\"/></a>"
   ]
  },
  {
   "cell_type": "code",
   "execution_count": 1,
   "metadata": {
    "id": "7z78X4Xypq0C"
   },
   "outputs": [],
   "source": [
    "import pandas as pd"
   ]
  },
  {
   "cell_type": "code",
   "execution_count": 2,
   "metadata": {
    "id": "LfOoF6tDpR-0"
   },
   "outputs": [],
   "source": [
    "# using the politics dataset from github\n",
    "url = 'https://raw.githubusercontent.com/vedangi2610/FHE-project-/master/data_collection/politics.csv'\n",
    "tweet_df = pd.read_csv(url)"
   ]
  },
  {
   "cell_type": "code",
   "execution_count": 3,
   "metadata": {
    "colab": {
     "base_uri": "https://localhost:8080/",
     "height": 204
    },
    "id": "7TS8e0XWpvlf",
    "outputId": "c03371c4-1925-43a6-9c75-8b2baf2d7819"
   },
   "outputs": [
    {
     "data": {
      "text/html": [
       "<div>\n",
       "<style scoped>\n",
       "    .dataframe tbody tr th:only-of-type {\n",
       "        vertical-align: middle;\n",
       "    }\n",
       "\n",
       "    .dataframe tbody tr th {\n",
       "        vertical-align: top;\n",
       "    }\n",
       "\n",
       "    .dataframe thead th {\n",
       "        text-align: right;\n",
       "    }\n",
       "</style>\n",
       "<table border=\"1\" class=\"dataframe\">\n",
       "  <thead>\n",
       "    <tr style=\"text-align: right;\">\n",
       "      <th></th>\n",
       "      <th>id</th>\n",
       "      <th>username</th>\n",
       "      <th>created_at</th>\n",
       "      <th>text</th>\n",
       "      <th>likes</th>\n",
       "      <th>retweeted</th>\n",
       "    </tr>\n",
       "  </thead>\n",
       "  <tbody>\n",
       "    <tr>\n",
       "      <th>0</th>\n",
       "      <td>1352944690606141440</td>\n",
       "      <td>narendramodi</td>\n",
       "      <td>2021-01-23 11:42:05</td>\n",
       "      <td>India marks #ParakramDivas and pays homage to ...</td>\n",
       "      <td>13106</td>\n",
       "      <td>3256</td>\n",
       "    </tr>\n",
       "    <tr>\n",
       "      <th>1</th>\n",
       "      <td>1352879101112152064</td>\n",
       "      <td>narendramodi</td>\n",
       "      <td>2021-01-23 07:21:27</td>\n",
       "      <td>On the way to Kolkata to mark #ParakarmDivas a...</td>\n",
       "      <td>41190</td>\n",
       "      <td>7855</td>\n",
       "    </tr>\n",
       "    <tr>\n",
       "      <th>2</th>\n",
       "      <td>1352878844588535808</td>\n",
       "      <td>narendramodi</td>\n",
       "      <td>2021-01-23 07:20:26</td>\n",
       "      <td>सबका साथ सबका विकास, सबका विश्वास के मंत्र पर ...</td>\n",
       "      <td>6941</td>\n",
       "      <td>1995</td>\n",
       "    </tr>\n",
       "    <tr>\n",
       "      <th>3</th>\n",
       "      <td>1352878695728500736</td>\n",
       "      <td>narendramodi</td>\n",
       "      <td>2021-01-23 07:19:50</td>\n",
       "      <td>We are working towards Assam’s development bas...</td>\n",
       "      <td>7517</td>\n",
       "      <td>2020</td>\n",
       "    </tr>\n",
       "    <tr>\n",
       "      <th>4</th>\n",
       "      <td>1352878393646264320</td>\n",
       "      <td>narendramodi</td>\n",
       "      <td>2021-01-23 07:18:38</td>\n",
       "      <td>To build an Aatmanirbhar Bharat, we have to fo...</td>\n",
       "      <td>12064</td>\n",
       "      <td>2762</td>\n",
       "    </tr>\n",
       "  </tbody>\n",
       "</table>\n",
       "</div>"
      ],
      "text/plain": [
       "                    id      username  ...  likes retweeted\n",
       "0  1352944690606141440  narendramodi  ...  13106      3256\n",
       "1  1352879101112152064  narendramodi  ...  41190      7855\n",
       "2  1352878844588535808  narendramodi  ...   6941      1995\n",
       "3  1352878695728500736  narendramodi  ...   7517      2020\n",
       "4  1352878393646264320  narendramodi  ...  12064      2762\n",
       "\n",
       "[5 rows x 6 columns]"
      ]
     },
     "execution_count": 3,
     "metadata": {
      "tags": []
     },
     "output_type": "execute_result"
    }
   ],
   "source": [
    "tweet_df.head()"
   ]
  },
  {
   "cell_type": "code",
   "execution_count": 4,
   "metadata": {
    "colab": {
     "base_uri": "https://localhost:8080/",
     "height": 289
    },
    "id": "xIrnCjAjPz1g",
    "outputId": "600f6558-c530-4920-db7c-1e33a31be5c9"
   },
   "outputs": [
    {
     "data": {
      "text/html": [
       "<div>\n",
       "<style scoped>\n",
       "    .dataframe tbody tr th:only-of-type {\n",
       "        vertical-align: middle;\n",
       "    }\n",
       "\n",
       "    .dataframe tbody tr th {\n",
       "        vertical-align: top;\n",
       "    }\n",
       "\n",
       "    .dataframe thead th {\n",
       "        text-align: right;\n",
       "    }\n",
       "</style>\n",
       "<table border=\"1\" class=\"dataframe\">\n",
       "  <thead>\n",
       "    <tr style=\"text-align: right;\">\n",
       "      <th></th>\n",
       "      <th>id</th>\n",
       "      <th>username</th>\n",
       "      <th>created_at</th>\n",
       "      <th>text</th>\n",
       "      <th>cleaned_tweets</th>\n",
       "      <th>likes</th>\n",
       "      <th>retweeted</th>\n",
       "    </tr>\n",
       "  </thead>\n",
       "  <tbody>\n",
       "    <tr>\n",
       "      <th>0</th>\n",
       "      <td>1352944690606141440</td>\n",
       "      <td>narendramodi</td>\n",
       "      <td>2021-01-23 11:42:05</td>\n",
       "      <td>India marks #ParakramDivas and pays homage to ...</td>\n",
       "      <td>India marks #ParakramDivas and pays homage to ...</td>\n",
       "      <td>13106</td>\n",
       "      <td>3256</td>\n",
       "    </tr>\n",
       "    <tr>\n",
       "      <th>1</th>\n",
       "      <td>1352879101112152064</td>\n",
       "      <td>narendramodi</td>\n",
       "      <td>2021-01-23 07:21:27</td>\n",
       "      <td>On the way to Kolkata to mark #ParakarmDivas a...</td>\n",
       "      <td>On the way to Kolkata to mark #ParakarmDivas a...</td>\n",
       "      <td>41190</td>\n",
       "      <td>7855</td>\n",
       "    </tr>\n",
       "    <tr>\n",
       "      <th>2</th>\n",
       "      <td>1352878844588535808</td>\n",
       "      <td>narendramodi</td>\n",
       "      <td>2021-01-23 07:20:26</td>\n",
       "      <td>सबका साथ सबका विकास, सबका विश्वास के मंत्र पर ...</td>\n",
       "      <td>सबका साथ सबका विकास, सबका विश्वास के मंत्र पर ...</td>\n",
       "      <td>6941</td>\n",
       "      <td>1995</td>\n",
       "    </tr>\n",
       "    <tr>\n",
       "      <th>3</th>\n",
       "      <td>1352878695728500736</td>\n",
       "      <td>narendramodi</td>\n",
       "      <td>2021-01-23 07:19:50</td>\n",
       "      <td>We are working towards Assam’s development bas...</td>\n",
       "      <td>We are working towards Assam’s development bas...</td>\n",
       "      <td>7517</td>\n",
       "      <td>2020</td>\n",
       "    </tr>\n",
       "    <tr>\n",
       "      <th>4</th>\n",
       "      <td>1352878393646264320</td>\n",
       "      <td>narendramodi</td>\n",
       "      <td>2021-01-23 07:18:38</td>\n",
       "      <td>To build an Aatmanirbhar Bharat, we have to fo...</td>\n",
       "      <td>To build an Aatmanirbhar Bharat, we have to fo...</td>\n",
       "      <td>12064</td>\n",
       "      <td>2762</td>\n",
       "    </tr>\n",
       "  </tbody>\n",
       "</table>\n",
       "</div>"
      ],
      "text/plain": [
       "                    id      username  ...  likes retweeted\n",
       "0  1352944690606141440  narendramodi  ...  13106      3256\n",
       "1  1352879101112152064  narendramodi  ...  41190      7855\n",
       "2  1352878844588535808  narendramodi  ...   6941      1995\n",
       "3  1352878695728500736  narendramodi  ...   7517      2020\n",
       "4  1352878393646264320  narendramodi  ...  12064      2762\n",
       "\n",
       "[5 rows x 7 columns]"
      ]
     },
     "execution_count": 4,
     "metadata": {
      "tags": []
     },
     "output_type": "execute_result"
    }
   ],
   "source": [
    "#adding a new column for cleaned tweets\n",
    "tweet_df.insert(4, \"cleaned_tweets\", tweet_df['text'], True)\n",
    "tweet_df.head()"
   ]
  },
  {
   "cell_type": "code",
   "execution_count": 5,
   "metadata": {
    "colab": {
     "base_uri": "https://localhost:8080/",
     "height": 272
    },
    "id": "Ek9QwHZ6p0dY",
    "outputId": "6dcd317e-a28f-4b2f-d8ff-462e05e48f67"
   },
   "outputs": [
    {
     "data": {
      "text/html": [
       "<div>\n",
       "<style scoped>\n",
       "    .dataframe tbody tr th:only-of-type {\n",
       "        vertical-align: middle;\n",
       "    }\n",
       "\n",
       "    .dataframe tbody tr th {\n",
       "        vertical-align: top;\n",
       "    }\n",
       "\n",
       "    .dataframe thead th {\n",
       "        text-align: right;\n",
       "    }\n",
       "</style>\n",
       "<table border=\"1\" class=\"dataframe\">\n",
       "  <thead>\n",
       "    <tr style=\"text-align: right;\">\n",
       "      <th></th>\n",
       "      <th>id</th>\n",
       "      <th>username</th>\n",
       "      <th>created_at</th>\n",
       "      <th>text</th>\n",
       "      <th>cleaned_tweets</th>\n",
       "      <th>likes</th>\n",
       "      <th>retweeted</th>\n",
       "    </tr>\n",
       "  </thead>\n",
       "  <tbody>\n",
       "    <tr>\n",
       "      <th>0</th>\n",
       "      <td>1352944690606141440</td>\n",
       "      <td>narendramodi</td>\n",
       "      <td>2021-01-23 11:42:05</td>\n",
       "      <td>India marks #ParakramDivas and pays homage to ...</td>\n",
       "      <td>india marks #parakramdivas and pays homage to ...</td>\n",
       "      <td>13106</td>\n",
       "      <td>3256</td>\n",
       "    </tr>\n",
       "    <tr>\n",
       "      <th>1</th>\n",
       "      <td>1352879101112152064</td>\n",
       "      <td>narendramodi</td>\n",
       "      <td>2021-01-23 07:21:27</td>\n",
       "      <td>On the way to Kolkata to mark #ParakarmDivas a...</td>\n",
       "      <td>on the way to kolkata to mark #parakarmdivas a...</td>\n",
       "      <td>41190</td>\n",
       "      <td>7855</td>\n",
       "    </tr>\n",
       "    <tr>\n",
       "      <th>2</th>\n",
       "      <td>1352878844588535808</td>\n",
       "      <td>narendramodi</td>\n",
       "      <td>2021-01-23 07:20:26</td>\n",
       "      <td>सबका साथ सबका विकास, सबका विश्वास के मंत्र पर ...</td>\n",
       "      <td>सबका साथ सबका विकास, सबका विश्वास के मंत्र पर ...</td>\n",
       "      <td>6941</td>\n",
       "      <td>1995</td>\n",
       "    </tr>\n",
       "    <tr>\n",
       "      <th>3</th>\n",
       "      <td>1352878695728500736</td>\n",
       "      <td>narendramodi</td>\n",
       "      <td>2021-01-23 07:19:50</td>\n",
       "      <td>We are working towards Assam’s development bas...</td>\n",
       "      <td>we are working towards assam’s development bas...</td>\n",
       "      <td>7517</td>\n",
       "      <td>2020</td>\n",
       "    </tr>\n",
       "    <tr>\n",
       "      <th>4</th>\n",
       "      <td>1352878393646264320</td>\n",
       "      <td>narendramodi</td>\n",
       "      <td>2021-01-23 07:18:38</td>\n",
       "      <td>To build an Aatmanirbhar Bharat, we have to fo...</td>\n",
       "      <td>to build an aatmanirbhar bharat, we have to fo...</td>\n",
       "      <td>12064</td>\n",
       "      <td>2762</td>\n",
       "    </tr>\n",
       "  </tbody>\n",
       "</table>\n",
       "</div>"
      ],
      "text/plain": [
       "                    id      username  ...  likes retweeted\n",
       "0  1352944690606141440  narendramodi  ...  13106      3256\n",
       "1  1352879101112152064  narendramodi  ...  41190      7855\n",
       "2  1352878844588535808  narendramodi  ...   6941      1995\n",
       "3  1352878695728500736  narendramodi  ...   7517      2020\n",
       "4  1352878393646264320  narendramodi  ...  12064      2762\n",
       "\n",
       "[5 rows x 7 columns]"
      ]
     },
     "execution_count": 5,
     "metadata": {
      "tags": []
     },
     "output_type": "execute_result"
    }
   ],
   "source": [
    "# changing to lower case \n",
    "tweet_df['cleaned_tweets'] = tweet_df.cleaned_tweets.str.lower()\n",
    "tweet_df.head()"
   ]
  },
  {
   "cell_type": "code",
   "execution_count": 6,
   "metadata": {
    "colab": {
     "base_uri": "https://localhost:8080/"
    },
    "id": "hwisS3dMqgkZ",
    "outputId": "a44b5fa7-3619-4f30-d890-58cb43679174"
   },
   "outputs": [
    {
     "data": {
      "text/plain": [
       "0      india marks #parakramdivas and pays homage to ...\n",
       "1      on the way to kolkata to mark #parakarmdivas a...\n",
       "2      सबका साथ सबका विकास, सबका विश्वास के मंत्र पर ...\n",
       "3      we are working towards assam’s development bas...\n",
       "4      to build an aatmanirbhar bharat, we have to fo...\n",
       "                             ...                        \n",
       "795    complacency towards the air quality of delhi b...\n",
       "796    chaired a meeting of @delhiassembly's committe...\n",
       "797    rt @mirrornow: cm's personal &amp; domestic st...\n",
       "798    rt @mirrornow: yesterday, cm @arvindkejriwal w...\n",
       "799    rt @timesnow: bjp is afraid of aap leaders tak...\n",
       "Name: cleaned_tweets, Length: 800, dtype: object"
      ]
     },
     "execution_count": 6,
     "metadata": {
      "tags": []
     },
     "output_type": "execute_result"
    }
   ],
   "source": [
    "# removing url links\n",
    "import re #(regex library for regular expressions)\n",
    "\n",
    "# for urls with http or https\n",
    "tweet_df.cleaned_tweets = tweet_df.cleaned_tweets.apply(lambda x: re.sub(r'https?:\\/\\/\\S+', '', x))\n",
    "\n",
    "#for urls with or without www\n",
    "tweet_df.cleaned_tweets.apply(lambda x: re.sub(r\"www\\.[a-z]?\\.?(com)+|[a-z]+\\.(com)\", '', x))"
   ]
  },
  {
   "cell_type": "code",
   "execution_count": 7,
   "metadata": {
    "colab": {
     "base_uri": "https://localhost:8080/",
     "height": 272
    },
    "id": "LBRs-q_cr0IQ",
    "outputId": "21dd69c0-ad6f-4da0-fd58-f75ff64fbdf7"
   },
   "outputs": [
    {
     "data": {
      "text/html": [
       "<div>\n",
       "<style scoped>\n",
       "    .dataframe tbody tr th:only-of-type {\n",
       "        vertical-align: middle;\n",
       "    }\n",
       "\n",
       "    .dataframe tbody tr th {\n",
       "        vertical-align: top;\n",
       "    }\n",
       "\n",
       "    .dataframe thead th {\n",
       "        text-align: right;\n",
       "    }\n",
       "</style>\n",
       "<table border=\"1\" class=\"dataframe\">\n",
       "  <thead>\n",
       "    <tr style=\"text-align: right;\">\n",
       "      <th></th>\n",
       "      <th>id</th>\n",
       "      <th>username</th>\n",
       "      <th>created_at</th>\n",
       "      <th>text</th>\n",
       "      <th>cleaned_tweets</th>\n",
       "      <th>likes</th>\n",
       "      <th>retweeted</th>\n",
       "    </tr>\n",
       "  </thead>\n",
       "  <tbody>\n",
       "    <tr>\n",
       "      <th>0</th>\n",
       "      <td>1352944690606141440</td>\n",
       "      <td>narendramodi</td>\n",
       "      <td>2021-01-23 11:42:05</td>\n",
       "      <td>India marks #ParakramDivas and pays homage to ...</td>\n",
       "      <td>india marks #parakramdivas and pays homage to ...</td>\n",
       "      <td>13106</td>\n",
       "      <td>3256</td>\n",
       "    </tr>\n",
       "    <tr>\n",
       "      <th>1</th>\n",
       "      <td>1352879101112152064</td>\n",
       "      <td>narendramodi</td>\n",
       "      <td>2021-01-23 07:21:27</td>\n",
       "      <td>On the way to Kolkata to mark #ParakarmDivas a...</td>\n",
       "      <td>on the way to kolkata to mark #parakarmdivas a...</td>\n",
       "      <td>41190</td>\n",
       "      <td>7855</td>\n",
       "    </tr>\n",
       "    <tr>\n",
       "      <th>2</th>\n",
       "      <td>1352878844588535808</td>\n",
       "      <td>narendramodi</td>\n",
       "      <td>2021-01-23 07:20:26</td>\n",
       "      <td>सबका साथ सबका विकास, सबका विश्वास के मंत्र पर ...</td>\n",
       "      <td>सबका साथ सबका विकास, सबका विश्वास के मंत्र पर ...</td>\n",
       "      <td>6941</td>\n",
       "      <td>1995</td>\n",
       "    </tr>\n",
       "    <tr>\n",
       "      <th>3</th>\n",
       "      <td>1352878695728500736</td>\n",
       "      <td>narendramodi</td>\n",
       "      <td>2021-01-23 07:19:50</td>\n",
       "      <td>We are working towards Assam’s development bas...</td>\n",
       "      <td>we are working towards assam’s development bas...</td>\n",
       "      <td>7517</td>\n",
       "      <td>2020</td>\n",
       "    </tr>\n",
       "    <tr>\n",
       "      <th>4</th>\n",
       "      <td>1352878393646264320</td>\n",
       "      <td>narendramodi</td>\n",
       "      <td>2021-01-23 07:18:38</td>\n",
       "      <td>To build an Aatmanirbhar Bharat, we have to fo...</td>\n",
       "      <td>to build an aatmanirbhar bharat, we have to fo...</td>\n",
       "      <td>12064</td>\n",
       "      <td>2762</td>\n",
       "    </tr>\n",
       "  </tbody>\n",
       "</table>\n",
       "</div>"
      ],
      "text/plain": [
       "                    id      username  ...  likes retweeted\n",
       "0  1352944690606141440  narendramodi  ...  13106      3256\n",
       "1  1352879101112152064  narendramodi  ...  41190      7855\n",
       "2  1352878844588535808  narendramodi  ...   6941      1995\n",
       "3  1352878695728500736  narendramodi  ...   7517      2020\n",
       "4  1352878393646264320  narendramodi  ...  12064      2762\n",
       "\n",
       "[5 rows x 7 columns]"
      ]
     },
     "execution_count": 7,
     "metadata": {
      "tags": []
     },
     "output_type": "execute_result"
    }
   ],
   "source": [
    "# remove @mention\n",
    "tweet_df.cleaned_tweets = tweet_df.cleaned_tweets.apply(lambda x: re.sub(r'@mention', '', x))\n",
    "tweet_df.head()"
   ]
  },
  {
   "cell_type": "code",
   "execution_count": 8,
   "metadata": {
    "id": "D5frooO5zxtG"
   },
   "outputs": [],
   "source": [
    "# removing html tags that get embedded in tweets during extraction\n",
    "tweet_df.cleaned_tweets= tweet_df.cleaned_tweets.apply(lambda x: re.sub(r'&[a-z]+;', '', x))"
   ]
  },
  {
   "cell_type": "code",
   "execution_count": 9,
   "metadata": {
    "id": "3h1-1q881PhX"
   },
   "outputs": [],
   "source": [
    "# removing digits\n",
    "tweet_df.cleaned_tweets = tweet_df.cleaned_tweets.astype(str).str.replace('\\d+', '')"
   ]
  },
  {
   "cell_type": "code",
   "execution_count": 10,
   "metadata": {
    "colab": {
     "base_uri": "https://localhost:8080/"
    },
    "id": "fafKuSX3rbWG",
    "outputId": "5cd9dca4-e0d0-4701-e20d-3d39499c41cf"
   },
   "outputs": [
    {
     "data": {
      "text/plain": [
       "0    india marks #parakramdivas and pays homage to ...\n",
       "1    on the way to kolkata to mark #parakarmdivas a...\n",
       "2                                                     \n",
       "3    we are working towards assams development base...\n",
       "4    to build an aatmanirbhar bharat we have to foc...\n",
       "Name: cleaned_tweets, dtype: object"
      ]
     },
     "execution_count": 10,
     "metadata": {
      "tags": []
     },
     "output_type": "execute_result"
    }
   ],
   "source": [
    "# remove all remaining characters that aren't letters, white space, or \n",
    "# the following #:)(/\\='] that are used in emojis or hashtags\n",
    "tweet_df.cleaned_tweets = tweet_df.cleaned_tweets.apply(lambda x: re.sub(r\"[^a-z\\s\\(\\-:\\)\\\\\\/\\];='#]\", '', x))\n",
    "tweet_df.cleaned_tweets.head()"
   ]
  },
  {
   "cell_type": "code",
   "execution_count": 11,
   "metadata": {
    "colab": {
     "base_uri": "https://localhost:8080/"
    },
    "id": "Wf3_-CYW0mMV",
    "outputId": "d51ecab8-10c6-4313-a4df-3a844dd5672e"
   },
   "outputs": [
    {
     "name": "stdout",
     "output_type": "stream",
     "text": [
      "[nltk_data] Downloading package stopwords to /root/nltk_data...\n",
      "[nltk_data]   Unzipping corpora/stopwords.zip.\n"
     ]
    },
    {
     "data": {
      "text/plain": [
       "True"
      ]
     },
     "execution_count": 11,
     "metadata": {
      "tags": []
     },
     "output_type": "execute_result"
    }
   ],
   "source": [
    "# removing stopwords, digits, punctuations using NLTK (will also be used later to tokenize tweets)\n",
    "import nltk\n",
    "from nltk.corpus import stopwords\n",
    "nltk.download('stopwords')"
   ]
  },
  {
   "cell_type": "code",
   "execution_count": 12,
   "metadata": {
    "colab": {
     "base_uri": "https://localhost:8080/"
    },
    "id": "_jwshrD02N5M",
    "outputId": "1aadc447-bade-4ca3-e49f-ae405bfe9347"
   },
   "outputs": [
    {
     "data": {
      "text/plain": [
       "0    india marks #parakramdivas pays homage netaji ...\n",
       "1    way kolkata mark #parakarmdivas pay tributes n...\n",
       "2                                                     \n",
       "3    working towards assams development based requi...\n",
       "4    build aatmanirbhar bharat focus rapid developm...\n",
       "Name: cleaned_tweets, dtype: object"
      ]
     },
     "execution_count": 12,
     "metadata": {
      "tags": []
     },
     "output_type": "execute_result"
    }
   ],
   "source": [
    "# remove stopwords\n",
    "additional_words  = ['rt','rts','retweet'] #other words to remove\n",
    "stop_words = set().union(stopwords.words('english'), additional_words)\n",
    "tweet_df['cleaned_tweets'] = tweet_df['cleaned_tweets'].apply(lambda x: ' '.join([word for word in x.split() if word not in (stop_words)]))\n",
    "\n",
    "tweet_df.cleaned_tweets.head()"
   ]
  },
  {
   "cell_type": "code",
   "execution_count": 13,
   "metadata": {
    "colab": {
     "base_uri": "https://localhost:8080/",
     "height": 419
    },
    "id": "zodZkot8RK5R",
    "outputId": "8fea93b9-13e5-48be-d51e-fdbd08e3b51d"
   },
   "outputs": [
    {
     "data": {
      "text/html": [
       "<div>\n",
       "<style scoped>\n",
       "    .dataframe tbody tr th:only-of-type {\n",
       "        vertical-align: middle;\n",
       "    }\n",
       "\n",
       "    .dataframe tbody tr th {\n",
       "        vertical-align: top;\n",
       "    }\n",
       "\n",
       "    .dataframe thead th {\n",
       "        text-align: right;\n",
       "    }\n",
       "</style>\n",
       "<table border=\"1\" class=\"dataframe\">\n",
       "  <thead>\n",
       "    <tr style=\"text-align: right;\">\n",
       "      <th></th>\n",
       "      <th>text</th>\n",
       "      <th>cleaned_tweets</th>\n",
       "    </tr>\n",
       "  </thead>\n",
       "  <tbody>\n",
       "    <tr>\n",
       "      <th>0</th>\n",
       "      <td>India marks #ParakramDivas and pays homage to ...</td>\n",
       "      <td>india marks #parakramdivas pays homage netaji ...</td>\n",
       "    </tr>\n",
       "    <tr>\n",
       "      <th>1</th>\n",
       "      <td>On the way to Kolkata to mark #ParakarmDivas a...</td>\n",
       "      <td>way kolkata mark #parakarmdivas pay tributes n...</td>\n",
       "    </tr>\n",
       "    <tr>\n",
       "      <th>2</th>\n",
       "      <td>सबका साथ सबका विकास, सबका विश्वास के मंत्र पर ...</td>\n",
       "      <td></td>\n",
       "    </tr>\n",
       "    <tr>\n",
       "      <th>3</th>\n",
       "      <td>We are working towards Assam’s development bas...</td>\n",
       "      <td>working towards assams development based requi...</td>\n",
       "    </tr>\n",
       "    <tr>\n",
       "      <th>4</th>\n",
       "      <td>To build an Aatmanirbhar Bharat, we have to fo...</td>\n",
       "      <td>build aatmanirbhar bharat focus rapid developm...</td>\n",
       "    </tr>\n",
       "    <tr>\n",
       "      <th>...</th>\n",
       "      <td>...</td>\n",
       "      <td>...</td>\n",
       "    </tr>\n",
       "    <tr>\n",
       "      <th>795</th>\n",
       "      <td>Complacency towards the air quality of Delhi b...</td>\n",
       "      <td>complacency towards air quality delhi mcd tole...</td>\n",
       "    </tr>\n",
       "    <tr>\n",
       "      <th>796</th>\n",
       "      <td>Chaired a meeting of @DelhiAssembly's Committe...</td>\n",
       "      <td>chaired meeting delhiassembly's committee envi...</td>\n",
       "    </tr>\n",
       "    <tr>\n",
       "      <th>797</th>\n",
       "      <td>RT @MirrorNow: CM's personal &amp;amp; domestic st...</td>\n",
       "      <td>mirrornow: cm's personal domestic staff allowe...</td>\n",
       "    </tr>\n",
       "    <tr>\n",
       "      <th>798</th>\n",
       "      <td>RT @MirrorNow: Yesterday, CM @ArvindKejriwal w...</td>\n",
       "      <td>mirrornow: yesterday cm arvindkejriwal went ex...</td>\n",
       "    </tr>\n",
       "    <tr>\n",
       "      <th>799</th>\n",
       "      <td>RT @TimesNow: BJP is afraid of AAP leaders tak...</td>\n",
       "      <td>timesnow: bjp afraid aap leaders taking care p...</td>\n",
       "    </tr>\n",
       "  </tbody>\n",
       "</table>\n",
       "<p>800 rows × 2 columns</p>\n",
       "</div>"
      ],
      "text/plain": [
       "                                                  text                                     cleaned_tweets\n",
       "0    India marks #ParakramDivas and pays homage to ...  india marks #parakramdivas pays homage netaji ...\n",
       "1    On the way to Kolkata to mark #ParakarmDivas a...  way kolkata mark #parakarmdivas pay tributes n...\n",
       "2    सबका साथ सबका विकास, सबका विश्वास के मंत्र पर ...                                                   \n",
       "3    We are working towards Assam’s development bas...  working towards assams development based requi...\n",
       "4    To build an Aatmanirbhar Bharat, we have to fo...  build aatmanirbhar bharat focus rapid developm...\n",
       "..                                                 ...                                                ...\n",
       "795  Complacency towards the air quality of Delhi b...  complacency towards air quality delhi mcd tole...\n",
       "796  Chaired a meeting of @DelhiAssembly's Committe...  chaired meeting delhiassembly's committee envi...\n",
       "797  RT @MirrorNow: CM's personal &amp; domestic st...  mirrornow: cm's personal domestic staff allowe...\n",
       "798  RT @MirrorNow: Yesterday, CM @ArvindKejriwal w...  mirrornow: yesterday cm arvindkejriwal went ex...\n",
       "799  RT @TimesNow: BJP is afraid of AAP leaders tak...  timesnow: bjp afraid aap leaders taking care p...\n",
       "\n",
       "[800 rows x 2 columns]"
      ]
     },
     "execution_count": 13,
     "metadata": {
      "tags": []
     },
     "output_type": "execute_result"
    }
   ],
   "source": [
    "# viewing the tweets and the cleaned tweets\n",
    "tweet_df[['text', 'cleaned_tweets']]"
   ]
  },
  {
   "cell_type": "code",
   "execution_count": 15,
   "metadata": {
    "colab": {
     "base_uri": "https://localhost:8080/"
    },
    "id": "75nPH7n4rG5g",
    "outputId": "d5708bd8-d6a0-48af-a244-9679c862b5e5"
   },
   "outputs": [
    {
     "name": "stdout",
     "output_type": "stream",
     "text": [
      "Requirement already satisfied: wordcloud in /usr/local/lib/python3.7/dist-packages (1.5.0)\n",
      "Requirement already satisfied: pillow in /usr/local/lib/python3.7/dist-packages (from wordcloud) (7.0.0)\n",
      "Requirement already satisfied: numpy>=1.6.1 in /usr/local/lib/python3.7/dist-packages (from wordcloud) (1.19.5)\n",
      "Requirement already satisfied: matplotlib in /usr/local/lib/python3.7/dist-packages (3.2.2)\n",
      "Requirement already satisfied: pyparsing!=2.0.4,!=2.1.2,!=2.1.6,>=2.0.1 in /usr/local/lib/python3.7/dist-packages (from matplotlib) (2.4.7)\n",
      "Requirement already satisfied: kiwisolver>=1.0.1 in /usr/local/lib/python3.7/dist-packages (from matplotlib) (1.3.1)\n",
      "Requirement already satisfied: python-dateutil>=2.1 in /usr/local/lib/python3.7/dist-packages (from matplotlib) (2.8.1)\n",
      "Requirement already satisfied: numpy>=1.11 in /usr/local/lib/python3.7/dist-packages (from matplotlib) (1.19.5)\n",
      "Requirement already satisfied: cycler>=0.10 in /usr/local/lib/python3.7/dist-packages (from matplotlib) (0.10.0)\n",
      "Requirement already satisfied: six>=1.5 in /usr/local/lib/python3.7/dist-packages (from python-dateutil>=2.1->matplotlib) (1.15.0)\n"
     ]
    }
   ],
   "source": [
    "# word cloud to visualise most common words (doing this just to see if we can get good words for vocab)\n",
    "!pip install wordcloud\n",
    "!pip install matplotlib\n",
    "from wordcloud import  WordCloud\n",
    "import matplotlib.pyplot as plt\n",
    "\n"
   ]
  },
  {
   "cell_type": "code",
   "execution_count": 16,
   "metadata": {
    "colab": {
     "base_uri": "https://localhost:8080/",
     "height": 198
    },
    "id": "cE-tQyERRyNx",
    "outputId": "3b0898e2-5671-4e7b-8f1b-6b257a451748"
   },
   "outputs": [
    {
     "data": {
      "image/png": "[encoded data removed]",
      "text/plain": [
       "<Figure size 432x288 with 1 Axes>"
      ]
     },
     "metadata": {
      "needs_background": "light",
      "tags": []
     },
     "output_type": "display_data"
    }
   ],
   "source": [
    "words = tweet_df['cleaned_tweets'].values \n",
    "\n",
    "wordcloud = WordCloud().generate(str(words))\n",
    "\n",
    "plt.imshow(wordcloud)\n",
    "plt.axis(\"off\")\n",
    "plt.show()"
   ]
  }
 ],
 "metadata": {
  "accelerator": "GPU",
  "colab": {
   "authorship_tag": "ABX9TyN/ToZWI50ofOXPj6yol5Th",
   "include_colab_link": true,
   "name": "tweetpreprocess.ipynb",
   "provenance": []
  },
  "kernelspec": {
   "display_name": "Python 3",
   "language": "python",
   "name": "python3"
  },
  "language_info": {
   "codemirror_mode": {
    "name": "ipython",
    "version": 3
   },
   "file_extension": ".py",
   "mimetype": "text/x-python",
   "name": "python",
   "nbconvert_exporter": "python",
   "pygments_lexer": "ipython3",
   "version": "3.7.3"
  }
 },
 "nbformat": 4,
 "nbformat_minor": 1
}
